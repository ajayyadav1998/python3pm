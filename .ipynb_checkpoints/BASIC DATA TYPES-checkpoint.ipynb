{
 "cells": [
  {
   "cell_type": "code",
   "execution_count": 1,
   "metadata": {},
   "outputs": [
    {
     "name": "stdout",
     "output_type": "stream",
     "text": [
      "hello world\n"
     ]
    }
   ],
   "source": [
    "print('hello world')"
   ]
  },
  {
   "cell_type": "code",
   "execution_count": 2,
   "metadata": {},
   "outputs": [],
   "source": [
    "import random"
   ]
  },
  {
   "cell_type": "code",
   "execution_count": 3,
   "metadata": {},
   "outputs": [],
   "source": [
    "a = [random.randint(1,100) for var in range(100)]"
   ]
  },
  {
   "cell_type": "code",
   "execution_count": 5,
   "metadata": {},
   "outputs": [
    {
     "name": "stdout",
     "output_type": "stream",
     "text": [
      "[72, 2, 2, 45, 45, 20, 30, 10, 10, 44, 48, 78, 51, 71, 5, 2, 48, 6, 85, 90, 45, 59, 92, 68, 45, 22, 97, 78, 95, 52, 79, 69, 41, 16, 22, 92, 8, 94, 36, 92, 91, 34, 63, 22, 69, 53, 89, 44, 4, 88, 83, 14, 79, 99, 73, 53, 67, 97, 72, 45, 52, 97, 88, 28, 67, 45, 96, 53, 79, 69, 10, 89, 48, 83, 21, 81, 46, 2, 5, 1, 11, 90, 14, 75, 10, 43, 59, 45, 66, 33, 88, 48, 56, 55, 37, 2, 25, 87, 56, 8]\n"
     ]
    }
   ],
   "source": [
    "print(a)"
   ]
  },
  {
   "cell_type": "markdown",
   "metadata": {},
   "source": [
    "# BASIC DATA TYPES OF PYTHON"
   ]
  },
  {
   "cell_type": "markdown",
   "metadata": {},
   "source": [
    "# NUMBER \n",
    "INT , FLOAT , COMPLEX"
   ]
  },
  {
   "cell_type": "code",
   "execution_count": 6,
   "metadata": {},
   "outputs": [
    {
     "name": "stdout",
     "output_type": "stream",
     "text": [
      "5\n",
      "5\n"
     ]
    }
   ],
   "source": [
    "a = 5\n",
    "A = 5\n",
    "print(a)\n",
    "print(A)"
   ]
  },
  {
   "cell_type": "code",
   "execution_count": 8,
   "metadata": {},
   "outputs": [
    {
     "name": "stdout",
     "output_type": "stream",
     "text": [
      "type of a = <class 'int'>\n",
      "type of A =  <class 'int'>\n",
      "type of a = 1985047744\n",
      "type of A = 1985047744\n"
     ]
    }
   ],
   "source": [
    "print('type of a =',type(a))\n",
    "print('type of A = ',type(A))\n",
    "print('type of a =',id(a))\n",
    "print('type of A =',id(A))"
   ]
  },
  {
   "cell_type": "code",
   "execution_count": 22,
   "metadata": {},
   "outputs": [
    {
     "name": "stdout",
     "output_type": "stream",
     "text": [
      "5 6.5 (4.5+6j)\n",
      "5\t6.5\t(4.5+6j)\n",
      "<class 'int'>\n",
      "<class 'float'>\n",
      "<class 'complex'>\n"
     ]
    }
   ],
   "source": [
    "a = 5\n",
    "b = 6.5\n",
    "c = 4.5+6j\n",
    "print(a,b,c)\n",
    "print(a,b,c,sep='\\t')\n",
    "print(type(a),type(b),type(c),sep='\\n')"
   ]
  },
  {
   "cell_type": "code",
   "execution_count": 23,
   "metadata": {},
   "outputs": [
    {
     "name": "stdout",
     "output_type": "stream",
     "text": [
      "['__abs__', '__add__', '__and__', '__bool__', '__ceil__', '__class__', '__delattr__', '__dir__', '__divmod__', '__doc__', '__eq__', '__float__', '__floor__', '__floordiv__', '__format__', '__ge__', '__getattribute__', '__getnewargs__', '__gt__', '__hash__', '__index__', '__init__', '__init_subclass__', '__int__', '__invert__', '__le__', '__lshift__', '__lt__', '__mod__', '__mul__', '__ne__', '__neg__', '__new__', '__or__', '__pos__', '__pow__', '__radd__', '__rand__', '__rdivmod__', '__reduce__', '__reduce_ex__', '__repr__', '__rfloordiv__', '__rlshift__', '__rmod__', '__rmul__', '__ror__', '__round__', '__rpow__', '__rrshift__', '__rshift__', '__rsub__', '__rtruediv__', '__rxor__', '__setattr__', '__sizeof__', '__str__', '__sub__', '__subclasshook__', '__truediv__', '__trunc__', '__xor__', 'bit_length', 'conjugate', 'denominator', 'from_bytes', 'imag', 'numerator', 'real', 'to_bytes']\n"
     ]
    }
   ],
   "source": [
    "print(dir(a))"
   ]
  },
  {
   "cell_type": "code",
   "execution_count": 25,
   "metadata": {},
   "outputs": [],
   "source": [
    "a = 5"
   ]
  },
  {
   "cell_type": "code",
   "execution_count": 26,
   "metadata": {},
   "outputs": [
    {
     "data": {
      "text/plain": [
       "\"int(x=0) -> integer\\nint(x, base=10) -> integer\\n\\nConvert a number or string to an integer, or return 0 if no arguments\\nare given.  If x is a number, return x.__int__().  For floating point\\nnumbers, this truncates towards zero.\\n\\nIf x is not a number or if base is given, then x must be a string,\\nbytes, or bytearray instance representing an integer literal in the\\ngiven base.  The literal can be preceded by '+' or '-' and be surrounded\\nby whitespace.  The base defaults to 10.  Valid bases are 0 and 2-36.\\nBase 0 means to interpret the base from the string as an integer literal.\\n>>> int('0b100', base=0)\\n4\""
      ]
     },
     "execution_count": 26,
     "metadata": {},
     "output_type": "execute_result"
    }
   ],
   "source": [
    "a.__doc__"
   ]
  },
  {
   "cell_type": "code",
   "execution_count": 27,
   "metadata": {},
   "outputs": [
    {
     "data": {
      "text/plain": [
       "5"
      ]
     },
     "execution_count": 27,
     "metadata": {},
     "output_type": "execute_result"
    }
   ],
   "source": [
    "a "
   ]
  },
  {
   "cell_type": "code",
   "execution_count": 28,
   "metadata": {},
   "outputs": [
    {
     "data": {
      "text/plain": [
       "3"
      ]
     },
     "execution_count": 28,
     "metadata": {},
     "output_type": "execute_result"
    }
   ],
   "source": [
    "a.bit_length()"
   ]
  },
  {
   "cell_type": "code",
   "execution_count": 30,
   "metadata": {},
   "outputs": [
    {
     "data": {
      "text/plain": [
       "4"
      ]
     },
     "execution_count": 30,
     "metadata": {},
     "output_type": "execute_result"
    }
   ],
   "source": [
    "b = 10\n",
    "b.bit_length()"
   ]
  },
  {
   "cell_type": "code",
   "execution_count": 31,
   "metadata": {},
   "outputs": [
    {
     "data": {
      "text/plain": [
       "(4.5+6j)"
      ]
     },
     "execution_count": 31,
     "metadata": {},
     "output_type": "execute_result"
    }
   ],
   "source": [
    "c"
   ]
  },
  {
   "cell_type": "code",
   "execution_count": 32,
   "metadata": {},
   "outputs": [
    {
     "data": {
      "text/plain": [
       "(4.5-6j)"
      ]
     },
     "execution_count": 32,
     "metadata": {},
     "output_type": "execute_result"
    }
   ],
   "source": [
    "c.conjugate()"
   ]
  },
  {
   "cell_type": "code",
   "execution_count": 34,
   "metadata": {},
   "outputs": [
    {
     "data": {
      "text/plain": [
       "1"
      ]
     },
     "execution_count": 34,
     "metadata": {},
     "output_type": "execute_result"
    }
   ],
   "source": [
    "a.denominator"
   ]
  },
  {
   "cell_type": "code",
   "execution_count": 35,
   "metadata": {},
   "outputs": [
    {
     "data": {
      "text/plain": [
       "5"
      ]
     },
     "execution_count": 35,
     "metadata": {},
     "output_type": "execute_result"
    }
   ],
   "source": [
    "a.numerator"
   ]
  },
  {
   "cell_type": "code",
   "execution_count": 36,
   "metadata": {},
   "outputs": [
    {
     "data": {
      "text/plain": [
       "4.5"
      ]
     },
     "execution_count": 36,
     "metadata": {},
     "output_type": "execute_result"
    }
   ],
   "source": [
    "c.real"
   ]
  },
  {
   "cell_type": "code",
   "execution_count": 37,
   "metadata": {},
   "outputs": [
    {
     "data": {
      "text/plain": [
       "6.0"
      ]
     },
     "execution_count": 37,
     "metadata": {},
     "output_type": "execute_result"
    }
   ],
   "source": [
    "c.imag"
   ]
  },
  {
   "cell_type": "markdown",
   "metadata": {},
   "source": [
    "# Strings"
   ]
  },
  {
   "cell_type": "code",
   "execution_count": 41,
   "metadata": {},
   "outputs": [
    {
     "name": "stdout",
     "output_type": "stream",
     "text": [
      "the type a =  <class 'str'>\n",
      "1727003194544\n",
      "\n",
      "\n",
      "\n",
      "\n",
      "\n",
      "type of b <class 'str'>\n",
      "1727003194544\n"
     ]
    }
   ],
   "source": [
    "a = 'Hello world'\n",
    "b = a\n",
    "print('the type a = ',type(a))\n",
    "print(id(a))\n",
    "print(end='\\n\\n\\n\\n\\n')\n",
    "print('type of b',type(b))\n",
    "print(id(b))"
   ]
  },
  {
   "cell_type": "code",
   "execution_count": 44,
   "metadata": {},
   "outputs": [
    {
     "name": "stdout",
     "output_type": "stream",
     "text": [
      "uncle's\n"
     ]
    }
   ],
   "source": [
    "print(\"uncle's\")"
   ]
  },
  {
   "cell_type": "code",
   "execution_count": 45,
   "metadata": {},
   "outputs": [
    {
     "name": "stdout",
     "output_type": "stream",
     "text": [
      "uncle\"s\n"
     ]
    }
   ],
   "source": [
    "print('uncle\"s')"
   ]
  },
  {
   "cell_type": "code",
   "execution_count": 49,
   "metadata": {},
   "outputs": [
    {
     "name": "stdout",
     "output_type": "stream",
     "text": [
      "uncle\"s\n"
     ]
    }
   ],
   "source": [
    "print(\"uncle\\\"s\")"
   ]
  },
  {
   "cell_type": "code",
   "execution_count": 51,
   "metadata": {},
   "outputs": [
    {
     "name": "stdout",
     "output_type": "stream",
     "text": [
      "\\\n"
     ]
    }
   ],
   "source": [
    "print(\"\\\\\")"
   ]
  },
  {
   "cell_type": "code",
   "execution_count": 52,
   "metadata": {},
   "outputs": [
    {
     "name": "stdout",
     "output_type": "stream",
     "text": [
      "bharat \t mata \t ki \t jai\n"
     ]
    }
   ],
   "source": [
    "print('bharat \\t mata \\t ki \\t jai')"
   ]
  },
  {
   "cell_type": "code",
   "execution_count": 53,
   "metadata": {},
   "outputs": [
    {
     "name": "stdout",
     "output_type": "stream",
     "text": [
      "jai \n",
      " ho\n"
     ]
    }
   ],
   "source": [
    "print('jai \\n ho')"
   ]
  },
  {
   "cell_type": "code",
   "execution_count": 56,
   "metadata": {},
   "outputs": [
    {
     "name": "stdout",
     "output_type": "stream",
     "text": [
      "Python is awsome ,He said\n"
     ]
    }
   ],
   "source": [
    "a = 'Python is awsome ,' #concatenation\n",
    "b = 'He said'\n",
    "print(a+b)"
   ]
  },
  {
   "cell_type": "code",
   "execution_count": 58,
   "metadata": {},
   "outputs": [
    {
     "name": "stdout",
     "output_type": "stream",
     "text": [
      "python is teach by ajay yadav\n"
     ]
    }
   ],
   "source": [
    "print('python is teach by' + ' ajay yadav')"
   ]
  },
  {
   "cell_type": "code",
   "execution_count": 59,
   "metadata": {},
   "outputs": [
    {
     "data": {
      "text/plain": [
       "'hellohellohellohellohello'"
      ]
     },
     "execution_count": 59,
     "metadata": {},
     "output_type": "execute_result"
    }
   ],
   "source": [
    "a = 'hello'\n",
    "a*5"
   ]
  },
  {
   "cell_type": "code",
   "execution_count": 62,
   "metadata": {},
   "outputs": [
    {
     "name": "stdout",
     "output_type": "stream",
     "text": [
      "['__add__', '__class__', '__contains__', '__delattr__', '__dir__', '__doc__', '__eq__', '__format__', '__ge__', '__getattribute__', '__getitem__', '__getnewargs__', '__gt__', '__hash__', '__init__', '__init_subclass__', '__iter__', '__le__', '__len__', '__lt__', '__mod__', '__mul__', '__ne__', '__new__', '__reduce__', '__reduce_ex__', '__repr__', '__rmod__', '__rmul__', '__setattr__', '__sizeof__', '__str__', '__subclasshook__', 'capitalize', 'casefold', 'center', 'count', 'encode', 'endswith', 'expandtabs', 'find', 'format', 'format_map', 'index', 'isalnum', 'isalpha', 'isdecimal', 'isdigit', 'isidentifier', 'islower', 'isnumeric', 'isprintable', 'isspace', 'istitle', 'isupper', 'join', 'ljust', 'lower', 'lstrip', 'maketrans', 'partition', 'replace', 'rfind', 'rindex', 'rjust', 'rpartition', 'rsplit', 'rstrip', 'split', 'splitlines', 'startswith', 'strip', 'swapcase', 'title', 'translate', 'upper', 'zfill']\n"
     ]
    }
   ],
   "source": [
    "print(dir('hello'))"
   ]
  },
  {
   "cell_type": "code",
   "execution_count": 65,
   "metadata": {},
   "outputs": [
    {
     "data": {
      "text/plain": [
       "'Python is awsome,he said'"
      ]
     },
     "execution_count": 65,
     "metadata": {},
     "output_type": "execute_result"
    }
   ],
   "source": [
    "a = 'python is awsome,HE said'\n",
    "a.capitalize()"
   ]
  },
  {
   "cell_type": "code",
   "execution_count": 66,
   "metadata": {},
   "outputs": [
    {
     "data": {
      "text/plain": [
       "True"
      ]
     },
     "execution_count": 66,
     "metadata": {},
     "output_type": "execute_result"
    }
   ],
   "source": [
    "'hello'.casefold() == 'HELLO'.casefold()"
   ]
  },
  {
   "cell_type": "code",
   "execution_count": 67,
   "metadata": {},
   "outputs": [
    {
     "data": {
      "text/plain": [
       "False"
      ]
     },
     "execution_count": 67,
     "metadata": {},
     "output_type": "execute_result"
    }
   ],
   "source": [
    "'hello' == 'HELLO'"
   ]
  },
  {
   "cell_type": "code",
   "execution_count": 74,
   "metadata": {},
   "outputs": [
    {
     "name": "stdout",
     "output_type": "stream",
     "text": [
      "                   hello world                    \n",
      "50\n"
     ]
    }
   ],
   "source": [
    "b = 'hello world'\n",
    "c = b.center(50)\n",
    "print(c)\n",
    "print(len(c))"
   ]
  },
  {
   "cell_type": "code",
   "execution_count": 73,
   "metadata": {},
   "outputs": [
    {
     "data": {
      "text/plain": [
       "11"
      ]
     },
     "execution_count": 73,
     "metadata": {},
     "output_type": "execute_result"
    }
   ],
   "source": [
    "len(b)"
   ]
  },
  {
   "cell_type": "code",
   "execution_count": 80,
   "metadata": {},
   "outputs": [
    {
     "data": {
      "text/plain": [
       "'python is awsome,HE said'"
      ]
     },
     "execution_count": 80,
     "metadata": {},
     "output_type": "execute_result"
    }
   ],
   "source": [
    "x = a\n",
    "a"
   ]
  },
  {
   "cell_type": "code",
   "execution_count": 86,
   "metadata": {},
   "outputs": [
    {
     "name": "stdout",
     "output_type": "stream",
     "text": [
      "a =  2\n",
      "e =  1\n",
      "i =  2\n",
      "o =  2\n",
      "u =  0\n",
      "the sum of all the vowels =  7\n"
     ]
    }
   ],
   "source": [
    "a = x.count('a')\n",
    "e = x.count('e')\n",
    "i = x.count('i')\n",
    "o = x.count('o')\n",
    "u = x.count('u')\n",
    "#print(a,e,i,o,u,sep='\\n')\n",
    "print('a = ',a)\n",
    "print('e = ',e)\n",
    "print('i = ',i)\n",
    "print('o = ',o)\n",
    "print('u = ',u)\n",
    "print('the sum of all the vowels = ',a+e+i+o+u)"
   ]
  },
  {
   "cell_type": "code",
   "execution_count": null,
   "metadata": {},
   "outputs": [],
   "source": [
    "a = input()\n",
    "a"
   ]
  },
  {
   "cell_type": "code",
   "execution_count": 1,
   "metadata": {},
   "outputs": [
    {
     "name": "stdout",
     "output_type": "stream",
     "text": [
      "ajay yadav\n"
     ]
    }
   ],
   "source": [
    "print('ajay yadav')"
   ]
  },
  {
   "cell_type": "code",
   "execution_count": 1,
   "metadata": {},
   "outputs": [
    {
     "name": "stdout",
     "output_type": "stream",
     "text": [
      "['__add__', '__class__', '__contains__', '__delattr__', '__dir__', '__doc__', '__eq__', '__format__', '__ge__', '__getattribute__', '__getitem__', '__getnewargs__', '__gt__', '__hash__', '__init__', '__init_subclass__', '__iter__', '__le__', '__len__', '__lt__', '__mod__', '__mul__', '__ne__', '__new__', '__reduce__', '__reduce_ex__', '__repr__', '__rmod__', '__rmul__', '__setattr__', '__sizeof__', '__str__', '__subclasshook__', 'capitalize', 'casefold', 'center', 'count', 'encode', 'endswith', 'expandtabs', 'find', 'format', 'format_map', 'index', 'isalnum', 'isalpha', 'isdecimal', 'isdigit', 'isidentifier', 'islower', 'isnumeric', 'isprintable', 'isspace', 'istitle', 'isupper', 'join', 'ljust', 'lower', 'lstrip', 'maketrans', 'partition', 'replace', 'rfind', 'rindex', 'rjust', 'rpartition', 'rsplit', 'rstrip', 'split', 'splitlines', 'startswith', 'strip', 'swapcase', 'title', 'translate', 'upper', 'zfill']\n"
     ]
    }
   ],
   "source": [
    "print(dir(str))"
   ]
  },
  {
   "cell_type": "code",
   "execution_count": 3,
   "metadata": {},
   "outputs": [
    {
     "name": "stdout",
     "output_type": "stream",
     "text": [
      "<class 'str'>\n",
      "<class 'bytes'>\n"
     ]
    }
   ],
   "source": [
    "a= 'ajay yadava'\n",
    "print(type(a))\n",
    "b = a.encode('ascii')\n",
    "print(type(b))"
   ]
  },
  {
   "cell_type": "code",
   "execution_count": 4,
   "metadata": {},
   "outputs": [
    {
     "data": {
      "text/plain": [
       "True"
      ]
     },
     "execution_count": 4,
     "metadata": {},
     "output_type": "execute_result"
    }
   ],
   "source": [
    "a.endswith('a')"
   ]
  },
  {
   "cell_type": "code",
   "execution_count": 6,
   "metadata": {},
   "outputs": [
    {
     "data": {
      "text/plain": [
       "False"
      ]
     },
     "execution_count": 6,
     "metadata": {},
     "output_type": "execute_result"
    }
   ],
   "source": [
    "a.endswith('ajay')"
   ]
  },
  {
   "cell_type": "code",
   "execution_count": 9,
   "metadata": {},
   "outputs": [
    {
     "name": "stdout",
     "output_type": "stream",
     "text": [
      "jai                  ganesh              ji                  ki\n"
     ]
    }
   ],
   "source": [
    "a = 'jai \\t ganesh \\t ji \\t ki'\n",
    "print(a.expandtabs(20))"
   ]
  },
  {
   "cell_type": "code",
   "execution_count": 10,
   "metadata": {},
   "outputs": [],
   "source": [
    "a = 'all dogs are dogs and all cats are cats but some are soo cute'"
   ]
  },
  {
   "cell_type": "code",
   "execution_count": 11,
   "metadata": {},
   "outputs": [
    {
     "data": {
      "text/plain": [
       "'all dogs are dogs and all cats are cats but some are soo cute'"
      ]
     },
     "execution_count": 11,
     "metadata": {},
     "output_type": "execute_result"
    }
   ],
   "source": [
    "a"
   ]
  },
  {
   "cell_type": "code",
   "execution_count": 13,
   "metadata": {},
   "outputs": [
    {
     "data": {
      "text/plain": [
       "13"
      ]
     },
     "execution_count": 13,
     "metadata": {},
     "output_type": "execute_result"
    }
   ],
   "source": [
    "a.find('dogs',5)"
   ]
  },
  {
   "cell_type": "code",
   "execution_count": 14,
   "metadata": {},
   "outputs": [
    {
     "name": "stdout",
     "output_type": "stream",
     "text": [
      "Enter your name : atal\n",
      "enter you proffesion :politics\n",
      "atal was good person and he has good knowlege of politics\n"
     ]
    }
   ],
   "source": [
    "x = input('Enter your name : ')\n",
    "y  = input('enter you proffesion :')\n",
    "z = \"{} was good person and he has good knowlege of {}\".format(x,y)\n",
    "print(z)"
   ]
  },
  {
   "cell_type": "code",
   "execution_count": 16,
   "metadata": {},
   "outputs": [
    {
     "name": "stdout",
     "output_type": "stream",
     "text": [
      "Enter your name : sachin\n",
      "enter you proffesion :python\n",
      "python was good person and he has good knowlege of sachin\n"
     ]
    }
   ],
   "source": [
    "x = input('Enter your name : ')\n",
    "y  = input('enter you proffesion :')\n",
    "z = \"{} was good person and he has good knowlege of {}\".format(y,x)\n",
    "print(z)"
   ]
  },
  {
   "cell_type": "code",
   "execution_count": 17,
   "metadata": {},
   "outputs": [
    {
     "name": "stdout",
     "output_type": "stream",
     "text": [
      "Enter your name : rajesh\n",
      "enter you proffesion :grras\n",
      "rajesh was good person and he has good knowlege of grras\n"
     ]
    }
   ],
   "source": [
    "x = input('Enter your name : ')\n",
    "y  = input('enter you proffesion :')\n",
    "z = f\"{x} was good person and he has good knowlege of {y}\"\n",
    "print(z)"
   ]
  },
  {
   "cell_type": "code",
   "execution_count": 20,
   "metadata": {},
   "outputs": [
    {
     "name": "stdout",
     "output_type": "stream",
     "text": [
      "my first name ajay and my last name is yadav\n"
     ]
    }
   ],
   "source": [
    "a = {'a':'ajay','b':'yadav'}\n",
    "b = \"my first name {a} and my last name is {b}\".format_map(a)\n",
    "print(b)"
   ]
  },
  {
   "cell_type": "code",
   "execution_count": 21,
   "metadata": {},
   "outputs": [
    {
     "data": {
      "text/plain": [
       "14"
      ]
     },
     "execution_count": 21,
     "metadata": {},
     "output_type": "execute_result"
    }
   ],
   "source": [
    "b.index('ajay')"
   ]
  },
  {
   "cell_type": "code",
   "execution_count": 22,
   "metadata": {},
   "outputs": [
    {
     "data": {
      "text/plain": [
       "False"
      ]
     },
     "execution_count": 22,
     "metadata": {},
     "output_type": "execute_result"
    }
   ],
   "source": [
    "b.isalnum()"
   ]
  },
  {
   "cell_type": "code",
   "execution_count": 23,
   "metadata": {},
   "outputs": [
    {
     "data": {
      "text/plain": [
       "True"
      ]
     },
     "execution_count": 23,
     "metadata": {},
     "output_type": "execute_result"
    }
   ],
   "source": [
    "b = 'hello12345'\n",
    "b.isalnum()"
   ]
  },
  {
   "cell_type": "code",
   "execution_count": 24,
   "metadata": {},
   "outputs": [
    {
     "data": {
      "text/plain": [
       "False"
      ]
     },
     "execution_count": 24,
     "metadata": {},
     "output_type": "execute_result"
    }
   ],
   "source": [
    "b.isalpha()"
   ]
  },
  {
   "cell_type": "code",
   "execution_count": 27,
   "metadata": {},
   "outputs": [
    {
     "name": "stdout",
     "output_type": "stream",
     "text": [
      "True\n"
     ]
    }
   ],
   "source": [
    "a = 'hello'\n",
    "print(a.isalpha())"
   ]
  },
  {
   "cell_type": "code",
   "execution_count": 28,
   "metadata": {},
   "outputs": [
    {
     "data": {
      "text/plain": [
       "False"
      ]
     },
     "execution_count": 28,
     "metadata": {},
     "output_type": "execute_result"
    }
   ],
   "source": [
    "b.isdecimal()"
   ]
  },
  {
   "cell_type": "code",
   "execution_count": 29,
   "metadata": {},
   "outputs": [
    {
     "data": {
      "text/plain": [
       "False"
      ]
     },
     "execution_count": 29,
     "metadata": {},
     "output_type": "execute_result"
    }
   ],
   "source": [
    "b.isdigit()"
   ]
  },
  {
   "cell_type": "code",
   "execution_count": 30,
   "metadata": {},
   "outputs": [
    {
     "data": {
      "text/plain": [
       "True"
      ]
     },
     "execution_count": 30,
     "metadata": {},
     "output_type": "execute_result"
    }
   ],
   "source": [
    "y = '12345'\n",
    "y.isdigit()"
   ]
  },
  {
   "cell_type": "code",
   "execution_count": 31,
   "metadata": {},
   "outputs": [
    {
     "data": {
      "text/plain": [
       "True"
      ]
     },
     "execution_count": 31,
     "metadata": {},
     "output_type": "execute_result"
    }
   ],
   "source": [
    "b.isidentifier()"
   ]
  },
  {
   "cell_type": "code",
   "execution_count": 32,
   "metadata": {},
   "outputs": [
    {
     "data": {
      "text/plain": [
       "'hello12345'"
      ]
     },
     "execution_count": 32,
     "metadata": {},
     "output_type": "execute_result"
    }
   ],
   "source": [
    "b"
   ]
  },
  {
   "cell_type": "code",
   "execution_count": 36,
   "metadata": {},
   "outputs": [
    {
     "data": {
      "text/plain": [
       "'                                                            hello12345'"
      ]
     },
     "execution_count": 36,
     "metadata": {},
     "output_type": "execute_result"
    }
   ],
   "source": [
    "b.rjust(70)"
   ]
  },
  {
   "cell_type": "code",
   "execution_count": 37,
   "metadata": {},
   "outputs": [
    {
     "name": "stdout",
     "output_type": "stream",
     "text": [
      "Enter anything :             python is awsome                       \n",
      "'            python is awsome                       '\n",
      "'            python is awsome'\n",
      "'python is awsome                       '\n",
      "'python is awsome'\n"
     ]
    }
   ],
   "source": [
    "a = input('Enter anything : ')\n",
    "print('{!r}'.format(a))\n",
    "print('{!r}'.format(a.rstrip()))\n",
    "print('{!r}'.format(a.lstrip()))\n",
    "print('{!r}'.format(a.strip()))"
   ]
  },
  {
   "cell_type": "code",
   "execution_count": 38,
   "metadata": {},
   "outputs": [
    {
     "data": {
      "text/plain": [
       "'            python is awsome                       '"
      ]
     },
     "execution_count": 38,
     "metadata": {},
     "output_type": "execute_result"
    }
   ],
   "source": [
    "a"
   ]
  },
  {
   "cell_type": "code",
   "execution_count": 39,
   "metadata": {},
   "outputs": [
    {
     "data": {
      "text/plain": [
       "'I_am_coder'"
      ]
     },
     "execution_count": 39,
     "metadata": {},
     "output_type": "execute_result"
    }
   ],
   "source": [
    "'I am coder'.replace(' ','_')"
   ]
  },
  {
   "cell_type": "code",
   "execution_count": 42,
   "metadata": {},
   "outputs": [
    {
     "data": {
      "text/plain": [
       "14"
      ]
     },
     "execution_count": 42,
     "metadata": {},
     "output_type": "execute_result"
    }
   ],
   "source": [
    "a = \"good for good for\"\n",
    "a.rfind('for')"
   ]
  },
  {
   "cell_type": "code",
   "execution_count": 44,
   "metadata": {},
   "outputs": [
    {
     "data": {
      "text/plain": [
       "('', 'good', ' for good for')"
      ]
     },
     "execution_count": 44,
     "metadata": {},
     "output_type": "execute_result"
    }
   ],
   "source": [
    "a.partition('good')"
   ]
  },
  {
   "cell_type": "code",
   "execution_count": 48,
   "metadata": {},
   "outputs": [
    {
     "data": {
      "text/plain": [
       "['good', 'for', 'good', 'for']"
      ]
     },
     "execution_count": 48,
     "metadata": {},
     "output_type": "execute_result"
    }
   ],
   "source": [
    "b = a.split()\n",
    "b"
   ]
  },
  {
   "cell_type": "code",
   "execution_count": 52,
   "metadata": {},
   "outputs": [
    {
     "data": {
      "text/plain": [
       "'good*******for*******good*******for'"
      ]
     },
     "execution_count": 52,
     "metadata": {},
     "output_type": "execute_result"
    }
   ],
   "source": [
    "\"*******\".join(b)"
   ]
  },
  {
   "cell_type": "code",
   "execution_count": 53,
   "metadata": {},
   "outputs": [
    {
     "name": "stdout",
     "output_type": "stream",
     "text": [
      "['__add__', '__class__', '__contains__', '__delattr__', '__dir__', '__doc__', '__eq__', '__format__', '__ge__', '__getattribute__', '__getitem__', '__getnewargs__', '__gt__', '__hash__', '__init__', '__init_subclass__', '__iter__', '__le__', '__len__', '__lt__', '__mod__', '__mul__', '__ne__', '__new__', '__reduce__', '__reduce_ex__', '__repr__', '__rmod__', '__rmul__', '__setattr__', '__sizeof__', '__str__', '__subclasshook__', 'capitalize', 'casefold', 'center', 'count', 'encode', 'endswith', 'expandtabs', 'find', 'format', 'format_map', 'index', 'isalnum', 'isalpha', 'isdecimal', 'isdigit', 'isidentifier', 'islower', 'isnumeric', 'isprintable', 'isspace', 'istitle', 'isupper', 'join', 'ljust', 'lower', 'lstrip', 'maketrans', 'partition', 'replace', 'rfind', 'rindex', 'rjust', 'rpartition', 'rsplit', 'rstrip', 'split', 'splitlines', 'startswith', 'strip', 'swapcase', 'title', 'translate', 'upper', 'zfill']\n"
     ]
    }
   ],
   "source": [
    "print(dir(str))"
   ]
  },
  {
   "cell_type": "code",
   "execution_count": 65,
   "metadata": {},
   "outputs": [
    {
     "data": {
      "text/plain": [
       "'hello world'"
      ]
     },
     "execution_count": 65,
     "metadata": {},
     "output_type": "execute_result"
    }
   ],
   "source": [
    "a = 'HELLO WORLD'\n",
    "b = a.lower()\n",
    "b"
   ]
  },
  {
   "cell_type": "code",
   "execution_count": 66,
   "metadata": {},
   "outputs": [
    {
     "data": {
      "text/plain": [
       "'HELLO WORLD'"
      ]
     },
     "execution_count": 66,
     "metadata": {},
     "output_type": "execute_result"
    }
   ],
   "source": [
    "b.upper()"
   ]
  },
  {
   "cell_type": "code",
   "execution_count": 67,
   "metadata": {},
   "outputs": [],
   "source": [
    "i = 'what is the use of python in datascience'"
   ]
  },
  {
   "cell_type": "code",
   "execution_count": 68,
   "metadata": {},
   "outputs": [],
   "source": [
    "i =  i.title()"
   ]
  },
  {
   "cell_type": "code",
   "execution_count": 69,
   "metadata": {},
   "outputs": [
    {
     "data": {
      "text/plain": [
       "True"
      ]
     },
     "execution_count": 69,
     "metadata": {},
     "output_type": "execute_result"
    }
   ],
   "source": [
    "i.istitle()"
   ]
  },
  {
   "cell_type": "code",
   "execution_count": 71,
   "metadata": {},
   "outputs": [
    {
     "data": {
      "text/plain": [
       "'What Is The Use Of Python In Datascience'"
      ]
     },
     "execution_count": 71,
     "metadata": {},
     "output_type": "execute_result"
    }
   ],
   "source": [
    "i"
   ]
  },
  {
   "cell_type": "code",
   "execution_count": 64,
   "metadata": {},
   "outputs": [
    {
     "data": {
      "text/plain": [
       "'5'"
      ]
     },
     "execution_count": 64,
     "metadata": {},
     "output_type": "execute_result"
    }
   ],
   "source": [
    "str(a)"
   ]
  },
  {
   "cell_type": "code",
   "execution_count": 70,
   "metadata": {},
   "outputs": [
    {
     "data": {
      "text/plain": [
       "True"
      ]
     },
     "execution_count": 70,
     "metadata": {},
     "output_type": "execute_result"
    }
   ],
   "source": [
    "u = \"            \"\n",
    "u.isspace()"
   ]
  },
  {
   "cell_type": "code",
   "execution_count": 72,
   "metadata": {},
   "outputs": [],
   "source": [
    "p = 'wello horld'"
   ]
  },
  {
   "cell_type": "code",
   "execution_count": 75,
   "metadata": {},
   "outputs": [
    {
     "data": {
      "text/plain": [
       "{119: 104, 104: 119, 32: None}"
      ]
     },
     "execution_count": 75,
     "metadata": {},
     "output_type": "execute_result"
    }
   ],
   "source": [
    "s = 'wh' # string to change\n",
    "s1 = 'hw' # in what it to change\n",
    "s2 = ' '\n",
    "table = p.maketrans(s,s1,s2)\n",
    "table"
   ]
  },
  {
   "cell_type": "code",
   "execution_count": 76,
   "metadata": {},
   "outputs": [
    {
     "data": {
      "text/plain": [
       "'helloworld'"
      ]
     },
     "execution_count": 76,
     "metadata": {},
     "output_type": "execute_result"
    }
   ],
   "source": [
    "p.translate(table)"
   ]
  },
  {
   "cell_type": "code",
   "execution_count": 77,
   "metadata": {},
   "outputs": [
    {
     "data": {
      "text/plain": [
       "'i************am************coder'"
      ]
     },
     "execution_count": 77,
     "metadata": {},
     "output_type": "execute_result"
    }
   ],
   "source": [
    "'i am coder'.replace(' ','************')"
   ]
  },
  {
   "cell_type": "markdown",
   "metadata": {},
   "source": [
    "# List in python"
   ]
  },
  {
   "cell_type": "code",
   "execution_count": 1,
   "metadata": {},
   "outputs": [
    {
     "name": "stdout",
     "output_type": "stream",
     "text": [
      "<class 'list'>\n",
      "['ajay', 'sachin', 'vipul', 'rahul', 'mohit', 'abhishek', 'kayur', 'anup', 'akshay']\n"
     ]
    }
   ],
   "source": [
    "a = ['ajay','sachin','vipul','rahul','mohit','abhishek','kayur','anup','akshay']\n",
    "print(type(a))\n",
    "print(a)"
   ]
  },
  {
   "cell_type": "code",
   "execution_count": 2,
   "metadata": {},
   "outputs": [
    {
     "name": "stdout",
     "output_type": "stream",
     "text": [
      "[1, 2, 3, 4, 5, 6, 7, 8, 9]\n",
      "['a', 'b', 'c', 'd', 'e', 'f', 'g', 'h', 'i']\n",
      "<class 'list'>\n",
      "<class 'list'>\n"
     ]
    }
   ],
   "source": [
    "x  = [1,2,3,4,5,6,7,8,9] #int list\n",
    "y = ['a','b','c','d','e','f','g','h','i'] # str list\n",
    "print(x,y,sep='\\n')\n",
    "print(type(x))\n",
    "print(type(y))"
   ]
  },
  {
   "cell_type": "code",
   "execution_count": 3,
   "metadata": {},
   "outputs": [],
   "source": [
    "x = list(zip(x,y))"
   ]
  },
  {
   "cell_type": "code",
   "execution_count": 4,
   "metadata": {},
   "outputs": [
    {
     "name": "stdout",
     "output_type": "stream",
     "text": [
      "[(1, 'a'), (2, 'b'), (3, 'c'), (4, 'd'), (5, 'e'), (6, 'f'), (7, 'g'), (8, 'h'), (9, 'i')]\n"
     ]
    }
   ],
   "source": [
    "print(x)"
   ]
  },
  {
   "cell_type": "code",
   "execution_count": 6,
   "metadata": {},
   "outputs": [
    {
     "name": "stdout",
     "output_type": "stream",
     "text": [
      "(1, 'a')\n",
      "(2, 'b')\n",
      "(3, 'c')\n",
      "(4, 'd')\n",
      "(5, 'e')\n",
      "(6, 'f')\n",
      "(7, 'g')\n",
      "(8, 'h')\n",
      "(9, 'i')\n"
     ]
    }
   ],
   "source": [
    "for var in x:\n",
    "    print(var)"
   ]
  },
  {
   "cell_type": "code",
   "execution_count": 7,
   "metadata": {},
   "outputs": [
    {
     "name": "stdout",
     "output_type": "stream",
     "text": [
      "(0, 'a')\n",
      "(1, 'b')\n",
      "(2, 'c')\n",
      "(3, 'd')\n",
      "(4, 'e')\n",
      "(5, 'f')\n",
      "(6, 'g')\n",
      "(7, 'h')\n",
      "(8, 'i')\n"
     ]
    }
   ],
   "source": [
    "for var in enumerate(y):\n",
    "    print(var)"
   ]
  },
  {
   "cell_type": "code",
   "execution_count": 8,
   "metadata": {},
   "outputs": [
    {
     "name": "stdout",
     "output_type": "stream",
     "text": [
      "ello world\n"
     ]
    }
   ],
   "source": [
    "a = 'hello world'\n",
    "print(a[-10:100])"
   ]
  },
  {
   "cell_type": "code",
   "execution_count": 10,
   "metadata": {},
   "outputs": [
    {
     "name": "stdout",
     "output_type": "stream",
     "text": [
      "eh\n"
     ]
    }
   ],
   "source": [
    "print(a[-10:-100:-1])"
   ]
  },
  {
   "cell_type": "code",
   "execution_count": 11,
   "metadata": {},
   "outputs": [
    {
     "name": "stdout",
     "output_type": "stream",
     "text": [
      "l r\n"
     ]
    }
   ],
   "source": [
    "print(a[2:10:3])"
   ]
  },
  {
   "cell_type": "code",
   "execution_count": 14,
   "metadata": {},
   "outputs": [
    {
     "name": "stdout",
     "output_type": "stream",
     "text": [
      "[(1, 'a'), (2, 'b'), (3, 'c'), (4, 'd'), (5, 'e'), (6, 'f'), (7, 'g'), (8, 'h'), (9, 'i')]\n"
     ]
    }
   ],
   "source": [
    "print(x)"
   ]
  },
  {
   "cell_type": "code",
   "execution_count": 16,
   "metadata": {},
   "outputs": [
    {
     "data": {
      "text/plain": [
       "[(3, 'c'), (2, 'b'), (1, 'a')]"
      ]
     },
     "execution_count": 16,
     "metadata": {},
     "output_type": "execute_result"
    }
   ],
   "source": [
    "x[2::-1]"
   ]
  },
  {
   "cell_type": "code",
   "execution_count": 18,
   "metadata": {},
   "outputs": [
    {
     "data": {
      "text/plain": [
       "[(3, 'c'), (5, 'e'), (7, 'g'), (9, 'i')]"
      ]
     },
     "execution_count": 18,
     "metadata": {},
     "output_type": "execute_result"
    }
   ],
   "source": [
    "x[2::2]"
   ]
  },
  {
   "cell_type": "code",
   "execution_count": 19,
   "metadata": {},
   "outputs": [
    {
     "name": "stdout",
     "output_type": "stream",
     "text": [
      "[0, 1, 2, 3, 4, 5, 6, 7, 8, 9, 10, 11, 12, 13, 14, 15, 16, 17, 18, 19, 20, 21, 22, 23, 24, 25, 26, 27, 28, 29, 30, 31, 32, 33, 34, 35, 36, 37, 38, 39, 40, 41, 42, 43, 44, 45, 46, 47, 48, 49, 50, 51, 52, 53, 54, 55, 56, 57, 58, 59, 60, 61, 62, 63, 64, 65, 66, 67, 68, 69, 70, 71, 72, 73, 74, 75, 76, 77, 78, 79, 80, 81, 82, 83, 84, 85, 86, 87, 88, 89, 90, 91, 92, 93, 94, 95, 96, 97, 98, 99]\n"
     ]
    }
   ],
   "source": [
    "num = [var for var in range(100)]\n",
    "print(num)"
   ]
  },
  {
   "cell_type": "code",
   "execution_count": 22,
   "metadata": {},
   "outputs": [
    {
     "name": "stdout",
     "output_type": "stream",
     "text": [
      "[0, 2, 4, 6, 8, 10, 12, 14, 16, 18, 20, 22, 24, 26, 28, 30, 32, 34, 36, 38, 40, 42, 44, 46, 48, 50, 52, 54, 56, 58, 60, 62, 64, 66, 68, 70, 72, 74, 76, 78, 80, 82, 84, 86, 88, 90, 92, 94, 96, 98]\n",
      "\n",
      "[1, 3, 5, 7, 9, 11, 13, 15, 17, 19, 21, 23, 25, 27, 29, 31, 33, 35, 37, 39, 41, 43, 45, 47, 49, 51, 53, 55, 57, 59, 61, 63, 65, 67, 69, 71, 73, 75, 77, 79, 81, 83, 85, 87, 89, 91, 93, 95, 97, 99]\n",
      "\n",
      "[16, 20, 24, 28, 32, 36, 40, 44, 48, 52, 56, 60, 64, 68, 72, 76, 80, 84, 88, 92, 96]\n",
      "\n"
     ]
    }
   ],
   "source": [
    "even  = num[::2]\n",
    "odd = num[1::2]\n",
    "ran = num[4::4][3:]\n",
    "print(even,end='\\n\\n')\n",
    "print(odd,end='\\n\\n')\n",
    "print(ran,end='\\n\\n')"
   ]
  },
  {
   "cell_type": "code",
   "execution_count": 25,
   "metadata": {},
   "outputs": [
    {
     "data": {
      "text/plain": [
       "[16, 24, 32, 40, 48, 56, 64, 72, 80, 88, 96]"
      ]
     },
     "execution_count": 25,
     "metadata": {},
     "output_type": "execute_result"
    }
   ],
   "source": [
    "num[4::4][3::2]"
   ]
  },
  {
   "cell_type": "code",
   "execution_count": 26,
   "metadata": {},
   "outputs": [
    {
     "name": "stdout",
     "output_type": "stream",
     "text": [
      "['__add__', '__class__', '__contains__', '__delattr__', '__delitem__', '__dir__', '__doc__', '__eq__', '__format__', '__ge__', '__getattribute__', '__getitem__', '__gt__', '__hash__', '__iadd__', '__imul__', '__init__', '__init_subclass__', '__iter__', '__le__', '__len__', '__lt__', '__mul__', '__ne__', '__new__', '__reduce__', '__reduce_ex__', '__repr__', '__reversed__', '__rmul__', '__setattr__', '__setitem__', '__sizeof__', '__str__', '__subclasshook__', 'append', 'clear', 'copy', 'count', 'extend', 'index', 'insert', 'pop', 'remove', 'reverse', 'sort']\n"
     ]
    }
   ],
   "source": [
    "print(dir(list))"
   ]
  },
  {
   "cell_type": "code",
   "execution_count": 28,
   "metadata": {},
   "outputs": [
    {
     "name": "stdout",
     "output_type": "stream",
     "text": [
      "[1, 2, 3, 4, 5, 6, 7, 8, 'a', 'b', 'c', 'd', 'e', 'f']\n"
     ]
    }
   ],
   "source": [
    "a = [1,2,3,4,5,6,7,8] + ['a','b','c','d','e','f']  # addition of list\n",
    "print(a)"
   ]
  },
  {
   "cell_type": "code",
   "execution_count": 30,
   "metadata": {},
   "outputs": [
    {
     "name": "stdout",
     "output_type": "stream",
     "text": [
      "[1, 2, 3, 4, 5, 6, 7, 8, 'a', 'b', 'c', 'd', 'e', 'f', 1, 2, 3, 4, 5, 6, 7, 8, 'a', 'b', 'c', 'd', 'e', 'f']\n"
     ]
    }
   ],
   "source": [
    "print(a*2)"
   ]
  },
  {
   "cell_type": "code",
   "execution_count": 31,
   "metadata": {},
   "outputs": [
    {
     "ename": "TypeError",
     "evalue": "unsupported operand type(s) for ** or pow(): 'list' and 'int'",
     "output_type": "error",
     "traceback": [
      "\u001b[1;31m---------------------------------------------------------------------------\u001b[0m",
      "\u001b[1;31mTypeError\u001b[0m                                 Traceback (most recent call last)",
      "\u001b[1;32m<ipython-input-31-b6bb6569cdde>\u001b[0m in \u001b[0;36m<module>\u001b[1;34m()\u001b[0m\n\u001b[1;32m----> 1\u001b[1;33m \u001b[0mprint\u001b[0m\u001b[1;33m(\u001b[0m\u001b[0ma\u001b[0m\u001b[1;33m**\u001b[0m\u001b[1;36m2\u001b[0m\u001b[1;33m)\u001b[0m\u001b[1;33m\u001b[0m\u001b[0m\n\u001b[0m",
      "\u001b[1;31mTypeError\u001b[0m: unsupported operand type(s) for ** or pow(): 'list' and 'int'"
     ]
    }
   ],
   "source": [
    "print(a**2)"
   ]
  },
  {
   "cell_type": "code",
   "execution_count": 33,
   "metadata": {},
   "outputs": [
    {
     "name": "stdout",
     "output_type": "stream",
     "text": [
      "1\n",
      "4\n",
      "9\n",
      "16\n",
      "25\n",
      "36\n",
      "49\n",
      "64\n",
      "81\n"
     ]
    }
   ],
   "source": [
    "b = [1,2,3,4,5,6,7,8,9]\n",
    "for var in b:\n",
    "    print(var**2)"
   ]
  },
  {
   "cell_type": "code",
   "execution_count": 36,
   "metadata": {},
   "outputs": [
    {
     "name": "stdout",
     "output_type": "stream",
     "text": [
      "[1, 2, 3, 4, 5, 6, 7, 8, 9, 'ajay', 'ajay']\n"
     ]
    }
   ],
   "source": [
    "b.append('ajay')\n",
    "print(b)"
   ]
  },
  {
   "cell_type": "code",
   "execution_count": 37,
   "metadata": {},
   "outputs": [
    {
     "name": "stdout",
     "output_type": "stream",
     "text": [
      "[1, 2, 3, 4, 5, 6, 7, 8, 9, 'ajay', 'ajay', ['ajay', 'python', 'mohit']]\n"
     ]
    }
   ],
   "source": [
    "b.append(['ajay','python','mohit'])\n",
    "print(b)"
   ]
  },
  {
   "cell_type": "code",
   "execution_count": 38,
   "metadata": {},
   "outputs": [
    {
     "name": "stdout",
     "output_type": "stream",
     "text": [
      "[1, 2, 3, 4, 5, 6, 7, 8, 9, 'ajay', 'ajay', ['ajay', 'python', 'mohit'], ('anup', 'umesh', 'bhasker')]\n"
     ]
    }
   ],
   "source": [
    "b.append(('anup','umesh','bhasker'))\n",
    "print(b)"
   ]
  },
  {
   "cell_type": "code",
   "execution_count": 39,
   "metadata": {},
   "outputs": [
    {
     "name": "stdout",
     "output_type": "stream",
     "text": [
      "1\n",
      "2\n",
      "3\n",
      "4\n",
      "5\n",
      "6\n",
      "7\n",
      "8\n",
      "9\n",
      "ajay\n",
      "ajay\n",
      "['ajay', 'python', 'mohit']\n",
      "('anup', 'umesh', 'bhasker')\n"
     ]
    }
   ],
   "source": [
    "for var in b:\n",
    "    print(var)"
   ]
  },
  {
   "cell_type": "code",
   "execution_count": 41,
   "metadata": {},
   "outputs": [
    {
     "data": {
      "text/plain": [
       "'bhasker'"
      ]
     },
     "execution_count": 41,
     "metadata": {},
     "output_type": "execute_result"
    }
   ],
   "source": [
    "b[-1][2]"
   ]
  },
  {
   "cell_type": "code",
   "execution_count": 43,
   "metadata": {},
   "outputs": [
    {
     "data": {
      "text/plain": [
       "['python', 'mohit']"
      ]
     },
     "execution_count": 43,
     "metadata": {},
     "output_type": "execute_result"
    }
   ],
   "source": [
    "b[-2][1:]"
   ]
  },
  {
   "cell_type": "code",
   "execution_count": 44,
   "metadata": {},
   "outputs": [],
   "source": [
    "for var in range(10):\n",
    "    b.append(var)"
   ]
  },
  {
   "cell_type": "code",
   "execution_count": 45,
   "metadata": {},
   "outputs": [
    {
     "name": "stdout",
     "output_type": "stream",
     "text": [
      "[1, 2, 3, 4, 5, 6, 7, 8, 9, 'ajay', 'ajay', ['ajay', 'python', 'mohit'], ('anup', 'umesh', 'bhasker'), 0, 1, 2, 3, 4, 5, 6, 7, 8, 9]\n"
     ]
    }
   ],
   "source": [
    "print(b)"
   ]
  },
  {
   "cell_type": "code",
   "execution_count": 46,
   "metadata": {},
   "outputs": [],
   "source": [
    "b_new = b"
   ]
  },
  {
   "cell_type": "code",
   "execution_count": 48,
   "metadata": {},
   "outputs": [
    {
     "name": "stdout",
     "output_type": "stream",
     "text": [
      "[1, 2, 3, 4, 5, 6, 7, 8, 9, 'ajay', 'ajay', ['ajay', 'python', 'mohit'], ('anup', 'umesh', 'bhasker'), 0, 1, 2, 3, 4, 5, 6, 7, 8, 9]\n",
      "\n",
      "[1, 2, 3, 4, 5, 6, 7, 8, 9, 'ajay', 'ajay', ['ajay', 'python', 'mohit'], ('anup', 'umesh', 'bhasker'), 0, 1, 2, 3, 4, 5, 6, 7, 8, 9]\n"
     ]
    }
   ],
   "source": [
    "print(b,b_new,sep='\\n\\n')"
   ]
  },
  {
   "cell_type": "code",
   "execution_count": 49,
   "metadata": {},
   "outputs": [
    {
     "name": "stdout",
     "output_type": "stream",
     "text": [
      "1775981342536\n",
      "1775981342536\n"
     ]
    }
   ],
   "source": [
    "print(id(b))\n",
    "print(id(b_new))"
   ]
  },
  {
   "cell_type": "code",
   "execution_count": 51,
   "metadata": {},
   "outputs": [
    {
     "name": "stdout",
     "output_type": "stream",
     "text": [
      "1775981949128\n",
      "1775981342536\n",
      "[1, 2, 3, 4, 5, 6, 7, 8, 9, 'ajay', 'ajay', ['ajay', 'python', 'mohit'], ('anup', 'umesh', 'bhasker'), 0, 1, 2, 3, 4, 5, 6, 7, 8, 9]\n",
      "\n",
      "[1, 2, 3, 4, 5, 6, 7, 8, 9, 'ajay', 'ajay', ['ajay', 'python', 'mohit'], ('anup', 'umesh', 'bhasker'), 0, 1, 2, 3, 4, 5, 6, 7, 8, 9]\n"
     ]
    }
   ],
   "source": [
    "li = b.copy()\n",
    "print(id(li))\n",
    "print(id(b))\n",
    "print(li,b,sep='\\n\\n')"
   ]
  },
  {
   "cell_type": "code",
   "execution_count": 52,
   "metadata": {},
   "outputs": [],
   "source": [
    "b.clear()"
   ]
  },
  {
   "cell_type": "code",
   "execution_count": 53,
   "metadata": {},
   "outputs": [
    {
     "data": {
      "text/plain": [
       "[]"
      ]
     },
     "execution_count": 53,
     "metadata": {},
     "output_type": "execute_result"
    }
   ],
   "source": [
    "b"
   ]
  },
  {
   "cell_type": "code",
   "execution_count": 54,
   "metadata": {},
   "outputs": [
    {
     "data": {
      "text/plain": [
       "[]"
      ]
     },
     "execution_count": 54,
     "metadata": {},
     "output_type": "execute_result"
    }
   ],
   "source": [
    "b_new"
   ]
  },
  {
   "cell_type": "code",
   "execution_count": 56,
   "metadata": {},
   "outputs": [
    {
     "name": "stdout",
     "output_type": "stream",
     "text": [
      "[1, 2, 3, 4, 5, 6, 7, 8, 9, 'ajay', 'ajay', ['ajay', 'python', 'mohit'], ('anup', 'umesh', 'bhasker'), 0, 1, 2, 3, 4, 5, 6, 7, 8, 9]\n"
     ]
    }
   ],
   "source": [
    "print(li)"
   ]
  },
  {
   "cell_type": "code",
   "execution_count": 63,
   "metadata": {},
   "outputs": [
    {
     "data": {
      "text/plain": [
       "2"
      ]
     },
     "execution_count": 63,
     "metadata": {},
     "output_type": "execute_result"
    }
   ],
   "source": [
    "li.count('ajay')"
   ]
  },
  {
   "cell_type": "code",
   "execution_count": 65,
   "metadata": {},
   "outputs": [
    {
     "data": {
      "text/plain": [
       "1"
      ]
     },
     "execution_count": 65,
     "metadata": {},
     "output_type": "execute_result"
    }
   ],
   "source": [
    "li[11].count('ajay')"
   ]
  },
  {
   "cell_type": "code",
   "execution_count": 66,
   "metadata": {},
   "outputs": [
    {
     "name": "stdout",
     "output_type": "stream",
     "text": [
      "[1, 2, 3, 4, 5, 6, 7, 8, 9, 'ajay', 'ajay', ['ajay', 'python', 'mohit'], ('anup', 'umesh', 'bhasker'), 0, 1, 2, 3, 4, 5, 6, 7, 8, 9, 'python', 'rahul', 'aditya', 'kayur', 'akshay', 'anup']\n"
     ]
    }
   ],
   "source": [
    "li.extend(['python','rahul','aditya','kayur','akshay','anup'])\n",
    "print(li)"
   ]
  },
  {
   "cell_type": "code",
   "execution_count": 67,
   "metadata": {},
   "outputs": [
    {
     "data": {
      "text/plain": [
       "['python', 'is', 'awsome', 'he', 'said']"
      ]
     },
     "execution_count": 67,
     "metadata": {},
     "output_type": "execute_result"
    }
   ],
   "source": [
    "['python','is','awsome'] + ['he','said']"
   ]
  },
  {
   "cell_type": "code",
   "execution_count": 72,
   "metadata": {},
   "outputs": [
    {
     "ename": "ValueError",
     "evalue": "'ajay' is not in list",
     "output_type": "error",
     "traceback": [
      "\u001b[1;31m---------------------------------------------------------------------------\u001b[0m",
      "\u001b[1;31mValueError\u001b[0m                                Traceback (most recent call last)",
      "\u001b[1;32m<ipython-input-72-7db89c4c5100>\u001b[0m in \u001b[0;36m<module>\u001b[1;34m()\u001b[0m\n\u001b[1;32m----> 1\u001b[1;33m \u001b[0mli\u001b[0m\u001b[1;33m.\u001b[0m\u001b[0mindex\u001b[0m\u001b[1;33m(\u001b[0m\u001b[1;34m'ajay'\u001b[0m\u001b[1;33m,\u001b[0m\u001b[1;36m11\u001b[0m\u001b[1;33m)\u001b[0m\u001b[1;33m\u001b[0m\u001b[0m\n\u001b[0m",
      "\u001b[1;31mValueError\u001b[0m: 'ajay' is not in list"
     ]
    }
   ],
   "source": [
    "li.index('ajay',11)"
   ]
  },
  {
   "cell_type": "code",
   "execution_count": 73,
   "metadata": {},
   "outputs": [],
   "source": [
    "li.insert(2,'python')"
   ]
  },
  {
   "cell_type": "code",
   "execution_count": 75,
   "metadata": {},
   "outputs": [
    {
     "name": "stdout",
     "output_type": "stream",
     "text": [
      "[1, 2, 'python', 3, 4, 5, 6, 7, 8, 9, 'ajay', 'ajay', ['ajay', 'python', 'mohit'], ('anup', 'umesh', 'bhasker'), 0, 1, 2, 3, 4, 5, 6, 7, 8, 9, 'python', 'rahul', 'aditya', 'kayur', 'akshay', 'anup']\n"
     ]
    }
   ],
   "source": [
    "print(li)"
   ]
  },
  {
   "cell_type": "code",
   "execution_count": 76,
   "metadata": {},
   "outputs": [
    {
     "data": {
      "text/plain": [
       "'anup'"
      ]
     },
     "execution_count": 76,
     "metadata": {},
     "output_type": "execute_result"
    }
   ],
   "source": [
    "li.pop()"
   ]
  },
  {
   "cell_type": "code",
   "execution_count": 77,
   "metadata": {},
   "outputs": [
    {
     "name": "stdout",
     "output_type": "stream",
     "text": [
      "[1, 2, 'python', 3, 4, 5, 6, 7, 8, 9, 'ajay', 'ajay', ['ajay', 'python', 'mohit'], ('anup', 'umesh', 'bhasker'), 0, 1, 2, 3, 4, 5, 6, 7, 8, 9, 'python', 'rahul', 'aditya', 'kayur', 'akshay']\n"
     ]
    }
   ],
   "source": [
    "print(li)"
   ]
  },
  {
   "cell_type": "code",
   "execution_count": 78,
   "metadata": {},
   "outputs": [
    {
     "data": {
      "text/plain": [
       "'akshay'"
      ]
     },
     "execution_count": 78,
     "metadata": {},
     "output_type": "execute_result"
    }
   ],
   "source": [
    "li.pop()"
   ]
  },
  {
   "cell_type": "code",
   "execution_count": 80,
   "metadata": {},
   "outputs": [
    {
     "data": {
      "text/plain": [
       "'python'"
      ]
     },
     "execution_count": 80,
     "metadata": {},
     "output_type": "execute_result"
    }
   ],
   "source": [
    "li.pop(2)"
   ]
  },
  {
   "cell_type": "code",
   "execution_count": 81,
   "metadata": {},
   "outputs": [
    {
     "name": "stdout",
     "output_type": "stream",
     "text": [
      "[1, 2, 3, 4, 5, 6, 7, 8, 9, 'ajay', 'ajay', ['ajay', 'python', 'mohit'], ('anup', 'umesh', 'bhasker'), 0, 1, 2, 3, 4, 5, 6, 7, 8, 9, 'python', 'rahul', 'aditya', 'kayur']\n"
     ]
    }
   ],
   "source": [
    "print(li)"
   ]
  },
  {
   "cell_type": "code",
   "execution_count": 82,
   "metadata": {},
   "outputs": [],
   "source": [
    "li.remove('ajay')"
   ]
  },
  {
   "cell_type": "code",
   "execution_count": 83,
   "metadata": {},
   "outputs": [
    {
     "name": "stdout",
     "output_type": "stream",
     "text": [
      "[1, 2, 3, 4, 5, 6, 7, 8, 9, 'ajay', ['ajay', 'python', 'mohit'], ('anup', 'umesh', 'bhasker'), 0, 1, 2, 3, 4, 5, 6, 7, 8, 9, 'python', 'rahul', 'aditya', 'kayur']\n"
     ]
    }
   ],
   "source": [
    "print(li)"
   ]
  },
  {
   "cell_type": "code",
   "execution_count": 84,
   "metadata": {},
   "outputs": [],
   "source": [
    "li.remove('ajay')"
   ]
  },
  {
   "cell_type": "code",
   "execution_count": 86,
   "metadata": {},
   "outputs": [
    {
     "name": "stdout",
     "output_type": "stream",
     "text": [
      "[1, 2, 3, 4, 5, 6, 7, 8, 9, ['ajay', 'python', 'mohit'], ('anup', 'umesh', 'bhasker'), 0, 1, 2, 3, 4, 5, 6, 7, 8, 9, 'python', 'rahul', 'aditya', 'kayur']\n"
     ]
    }
   ],
   "source": [
    "print(li)"
   ]
  },
  {
   "cell_type": "code",
   "execution_count": 87,
   "metadata": {},
   "outputs": [
    {
     "name": "stdout",
     "output_type": "stream",
     "text": [
      "['kayur', 'aditya', 'rahul', 'python', 9, 8, 7, 6, 5, 4, 3, 2, 1, 0, ('anup', 'umesh', 'bhasker'), ['ajay', 'python', 'mohit'], 9, 8, 7, 6, 5, 4, 3, 2, 1]\n"
     ]
    }
   ],
   "source": [
    "li.reverse()\n",
    "print(li)"
   ]
  },
  {
   "cell_type": "code",
   "execution_count": 89,
   "metadata": {},
   "outputs": [],
   "source": [
    "import random "
   ]
  },
  {
   "cell_type": "code",
   "execution_count": 90,
   "metadata": {},
   "outputs": [
    {
     "name": "stdout",
     "output_type": "stream",
     "text": [
      "[32, 53, 21, 49, 6, 100, 28, 95, 92, 39, 57, 7, 54, 92, 87, 35, 92, 61, 23, 32, 53, 69, 24, 17, 99, 36, 73, 26, 52, 30, 55, 58, 81, 58, 55, 42, 16, 13, 76, 91, 28, 19, 33, 28, 76, 77, 16, 23, 19, 23, 33, 76, 79, 53, 95, 11, 32, 98, 74, 63, 29, 94, 38, 52, 97, 100, 91, 86, 4, 35, 17, 39, 45, 78, 85, 94, 18, 61, 77, 87, 13, 56, 53, 15, 21, 98, 37, 89, 48, 80, 13, 64, 76, 98, 10, 96, 68, 40, 78, 55]\n"
     ]
    }
   ],
   "source": [
    "lis = [random.randint(1,100) for var in range(100)]\n",
    "print(lis)"
   ]
  },
  {
   "cell_type": "code",
   "execution_count": 97,
   "metadata": {},
   "outputs": [
    {
     "name": "stdout",
     "output_type": "stream",
     "text": [
      "[4, 6, 7, 10, 11, 13, 13, 13, 15, 16, 16, 17, 17, 18, 19, 19, 21, 21, 23, 23, 23, 24, 26, 28, 28, 28, 29, 30, 32, 32, 32, 33, 33, 35, 35, 36, 37, 38, 39, 39, 40, 42, 45, 48, 49, 52, 52, 53, 53, 53, 53, 54, 55, 55, 55, 56, 57, 58, 58, 61, 61, 63, 64, 68, 69, 73, 74, 76, 76, 76, 76, 77, 77, 78, 78, 79, 80, 81, 85, 86, 87, 87, 89, 91, 91, 92, 92, 92, 94, 94, 95, 95, 96, 97, 98, 98, 98, 99, 100, 100]\n"
     ]
    }
   ],
   "source": [
    "lis.sort()\n",
    "print(lis)"
   ]
  },
  {
   "cell_type": "code",
   "execution_count": 98,
   "metadata": {},
   "outputs": [
    {
     "name": "stdout",
     "output_type": "stream",
     "text": [
      "[100, 100, 99, 98, 98, 98, 97, 96, 95, 95, 94, 94, 92, 92, 92, 91, 91, 89, 87, 87, 86, 85, 81, 80, 79, 78, 78, 77, 77, 76, 76, 76, 76, 74, 73, 69, 68, 64, 63, 61, 61, 58, 58, 57, 56, 55, 55, 55, 54, 53, 53, 53, 53, 52, 52, 49, 48, 45, 42, 40, 39, 39, 38, 37, 36, 35, 35, 33, 33, 32, 32, 32, 30, 29, 28, 28, 28, 26, 24, 23, 23, 23, 21, 21, 19, 19, 18, 17, 17, 16, 16, 15, 13, 13, 13, 11, 10, 7, 6, 4]\n"
     ]
    }
   ],
   "source": [
    "lis.sort(reverse=True)\n",
    "print(lis)"
   ]
  },
  {
   "cell_type": "code",
   "execution_count": 101,
   "metadata": {},
   "outputs": [
    {
     "name": "stdout",
     "output_type": "stream",
     "text": [
      "[4, 6, 7, 10, 11, 13, 13, 13, 15, 16, 16, 17, 17, 18, 19, 19, 21, 21, 23, 23, 23, 24, 26, 28, 28, 28, 29, 30, 32, 32, 32, 33, 33, 35, 35, 36, 37, 38, 39, 39, 40, 42, 45, 48, 49, 52, 52, 53, 53, 53, 53, 54, 55, 55, 55, 56, 57, 58, 58, 61, 61, 63, 64, 68, 69, 73, 74, 76, 76, 76, 76, 77, 77, 78, 78, 79, 80, 81, 85, 86, 87, 87, 89, 91, 91, 92, 92, 92, 94, 94, 95, 95, 96, 97, 98, 98, 98, 99, 100, 100]\n"
     ]
    }
   ],
   "source": [
    "print(sorted(lis))"
   ]
  },
  {
   "cell_type": "code",
   "execution_count": 103,
   "metadata": {},
   "outputs": [
    {
     "name": "stdout",
     "output_type": "stream",
     "text": [
      "[100, 100, 99, 98, 98, 98, 97, 96, 95, 95, 94, 94, 92, 92, 92, 91, 91, 89, 87, 87, 86, 85, 81, 80, 79, 78, 78, 77, 77, 76, 76, 76, 76, 74, 73, 69, 68, 64, 63, 61, 61, 58, 58, 57, 56, 55, 55, 55, 54, 53, 53, 53, 53, 52, 52, 49, 48, 45, 42, 40, 39, 39, 38, 37, 36, 35, 35, 33, 33, 32, 32, 32, 30, 29, 28, 28, 28, 26, 24, 23, 23, 23, 21, 21, 19, 19, 18, 17, 17, 16, 16, 15, 13, 13, 13, 11, 10, 7, 6, 4]\n"
     ]
    }
   ],
   "source": [
    "print(lis)"
   ]
  },
  {
   "cell_type": "code",
   "execution_count": 105,
   "metadata": {},
   "outputs": [
    {
     "name": "stdout",
     "output_type": "stream",
     "text": [
      "Names = [0]ajay\n",
      "Names = [1]python\n",
      "Names = [2]jeet\n",
      "Names = [3]umesh\n",
      "Names = [4]anup\n",
      "Names = [5]rahul\n",
      "Names = [6]prince\n",
      "Names = [7]bhasker\n",
      "Names = [8]akshay\n",
      "Names = [9]shardool\n",
      "Names = [10]kayur\n",
      "Names = [11]bharat\n"
     ]
    }
   ],
   "source": [
    "name=  [input(f'Names = [{counter}]') for counter in range(12)]"
   ]
  },
  {
   "cell_type": "code",
   "execution_count": 108,
   "metadata": {},
   "outputs": [
    {
     "name": "stdout",
     "output_type": "stream",
     "text": [
      "['ajay', 'python', 'jeet', 'umesh', 'anup', 'rahul', 'prince', 'bhasker', 'akshay', 'shardool', 'kayur', 'bharat']\n"
     ]
    }
   ],
   "source": [
    "print(name)"
   ]
  },
  {
   "cell_type": "code",
   "execution_count": 109,
   "metadata": {},
   "outputs": [
    {
     "name": "stdout",
     "output_type": "stream",
     "text": [
      "ajay\tpython\tjeet\tumesh\tanup\trahul\tprince\tbhasker\takshay\tshardool\tkayur\tbharat\n"
     ]
    }
   ],
   "source": [
    "print(*name,sep='\\t')"
   ]
  },
  {
   "cell_type": "code",
   "execution_count": 120,
   "metadata": {},
   "outputs": [],
   "source": [
    "samp = [random.sample(range(1,100),90) for var in range(50) ]"
   ]
  },
  {
   "cell_type": "code",
   "execution_count": 121,
   "metadata": {},
   "outputs": [
    {
     "name": "stdout",
     "output_type": "stream",
     "text": [
      "[[40, 55, 23, 56, 19, 13, 96, 71, 34, 85, 86, 14, 35, 76, 58, 61, 51, 63, 91, 6, 25, 48, 41, 77, 15, 54, 46, 3, 9, 88, 79, 39, 59, 43, 97, 24, 53, 30, 87, 36, 12, 18, 83, 57, 2, 64, 70, 99, 80, 33, 62, 37, 1, 95, 7, 22, 38, 73, 5, 68, 26, 42, 60, 16, 93, 20, 72, 45, 28, 44, 8, 27, 94, 65, 98, 31, 11, 10, 52, 29, 32, 4, 75, 17, 92, 90, 49, 84, 89, 66], [47, 72, 18, 89, 14, 43, 87, 39, 79, 81, 27, 96, 1, 49, 59, 32, 61, 86, 7, 16, 95, 28, 46, 25, 12, 44, 41, 77, 82, 99, 69, 11, 48, 73, 83, 37, 84, 45, 93, 53, 75, 20, 71, 23, 90, 57, 31, 22, 19, 85, 88, 58, 5, 92, 66, 70, 56, 35, 50, 6, 38, 65, 42, 52, 17, 74, 36, 29, 3, 21, 15, 62, 2, 67, 55, 63, 60, 13, 30, 34, 80, 78, 98, 76, 54, 94, 64, 26, 40, 9], [41, 36, 87, 35, 56, 7, 18, 44, 32, 88, 3, 11, 59, 84, 13, 93, 86, 65, 98, 12, 94, 24, 68, 9, 34, 43, 51, 63, 20, 54, 66, 61, 83, 42, 23, 21, 49, 85, 46, 50, 40, 48, 16, 69, 90, 82, 77, 22, 19, 91, 27, 52, 2, 74, 76, 57, 81, 97, 47, 8, 39, 67, 70, 1, 92, 28, 55, 30, 5, 31, 45, 95, 64, 10, 33, 29, 15, 26, 6, 14, 73, 78, 99, 80, 79, 4, 60, 96, 75, 71], [86, 59, 97, 60, 51, 11, 36, 25, 76, 46, 55, 79, 87, 5, 2, 52, 3, 69, 45, 35, 78, 57, 20, 75, 23, 56, 4, 14, 74, 72, 67, 18, 28, 95, 61, 42, 22, 85, 38, 16, 19, 80, 62, 94, 9, 66, 64, 92, 15, 40, 21, 1, 32, 83, 30, 73, 48, 24, 13, 91, 54, 37, 49, 33, 12, 44, 41, 34, 7, 43, 53, 6, 77, 50, 89, 90, 65, 88, 8, 81, 70, 93, 84, 47, 58, 26, 39, 96, 63, 31], [62, 60, 32, 45, 67, 16, 88, 69, 50, 59, 41, 65, 31, 8, 99, 89, 15, 81, 71, 84, 68, 12, 87, 80, 78, 76, 21, 96, 57, 7, 20, 19, 72, 58, 2, 3, 55, 24, 98, 94, 1, 10, 93, 91, 35, 26, 13, 11, 23, 61, 64, 97, 83, 74, 77, 37, 95, 54, 6, 52, 42, 29, 17, 75, 18, 63, 36, 79, 38, 51, 49, 48, 86, 92, 44, 27, 30, 53, 56, 22, 33, 4, 14, 66, 28, 82, 9, 34, 43, 70], [68, 61, 32, 38, 60, 18, 26, 2, 73, 1, 85, 72, 58, 23, 17, 7, 25, 34, 12, 9, 92, 53, 30, 84, 45, 54, 44, 93, 43, 81, 47, 77, 80, 10, 4, 82, 5, 99, 35, 27, 22, 96, 19, 71, 74, 94, 11, 66, 13, 91, 89, 51, 65, 87, 6, 69, 39, 41, 75, 63, 3, 49, 90, 52, 48, 55, 62, 15, 95, 79, 29, 36, 56, 20, 57, 40, 16, 97, 21, 70, 76, 28, 8, 88, 46, 14, 31, 33, 24, 78], [34, 16, 3, 66, 46, 51, 18, 68, 5, 35, 64, 6, 11, 59, 78, 4, 40, 47, 90, 32, 36, 88, 37, 1, 94, 89, 25, 85, 79, 26, 53, 87, 81, 97, 72, 2, 70, 49, 48, 20, 65, 41, 93, 42, 77, 86, 52, 27, 76, 33, 99, 8, 21, 57, 75, 62, 60, 9, 84, 83, 80, 10, 17, 22, 82, 30, 50, 43, 14, 39, 54, 28, 23, 13, 44, 73, 24, 58, 7, 61, 92, 63, 71, 29, 55, 56, 38, 19, 45, 96], [67, 69, 26, 20, 91, 35, 30, 59, 34, 87, 23, 70, 97, 99, 56, 47, 28, 11, 61, 93, 9, 85, 73, 48, 38, 81, 37, 17, 66, 4, 54, 41, 33, 55, 96, 32, 14, 63, 21, 74, 72, 49, 18, 90, 13, 94, 10, 19, 76, 16, 77, 79, 1, 8, 51, 2, 71, 64, 82, 65, 15, 80, 88, 58, 6, 98, 36, 7, 44, 52, 53, 22, 84, 83, 95, 25, 29, 42, 27, 60, 40, 3, 46, 50, 39, 12, 31, 86, 57, 92], [39, 97, 7, 24, 5, 83, 75, 22, 95, 99, 4, 38, 87, 78, 36, 2, 91, 80, 98, 31, 86, 40, 28, 64, 67, 50, 44, 23, 90, 32, 79, 35, 81, 11, 65, 26, 77, 57, 51, 85, 41, 45, 54, 49, 42, 6, 9, 82, 29, 60, 15, 48, 70, 96, 53, 10, 89, 16, 69, 25, 43, 93, 12, 58, 8, 34, 52, 56, 66, 30, 94, 61, 68, 88, 14, 63, 71, 92, 55, 46, 27, 72, 19, 18, 13, 1, 74, 3, 20, 76], [71, 5, 27, 26, 68, 20, 92, 59, 30, 64, 81, 97, 25, 23, 35, 2, 34, 79, 83, 39, 74, 13, 12, 28, 62, 60, 54, 77, 38, 37, 89, 48, 9, 49, 72, 65, 51, 84, 91, 87, 80, 66, 86, 58, 50, 52, 14, 63, 55, 88, 94, 93, 31, 45, 11, 73, 96, 16, 8, 44, 82, 22, 67, 40, 10, 18, 99, 1, 70, 15, 56, 41, 53, 3, 95, 76, 57, 61, 6, 33, 46, 4, 36, 29, 85, 90, 98, 78, 24, 17], [83, 79, 90, 51, 11, 35, 36, 41, 44, 34, 69, 87, 65, 13, 21, 14, 50, 52, 97, 64, 82, 88, 78, 29, 60, 49, 68, 54, 4, 47, 23, 80, 10, 9, 18, 45, 3, 27, 99, 43, 93, 57, 39, 76, 77, 53, 30, 58, 17, 73, 67, 1, 7, 61, 12, 56, 38, 8, 25, 48, 70, 5, 55, 86, 94, 31, 85, 32, 16, 46, 26, 75, 59, 22, 74, 72, 95, 71, 84, 37, 20, 6, 66, 19, 81, 63, 42, 28, 15, 92], [76, 56, 64, 9, 32, 71, 27, 33, 38, 50, 26, 81, 7, 55, 84, 96, 17, 15, 58, 40, 68, 61, 14, 87, 69, 10, 65, 22, 57, 28, 88, 6, 47, 44, 41, 34, 13, 36, 63, 11, 98, 89, 20, 53, 43, 18, 73, 67, 24, 23, 39, 4, 12, 82, 21, 51, 72, 74, 1, 25, 90, 80, 94, 29, 60, 37, 52, 86, 95, 2, 99, 66, 31, 54, 8, 48, 75, 79, 78, 83, 19, 97, 35, 3, 85, 59, 62, 30, 49, 92], [68, 8, 39, 23, 17, 66, 87, 54, 91, 49, 43, 58, 95, 63, 26, 20, 65, 70, 93, 94, 42, 38, 13, 5, 2, 74, 14, 76, 80, 83, 64, 47, 33, 7, 12, 84, 60, 61, 18, 72, 44, 57, 9, 51, 31, 56, 98, 86, 55, 78, 41, 19, 27, 15, 52, 6, 28, 3, 96, 71, 46, 22, 1, 45, 81, 36, 62, 50, 92, 99, 97, 34, 40, 79, 77, 35, 67, 21, 25, 53, 75, 29, 90, 10, 59, 30, 88, 73, 82, 32], [12, 53, 14, 19, 3, 31, 75, 72, 24, 69, 76, 81, 77, 51, 41, 80, 27, 1, 49, 78, 39, 94, 22, 13, 44, 74, 71, 47, 68, 45, 17, 48, 88, 5, 83, 89, 40, 28, 59, 57, 93, 99, 97, 36, 10, 61, 96, 65, 95, 70, 25, 2, 21, 16, 46, 66, 37, 91, 98, 90, 9, 30, 82, 63, 60, 67, 8, 92, 33, 29, 73, 42, 64, 85, 6, 87, 86, 62, 4, 34, 55, 15, 26, 50, 11, 84, 56, 54, 43, 18], [91, 9, 44, 36, 45, 42, 37, 58, 95, 29, 4, 41, 98, 89, 15, 27, 26, 94, 21, 60, 90, 92, 97, 46, 59, 84, 99, 69, 3, 63, 25, 11, 40, 55, 67, 34, 49, 7, 38, 31, 17, 24, 66, 82, 93, 71, 78, 13, 1, 87, 56, 75, 5, 70, 81, 54, 12, 57, 30, 73, 80, 68, 62, 2, 23, 43, 86, 33, 51, 50, 18, 64, 28, 88, 14, 83, 6, 8, 10, 79, 32, 76, 20, 22, 35, 47, 96, 52, 39, 65], [85, 77, 68, 76, 45, 10, 66, 15, 38, 78, 65, 60, 44, 82, 4, 9, 86, 91, 20, 40, 54, 94, 49, 58, 70, 63, 37, 2, 31, 95, 71, 72, 14, 48, 34, 87, 12, 50, 32, 47, 84, 99, 57, 74, 3, 64, 97, 36, 25, 41, 46, 83, 75, 13, 29, 98, 52, 53, 93, 28, 33, 67, 17, 89, 24, 51, 35, 88, 59, 6, 92, 27, 43, 39, 62, 80, 90, 1, 21, 61, 11, 23, 96, 56, 16, 5, 73, 79, 55, 7], [54, 53, 99, 96, 69, 34, 62, 59, 87, 11, 73, 86, 5, 98, 17, 74, 67, 94, 24, 7, 80, 40, 20, 79, 89, 47, 93, 8, 49, 84, 88, 45, 18, 56, 6, 31, 4, 92, 1, 82, 52, 57, 22, 3, 19, 48, 58, 37, 27, 65, 44, 95, 51, 63, 2, 91, 36, 75, 12, 26, 97, 60, 68, 72, 71, 21, 30, 76, 33, 35, 39, 15, 85, 50, 61, 10, 14, 81, 38, 32, 9, 78, 77, 55, 16, 46, 25, 64, 90, 66], [32, 93, 63, 1, 64, 82, 37, 25, 52, 16, 17, 72, 28, 5, 41, 81, 35, 2, 39, 75, 21, 23, 36, 44, 55, 65, 46, 57, 51, 49, 29, 76, 34, 14, 8, 71, 42, 50, 7, 45, 78, 62, 56, 69, 40, 66, 99, 33, 12, 96, 83, 85, 61, 86, 90, 92, 20, 26, 89, 19, 30, 60, 3, 87, 15, 9, 94, 18, 84, 53, 13, 43, 77, 24, 31, 58, 48, 4, 73, 74, 70, 6, 10, 59, 98, 67, 97, 38, 68, 54], [88, 26, 84, 59, 14, 48, 42, 52, 94, 23, 32, 53, 31, 37, 3, 80, 43, 33, 98, 28, 72, 54, 1, 6, 99, 64, 10, 85, 69, 87, 65, 60, 41, 55, 77, 2, 90, 76, 46, 82, 20, 7, 81, 47, 22, 16, 61, 44, 75, 51, 68, 21, 66, 45, 74, 13, 97, 79, 50, 8, 29, 19, 40, 57, 95, 91, 35, 38, 4, 92, 93, 25, 89, 30, 83, 5, 71, 86, 70, 73, 96, 62, 18, 12, 67, 17, 63, 34, 15, 27], [10, 68, 40, 99, 91, 64, 65, 22, 7, 96, 41, 5, 80, 89, 70, 66, 74, 94, 92, 6, 13, 86, 32, 98, 73, 30, 67, 81, 21, 82, 25, 62, 72, 46, 29, 78, 51, 27, 1, 4, 55, 57, 58, 97, 45, 38, 16, 60, 69, 95, 50, 87, 9, 15, 54, 2, 28, 93, 19, 49, 63, 39, 12, 23, 76, 88, 34, 83, 90, 44, 43, 59, 18, 17, 35, 71, 75, 24, 11, 26, 52, 53, 84, 48, 37, 79, 56, 3, 20, 36], [28, 45, 97, 1, 36, 95, 77, 19, 35, 23, 9, 61, 11, 92, 65, 32, 66, 60, 27, 21, 34, 78, 87, 40, 12, 62, 5, 2, 75, 69, 10, 48, 80, 30, 67, 31, 72, 8, 24, 99, 3, 71, 15, 86, 84, 50, 42, 79, 52, 81, 49, 94, 98, 58, 20, 47, 33, 13, 41, 91, 96, 53, 82, 85, 54, 64, 7, 46, 37, 74, 57, 83, 90, 14, 29, 6, 59, 43, 26, 73, 4, 25, 18, 76, 39, 22, 63, 93, 55, 44], [68, 52, 85, 70, 3, 42, 89, 18, 71, 84, 29, 75, 79, 22, 50, 81, 86, 16, 8, 49, 53, 65, 37, 97, 91, 39, 1, 94, 15, 21, 56, 31, 77, 23, 24, 4, 26, 96, 32, 14, 47, 72, 90, 66, 43, 88, 76, 12, 13, 48, 51, 41, 61, 73, 92, 40, 6, 74, 5, 28, 17, 44, 10, 11, 38, 98, 80, 25, 27, 69, 55, 78, 57, 19, 87, 20, 59, 60, 64, 35, 63, 67, 36, 2, 34, 45, 7, 99, 83, 93], [50, 99, 87, 23, 42, 75, 55, 89, 1, 77, 61, 66, 37, 71, 8, 39, 14, 98, 40, 7, 26, 95, 64, 34, 25, 82, 68, 30, 32, 79, 90, 41, 22, 21, 35, 81, 16, 12, 36, 6, 17, 70, 47, 83, 44, 49, 96, 24, 65, 51, 13, 20, 93, 80, 92, 56, 4, 72, 60, 38, 59, 43, 94, 53, 46, 67, 57, 45, 63, 62, 15, 97, 85, 88, 33, 52, 86, 91, 9, 3, 18, 48, 5, 10, 73, 31, 29, 54, 69, 11], [19, 96, 88, 44, 28, 15, 46, 68, 77, 7, 47, 42, 86, 11, 85, 39, 69, 51, 31, 37, 49, 43, 3, 13, 99, 79, 24, 32, 98, 8, 6, 16, 45, 41, 21, 34, 63, 26, 97, 55, 25, 20, 30, 80, 53, 91, 73, 12, 9, 56, 58, 60, 89, 75, 22, 94, 84, 66, 54, 92, 76, 64, 36, 18, 83, 65, 52, 5, 82, 14, 57, 87, 70, 35, 72, 10, 67, 62, 27, 1, 17, 38, 48, 23, 93, 81, 59, 74, 2, 95], [1, 39, 66, 85, 58, 73, 64, 82, 81, 95, 56, 9, 37, 98, 51, 20, 3, 32, 12, 80, 75, 49, 84, 97, 77, 7, 94, 42, 27, 83, 44, 2, 70, 86, 90, 40, 65, 36, 93, 38, 41, 16, 17, 59, 68, 21, 19, 13, 26, 46, 92, 43, 15, 63, 89, 55, 23, 4, 62, 29, 5, 24, 48, 79, 67, 69, 11, 47, 22, 33, 30, 57, 28, 31, 35, 74, 45, 99, 76, 71, 8, 78, 72, 61, 54, 34, 18, 88, 50, 53], [79, 5, 97, 77, 43, 2, 25, 50, 80, 22, 47, 54, 19, 53, 55, 86, 23, 88, 94, 98, 69, 90, 44, 28, 42, 31, 40, 76, 12, 6, 61, 81, 46, 3, 51, 92, 4, 34, 91, 68, 63, 89, 33, 93, 26, 99, 24, 67, 70, 18, 17, 71, 87, 7, 9, 75, 78, 45, 52, 65, 29, 16, 13, 83, 37, 64, 66, 56, 72, 11, 62, 58, 85, 1, 38, 32, 84, 73, 74, 41, 82, 27, 95, 8, 39, 30, 14, 49, 60, 21], [65, 78, 73, 91, 18, 24, 31, 63, 39, 11, 96, 58, 99, 74, 88, 82, 44, 72, 23, 59, 43, 4, 34, 89, 35, 7, 12, 10, 71, 40, 75, 25, 8, 57, 53, 76, 92, 51, 22, 93, 60, 16, 47, 36, 97, 32, 86, 41, 6, 27, 26, 54, 68, 67, 87, 81, 42, 2, 21, 37, 64, 77, 66, 52, 45, 9, 30, 90, 3, 69, 55, 29, 28, 50, 85, 79, 56, 49, 5, 62, 38, 19, 94, 14, 95, 13, 80, 48, 33, 20], [13, 70, 33, 85, 93, 80, 78, 19, 65, 17, 99, 45, 2, 47, 30, 75, 25, 91, 36, 79, 21, 54, 43, 77, 60, 90, 56, 4, 68, 57, 51, 39, 61, 64, 58, 40, 3, 66, 10, 53, 63, 7, 26, 59, 37, 41, 34, 11, 1, 83, 86, 9, 76, 32, 94, 42, 5, 98, 12, 23, 24, 71, 55, 87, 81, 22, 29, 8, 38, 52, 20, 67, 89, 72, 96, 92, 95, 44, 15, 28, 97, 27, 73, 62, 74, 46, 14, 18, 49, 88], [69, 81, 52, 73, 94, 54, 1, 42, 26, 11, 5, 95, 56, 85, 96, 4, 88, 15, 22, 70, 49, 79, 28, 63, 3, 14, 97, 48, 99, 66, 6, 93, 9, 75, 92, 17, 27, 80, 41, 18, 55, 64, 10, 86, 50, 30, 7, 51, 12, 2, 34, 59, 19, 24, 76, 39, 91, 33, 82, 13, 57, 58, 60, 36, 37, 71, 25, 29, 46, 84, 61, 43, 32, 83, 62, 78, 8, 90, 21, 77, 31, 72, 74, 67, 44, 98, 47, 68, 87, 40], [53, 36, 30, 68, 43, 79, 91, 65, 12, 85, 90, 48, 58, 72, 83, 11, 34, 31, 54, 81, 37, 59, 5, 78, 6, 69, 17, 49, 82, 25, 89, 38, 92, 39, 50, 95, 7, 3, 66, 46, 98, 26, 74, 55, 42, 1, 16, 2, 76, 84, 15, 67, 80, 33, 56, 23, 86, 51, 62, 19, 87, 63, 60, 77, 21, 94, 14, 27, 44, 73, 88, 22, 41, 18, 52, 64, 24, 4, 40, 99, 96, 8, 35, 97, 20, 9, 61, 29, 45, 47], [35, 8, 12, 39, 24, 85, 92, 48, 61, 25, 78, 15, 30, 45, 1, 74, 17, 88, 40, 50, 2, 51, 56, 67, 73, 53, 26, 43, 94, 83, 97, 6, 70, 57, 86, 72, 66, 3, 21, 55, 38, 9, 4, 65, 69, 58, 80, 89, 34, 52, 27, 22, 41, 49, 98, 64, 46, 20, 79, 36, 96, 99, 63, 62, 76, 91, 54, 10, 7, 28, 95, 47, 44, 77, 5, 75, 13, 71, 33, 60, 14, 32, 68, 90, 19, 23, 82, 81, 16, 93], [54, 61, 28, 10, 25, 3, 32, 19, 80, 41, 48, 92, 22, 79, 37, 76, 7, 90, 86, 77, 55, 88, 94, 81, 62, 93, 9, 34, 17, 8, 67, 66, 98, 4, 13, 60, 75, 63, 1, 12, 56, 27, 44, 50, 11, 68, 85, 40, 30, 65, 21, 70, 59, 15, 5, 18, 87, 69, 58, 64, 26, 74, 36, 97, 35, 14, 95, 38, 49, 31, 24, 39, 33, 42, 2, 16, 47, 57, 43, 91, 73, 84, 23, 51, 96, 82, 29, 99, 89, 45], [65, 57, 6, 4, 24, 84, 58, 2, 39, 42, 76, 3, 77, 92, 80, 60, 75, 38, 96, 51, 97, 18, 12, 61, 98, 50, 32, 79, 13, 44, 45, 14, 69, 25, 48, 46, 91, 88, 99, 54, 87, 16, 1, 27, 20, 49, 85, 7, 94, 66, 9, 31, 23, 71, 21, 22, 10, 28, 74, 53, 62, 78, 26, 5, 29, 86, 11, 82, 8, 95, 40, 43, 59, 90, 89, 15, 34, 17, 55, 52, 63, 56, 67, 64, 70, 72, 83, 68, 93, 37], [42, 78, 38, 54, 99, 55, 41, 32, 18, 49, 76, 12, 2, 35, 47, 8, 45, 31, 73, 46, 23, 21, 7, 88, 9, 27, 80, 30, 52, 11, 17, 24, 83, 79, 36, 48, 92, 51, 29, 74, 87, 75, 85, 90, 10, 57, 26, 33, 15, 53, 68, 69, 70, 64, 81, 39, 86, 4, 97, 5, 63, 59, 16, 22, 40, 62, 56, 28, 37, 44, 25, 60, 93, 94, 50, 84, 98, 72, 67, 43, 89, 61, 91, 71, 82, 65, 14, 77, 13, 96], [56, 32, 97, 79, 95, 24, 16, 39, 54, 44, 22, 58, 99, 6, 15, 3, 85, 11, 70, 35, 33, 81, 66, 84, 98, 25, 23, 55, 20, 80, 73, 87, 93, 34, 8, 45, 10, 13, 29, 5, 82, 40, 52, 2, 43, 94, 46, 37, 19, 26, 67, 63, 89, 36, 90, 83, 68, 7, 51, 1, 30, 77, 49, 75, 41, 96, 50, 53, 18, 74, 28, 57, 48, 14, 4, 59, 27, 60, 64, 88, 42, 65, 92, 72, 9, 38, 12, 91, 69, 78], [71, 86, 95, 68, 26, 10, 37, 91, 38, 59, 92, 34, 15, 66, 5, 43, 12, 61, 17, 78, 21, 52, 55, 90, 42, 3, 94, 9, 54, 69, 24, 64, 57, 74, 30, 7, 39, 82, 89, 93, 35, 70, 11, 77, 88, 72, 60, 19, 23, 62, 16, 97, 1, 96, 87, 48, 44, 98, 73, 80, 28, 99, 40, 65, 47, 76, 14, 33, 31, 53, 29, 22, 13, 81, 49, 79, 83, 4, 36, 2, 27, 46, 41, 6, 85, 50, 20, 25, 84, 75], [41, 29, 66, 69, 76, 10, 37, 49, 62, 3, 21, 91, 15, 30, 93, 94, 44, 18, 13, 60, 58, 33, 28, 6, 96, 67, 46, 27, 48, 24, 92, 2, 71, 97, 11, 56, 99, 81, 43, 63, 19, 73, 79, 83, 9, 95, 82, 80, 47, 23, 42, 59, 86, 68, 89, 87, 57, 85, 39, 70, 50, 38, 1, 25, 98, 36, 55, 61, 40, 12, 53, 77, 17, 35, 16, 72, 84, 26, 88, 90, 8, 64, 78, 51, 20, 7, 32, 31, 45, 34], [72, 42, 49, 84, 61, 73, 99, 58, 7, 23, 32, 43, 95, 64, 96, 76, 60, 33, 2, 45, 71, 36, 44, 53, 18, 21, 63, 69, 87, 74, 70, 25, 17, 55, 1, 98, 41, 4, 77, 57, 54, 65, 67, 66, 31, 93, 26, 94, 46, 9, 24, 12, 30, 92, 56, 3, 40, 8, 22, 6, 62, 5, 14, 90, 27, 86, 47, 29, 48, 81, 78, 20, 83, 85, 80, 15, 51, 34, 38, 50, 28, 37, 39, 52, 82, 19, 89, 79, 10, 11], [59, 57, 88, 81, 96, 48, 15, 16, 69, 7, 47, 1, 22, 18, 78, 43, 13, 84, 26, 56, 17, 68, 91, 44, 24, 41, 60, 5, 32, 73, 85, 89, 38, 23, 82, 42, 54, 51, 14, 12, 70, 9, 36, 72, 66, 10, 2, 55, 28, 30, 52, 8, 50, 53, 25, 11, 40, 77, 76, 39, 86, 3, 74, 87, 93, 83, 80, 62, 79, 34, 21, 45, 4, 61, 20, 97, 58, 64, 67, 27, 49, 92, 46, 37, 94, 98, 99, 35, 75, 6], [7, 24, 86, 15, 29, 56, 53, 93, 90, 44, 19, 80, 96, 57, 32, 10, 52, 16, 4, 13, 26, 76, 5, 36, 62, 49, 68, 33, 39, 83, 88, 92, 14, 34, 18, 50, 85, 17, 64, 22, 84, 20, 98, 82, 27, 54, 58, 42, 95, 1, 94, 87, 61, 67, 21, 23, 47, 74, 69, 89, 75, 71, 99, 79, 59, 35, 37, 6, 41, 9, 2, 25, 8, 45, 81, 78, 48, 30, 11, 72, 3, 60, 77, 65, 70, 51, 46, 73, 63, 40], [15, 83, 64, 14, 31, 20, 80, 29, 63, 99, 51, 72, 37, 7, 74, 57, 93, 5, 86, 77, 79, 56, 70, 75, 96, 73, 43, 89, 65, 46, 87, 60, 2, 9, 69, 49, 12, 82, 66, 8, 94, 38, 25, 24, 54, 11, 10, 4, 36, 41, 91, 55, 21, 50, 47, 27, 32, 84, 44, 68, 59, 62, 98, 35, 97, 71, 78, 53, 34, 61, 67, 52, 58, 3, 1, 30, 76, 33, 95, 23, 85, 40, 88, 19, 26, 16, 6, 39, 48, 13], [28, 93, 66, 61, 54, 58, 90, 81, 92, 29, 69, 8, 34, 1, 44, 87, 33, 83, 64, 82, 5, 32, 55, 74, 20, 77, 27, 95, 23, 68, 31, 10, 85, 91, 63, 35, 38, 2, 60, 21, 11, 4, 16, 17, 13, 42, 80, 72, 71, 26, 73, 45, 52, 79, 18, 37, 70, 78, 96, 43, 57, 6, 97, 67, 98, 46, 14, 94, 3, 86, 59, 12, 41, 53, 50, 99, 84, 25, 9, 56, 51, 19, 76, 7, 89, 65, 24, 22, 48, 30], [37, 70, 93, 43, 15, 71, 48, 27, 23, 60, 34, 55, 8, 91, 50, 81, 32, 12, 4, 7, 44, 85, 72, 49, 42, 22, 30, 62, 76, 73, 46, 96, 18, 84, 41, 57, 77, 33, 99, 90, 95, 53, 39, 36, 88, 1, 35, 47, 9, 89, 61, 13, 97, 2, 45, 3, 52, 86, 68, 83, 19, 74, 14, 20, 58, 56, 82, 17, 54, 16, 80, 98, 59, 25, 92, 65, 38, 31, 5, 51, 69, 29, 63, 78, 40, 94, 75, 28, 87, 66], [23, 89, 9, 96, 74, 69, 58, 84, 14, 59, 52, 56, 65, 85, 42, 83, 62, 3, 18, 26, 60, 33, 38, 46, 48, 32, 70, 66, 94, 11, 22, 93, 88, 16, 25, 75, 44, 68, 80, 98, 39, 67, 5, 29, 57, 30, 37, 35, 19, 13, 54, 27, 4, 8, 10, 43, 47, 61, 64, 81, 71, 95, 49, 72, 55, 91, 92, 79, 41, 17, 87, 63, 90, 40, 15, 51, 76, 2, 1, 6, 36, 73, 78, 50, 21, 86, 24, 20, 53, 82], [47, 97, 54, 39, 20, 83, 82, 33, 36, 74, 8, 15, 7, 41, 76, 25, 90, 18, 19, 72, 9, 43, 58, 81, 73, 55, 28, 38, 30, 94, 68, 96, 42, 62, 6, 1, 23, 57, 63, 48, 59, 61, 52, 88, 3, 10, 53, 64, 44, 5, 50, 29, 37, 16, 92, 66, 70, 17, 40, 93, 21, 2, 32, 49, 69, 31, 56, 79, 13, 89, 71, 77, 22, 27, 86, 51, 95, 85, 4, 24, 26, 35, 98, 11, 67, 75, 60, 91, 34, 99], [91, 10, 89, 83, 58, 27, 96, 88, 42, 63, 40, 11, 4, 93, 61, 48, 49, 18, 28, 73, 92, 3, 72, 52, 53, 77, 94, 44, 54, 21, 31, 56, 24, 17, 51, 62, 2, 6, 69, 35, 32, 7, 43, 78, 47, 12, 33, 98, 8, 60, 99, 34, 15, 68, 70, 66, 67, 85, 55, 86, 26, 80, 5, 87, 95, 97, 74, 22, 9, 79, 65, 36, 20, 16, 41, 84, 29, 23, 46, 82, 25, 81, 59, 39, 1, 45, 30, 50, 38, 37], [43, 22, 3, 89, 7, 27, 92, 58, 17, 62, 67, 79, 50, 12, 26, 6, 64, 65, 35, 24, 54, 1, 9, 5, 39, 82, 30, 94, 11, 76, 52, 29, 73, 14, 2, 46, 74, 8, 91, 97, 55, 56, 45, 80, 60, 13, 95, 18, 68, 41, 36, 61, 44, 84, 93, 96, 70, 47, 78, 59, 53, 90, 31, 99, 72, 4, 81, 37, 69, 48, 88, 66, 87, 57, 98, 51, 42, 83, 34, 86, 10, 85, 77, 38, 20, 33, 75, 40, 21, 23], [23, 5, 41, 28, 48, 57, 51, 69, 45, 37, 9, 54, 78, 53, 70, 8, 81, 98, 7, 71, 26, 88, 74, 10, 86, 33, 82, 62, 95, 94, 90, 47, 35, 89, 49, 20, 36, 3, 87, 60, 77, 21, 32, 55, 64, 25, 29, 58, 96, 61, 15, 1, 34, 85, 83, 43, 79, 75, 6, 17, 80, 91, 99, 72, 30, 39, 84, 31, 16, 56, 11, 65, 73, 59, 92, 13, 50, 24, 4, 66, 46, 97, 38, 40, 93, 42, 76, 19, 14, 44], [33, 26, 30, 65, 32, 81, 76, 82, 34, 70, 78, 31, 22, 86, 10, 73, 38, 5, 49, 54, 40, 13, 62, 90, 11, 71, 75, 80, 17, 28, 77, 64, 6, 29, 24, 83, 18, 53, 45, 35, 19, 25, 68, 9, 43, 98, 36, 96, 69, 66, 95, 84, 59, 67, 3, 85, 41, 58, 14, 1, 74, 48, 20, 63, 2, 91, 50, 79, 99, 12, 87, 56, 27, 60, 15, 7, 94, 92, 89, 47, 37, 42, 55, 21, 51, 8, 93, 4, 61, 44], [4, 95, 11, 90, 48, 53, 15, 92, 5, 1, 96, 57, 34, 93, 60, 20, 84, 45, 56, 89, 44, 37, 24, 74, 76, 82, 77, 28, 7, 59, 88, 6, 32, 72, 12, 42, 66, 21, 23, 54, 8, 81, 38, 10, 31, 35, 83, 52, 47, 55, 98, 9, 39, 46, 86, 41, 99, 70, 64, 26, 87, 62, 19, 17, 85, 65, 58, 29, 61, 91, 33, 40, 68, 2, 25, 43, 27, 94, 51, 80, 79, 16, 22, 69, 49, 78, 18, 71, 97, 3]]\n"
     ]
    }
   ],
   "source": [
    "print(samp)"
   ]
  },
  {
   "cell_type": "code",
   "execution_count": 122,
   "metadata": {},
   "outputs": [
    {
     "name": "stdout",
     "output_type": "stream",
     "text": [
      "[40, 55, 23, 56, 19, 13, 96, 71, 34, 85, 86, 14, 35, 76, 58, 61, 51, 63, 91, 6, 25, 48, 41, 77, 15, 54, 46, 3, 9, 88, 79, 39, 59, 43, 97, 24, 53, 30, 87, 36, 12, 18, 83, 57, 2, 64, 70, 99, 80, 33, 62, 37, 1, 95, 7, 22, 38, 73, 5, 68, 26, 42, 60, 16, 93, 20, 72, 45, 28, 44, 8, 27, 94, 65, 98, 31, 11, 10, 52, 29, 32, 4, 75, 17, 92, 90, 49, 84, 89, 66]\n",
      "[47, 72, 18, 89, 14, 43, 87, 39, 79, 81, 27, 96, 1, 49, 59, 32, 61, 86, 7, 16, 95, 28, 46, 25, 12, 44, 41, 77, 82, 99, 69, 11, 48, 73, 83, 37, 84, 45, 93, 53, 75, 20, 71, 23, 90, 57, 31, 22, 19, 85, 88, 58, 5, 92, 66, 70, 56, 35, 50, 6, 38, 65, 42, 52, 17, 74, 36, 29, 3, 21, 15, 62, 2, 67, 55, 63, 60, 13, 30, 34, 80, 78, 98, 76, 54, 94, 64, 26, 40, 9]\n",
      "[41, 36, 87, 35, 56, 7, 18, 44, 32, 88, 3, 11, 59, 84, 13, 93, 86, 65, 98, 12, 94, 24, 68, 9, 34, 43, 51, 63, 20, 54, 66, 61, 83, 42, 23, 21, 49, 85, 46, 50, 40, 48, 16, 69, 90, 82, 77, 22, 19, 91, 27, 52, 2, 74, 76, 57, 81, 97, 47, 8, 39, 67, 70, 1, 92, 28, 55, 30, 5, 31, 45, 95, 64, 10, 33, 29, 15, 26, 6, 14, 73, 78, 99, 80, 79, 4, 60, 96, 75, 71]\n",
      "[86, 59, 97, 60, 51, 11, 36, 25, 76, 46, 55, 79, 87, 5, 2, 52, 3, 69, 45, 35, 78, 57, 20, 75, 23, 56, 4, 14, 74, 72, 67, 18, 28, 95, 61, 42, 22, 85, 38, 16, 19, 80, 62, 94, 9, 66, 64, 92, 15, 40, 21, 1, 32, 83, 30, 73, 48, 24, 13, 91, 54, 37, 49, 33, 12, 44, 41, 34, 7, 43, 53, 6, 77, 50, 89, 90, 65, 88, 8, 81, 70, 93, 84, 47, 58, 26, 39, 96, 63, 31]\n",
      "[62, 60, 32, 45, 67, 16, 88, 69, 50, 59, 41, 65, 31, 8, 99, 89, 15, 81, 71, 84, 68, 12, 87, 80, 78, 76, 21, 96, 57, 7, 20, 19, 72, 58, 2, 3, 55, 24, 98, 94, 1, 10, 93, 91, 35, 26, 13, 11, 23, 61, 64, 97, 83, 74, 77, 37, 95, 54, 6, 52, 42, 29, 17, 75, 18, 63, 36, 79, 38, 51, 49, 48, 86, 92, 44, 27, 30, 53, 56, 22, 33, 4, 14, 66, 28, 82, 9, 34, 43, 70]\n",
      "[68, 61, 32, 38, 60, 18, 26, 2, 73, 1, 85, 72, 58, 23, 17, 7, 25, 34, 12, 9, 92, 53, 30, 84, 45, 54, 44, 93, 43, 81, 47, 77, 80, 10, 4, 82, 5, 99, 35, 27, 22, 96, 19, 71, 74, 94, 11, 66, 13, 91, 89, 51, 65, 87, 6, 69, 39, 41, 75, 63, 3, 49, 90, 52, 48, 55, 62, 15, 95, 79, 29, 36, 56, 20, 57, 40, 16, 97, 21, 70, 76, 28, 8, 88, 46, 14, 31, 33, 24, 78]\n",
      "[34, 16, 3, 66, 46, 51, 18, 68, 5, 35, 64, 6, 11, 59, 78, 4, 40, 47, 90, 32, 36, 88, 37, 1, 94, 89, 25, 85, 79, 26, 53, 87, 81, 97, 72, 2, 70, 49, 48, 20, 65, 41, 93, 42, 77, 86, 52, 27, 76, 33, 99, 8, 21, 57, 75, 62, 60, 9, 84, 83, 80, 10, 17, 22, 82, 30, 50, 43, 14, 39, 54, 28, 23, 13, 44, 73, 24, 58, 7, 61, 92, 63, 71, 29, 55, 56, 38, 19, 45, 96]\n",
      "[67, 69, 26, 20, 91, 35, 30, 59, 34, 87, 23, 70, 97, 99, 56, 47, 28, 11, 61, 93, 9, 85, 73, 48, 38, 81, 37, 17, 66, 4, 54, 41, 33, 55, 96, 32, 14, 63, 21, 74, 72, 49, 18, 90, 13, 94, 10, 19, 76, 16, 77, 79, 1, 8, 51, 2, 71, 64, 82, 65, 15, 80, 88, 58, 6, 98, 36, 7, 44, 52, 53, 22, 84, 83, 95, 25, 29, 42, 27, 60, 40, 3, 46, 50, 39, 12, 31, 86, 57, 92]\n",
      "[39, 97, 7, 24, 5, 83, 75, 22, 95, 99, 4, 38, 87, 78, 36, 2, 91, 80, 98, 31, 86, 40, 28, 64, 67, 50, 44, 23, 90, 32, 79, 35, 81, 11, 65, 26, 77, 57, 51, 85, 41, 45, 54, 49, 42, 6, 9, 82, 29, 60, 15, 48, 70, 96, 53, 10, 89, 16, 69, 25, 43, 93, 12, 58, 8, 34, 52, 56, 66, 30, 94, 61, 68, 88, 14, 63, 71, 92, 55, 46, 27, 72, 19, 18, 13, 1, 74, 3, 20, 76]\n",
      "[71, 5, 27, 26, 68, 20, 92, 59, 30, 64, 81, 97, 25, 23, 35, 2, 34, 79, 83, 39, 74, 13, 12, 28, 62, 60, 54, 77, 38, 37, 89, 48, 9, 49, 72, 65, 51, 84, 91, 87, 80, 66, 86, 58, 50, 52, 14, 63, 55, 88, 94, 93, 31, 45, 11, 73, 96, 16, 8, 44, 82, 22, 67, 40, 10, 18, 99, 1, 70, 15, 56, 41, 53, 3, 95, 76, 57, 61, 6, 33, 46, 4, 36, 29, 85, 90, 98, 78, 24, 17]\n",
      "[83, 79, 90, 51, 11, 35, 36, 41, 44, 34, 69, 87, 65, 13, 21, 14, 50, 52, 97, 64, 82, 88, 78, 29, 60, 49, 68, 54, 4, 47, 23, 80, 10, 9, 18, 45, 3, 27, 99, 43, 93, 57, 39, 76, 77, 53, 30, 58, 17, 73, 67, 1, 7, 61, 12, 56, 38, 8, 25, 48, 70, 5, 55, 86, 94, 31, 85, 32, 16, 46, 26, 75, 59, 22, 74, 72, 95, 71, 84, 37, 20, 6, 66, 19, 81, 63, 42, 28, 15, 92]\n",
      "[76, 56, 64, 9, 32, 71, 27, 33, 38, 50, 26, 81, 7, 55, 84, 96, 17, 15, 58, 40, 68, 61, 14, 87, 69, 10, 65, 22, 57, 28, 88, 6, 47, 44, 41, 34, 13, 36, 63, 11, 98, 89, 20, 53, 43, 18, 73, 67, 24, 23, 39, 4, 12, 82, 21, 51, 72, 74, 1, 25, 90, 80, 94, 29, 60, 37, 52, 86, 95, 2, 99, 66, 31, 54, 8, 48, 75, 79, 78, 83, 19, 97, 35, 3, 85, 59, 62, 30, 49, 92]\n",
      "[68, 8, 39, 23, 17, 66, 87, 54, 91, 49, 43, 58, 95, 63, 26, 20, 65, 70, 93, 94, 42, 38, 13, 5, 2, 74, 14, 76, 80, 83, 64, 47, 33, 7, 12, 84, 60, 61, 18, 72, 44, 57, 9, 51, 31, 56, 98, 86, 55, 78, 41, 19, 27, 15, 52, 6, 28, 3, 96, 71, 46, 22, 1, 45, 81, 36, 62, 50, 92, 99, 97, 34, 40, 79, 77, 35, 67, 21, 25, 53, 75, 29, 90, 10, 59, 30, 88, 73, 82, 32]\n",
      "[12, 53, 14, 19, 3, 31, 75, 72, 24, 69, 76, 81, 77, 51, 41, 80, 27, 1, 49, 78, 39, 94, 22, 13, 44, 74, 71, 47, 68, 45, 17, 48, 88, 5, 83, 89, 40, 28, 59, 57, 93, 99, 97, 36, 10, 61, 96, 65, 95, 70, 25, 2, 21, 16, 46, 66, 37, 91, 98, 90, 9, 30, 82, 63, 60, 67, 8, 92, 33, 29, 73, 42, 64, 85, 6, 87, 86, 62, 4, 34, 55, 15, 26, 50, 11, 84, 56, 54, 43, 18]\n",
      "[91, 9, 44, 36, 45, 42, 37, 58, 95, 29, 4, 41, 98, 89, 15, 27, 26, 94, 21, 60, 90, 92, 97, 46, 59, 84, 99, 69, 3, 63, 25, 11, 40, 55, 67, 34, 49, 7, 38, 31, 17, 24, 66, 82, 93, 71, 78, 13, 1, 87, 56, 75, 5, 70, 81, 54, 12, 57, 30, 73, 80, 68, 62, 2, 23, 43, 86, 33, 51, 50, 18, 64, 28, 88, 14, 83, 6, 8, 10, 79, 32, 76, 20, 22, 35, 47, 96, 52, 39, 65]\n",
      "[85, 77, 68, 76, 45, 10, 66, 15, 38, 78, 65, 60, 44, 82, 4, 9, 86, 91, 20, 40, 54, 94, 49, 58, 70, 63, 37, 2, 31, 95, 71, 72, 14, 48, 34, 87, 12, 50, 32, 47, 84, 99, 57, 74, 3, 64, 97, 36, 25, 41, 46, 83, 75, 13, 29, 98, 52, 53, 93, 28, 33, 67, 17, 89, 24, 51, 35, 88, 59, 6, 92, 27, 43, 39, 62, 80, 90, 1, 21, 61, 11, 23, 96, 56, 16, 5, 73, 79, 55, 7]\n",
      "[54, 53, 99, 96, 69, 34, 62, 59, 87, 11, 73, 86, 5, 98, 17, 74, 67, 94, 24, 7, 80, 40, 20, 79, 89, 47, 93, 8, 49, 84, 88, 45, 18, 56, 6, 31, 4, 92, 1, 82, 52, 57, 22, 3, 19, 48, 58, 37, 27, 65, 44, 95, 51, 63, 2, 91, 36, 75, 12, 26, 97, 60, 68, 72, 71, 21, 30, 76, 33, 35, 39, 15, 85, 50, 61, 10, 14, 81, 38, 32, 9, 78, 77, 55, 16, 46, 25, 64, 90, 66]\n",
      "[32, 93, 63, 1, 64, 82, 37, 25, 52, 16, 17, 72, 28, 5, 41, 81, 35, 2, 39, 75, 21, 23, 36, 44, 55, 65, 46, 57, 51, 49, 29, 76, 34, 14, 8, 71, 42, 50, 7, 45, 78, 62, 56, 69, 40, 66, 99, 33, 12, 96, 83, 85, 61, 86, 90, 92, 20, 26, 89, 19, 30, 60, 3, 87, 15, 9, 94, 18, 84, 53, 13, 43, 77, 24, 31, 58, 48, 4, 73, 74, 70, 6, 10, 59, 98, 67, 97, 38, 68, 54]\n",
      "[88, 26, 84, 59, 14, 48, 42, 52, 94, 23, 32, 53, 31, 37, 3, 80, 43, 33, 98, 28, 72, 54, 1, 6, 99, 64, 10, 85, 69, 87, 65, 60, 41, 55, 77, 2, 90, 76, 46, 82, 20, 7, 81, 47, 22, 16, 61, 44, 75, 51, 68, 21, 66, 45, 74, 13, 97, 79, 50, 8, 29, 19, 40, 57, 95, 91, 35, 38, 4, 92, 93, 25, 89, 30, 83, 5, 71, 86, 70, 73, 96, 62, 18, 12, 67, 17, 63, 34, 15, 27]\n",
      "[10, 68, 40, 99, 91, 64, 65, 22, 7, 96, 41, 5, 80, 89, 70, 66, 74, 94, 92, 6, 13, 86, 32, 98, 73, 30, 67, 81, 21, 82, 25, 62, 72, 46, 29, 78, 51, 27, 1, 4, 55, 57, 58, 97, 45, 38, 16, 60, 69, 95, 50, 87, 9, 15, 54, 2, 28, 93, 19, 49, 63, 39, 12, 23, 76, 88, 34, 83, 90, 44, 43, 59, 18, 17, 35, 71, 75, 24, 11, 26, 52, 53, 84, 48, 37, 79, 56, 3, 20, 36]\n",
      "[28, 45, 97, 1, 36, 95, 77, 19, 35, 23, 9, 61, 11, 92, 65, 32, 66, 60, 27, 21, 34, 78, 87, 40, 12, 62, 5, 2, 75, 69, 10, 48, 80, 30, 67, 31, 72, 8, 24, 99, 3, 71, 15, 86, 84, 50, 42, 79, 52, 81, 49, 94, 98, 58, 20, 47, 33, 13, 41, 91, 96, 53, 82, 85, 54, 64, 7, 46, 37, 74, 57, 83, 90, 14, 29, 6, 59, 43, 26, 73, 4, 25, 18, 76, 39, 22, 63, 93, 55, 44]\n",
      "[68, 52, 85, 70, 3, 42, 89, 18, 71, 84, 29, 75, 79, 22, 50, 81, 86, 16, 8, 49, 53, 65, 37, 97, 91, 39, 1, 94, 15, 21, 56, 31, 77, 23, 24, 4, 26, 96, 32, 14, 47, 72, 90, 66, 43, 88, 76, 12, 13, 48, 51, 41, 61, 73, 92, 40, 6, 74, 5, 28, 17, 44, 10, 11, 38, 98, 80, 25, 27, 69, 55, 78, 57, 19, 87, 20, 59, 60, 64, 35, 63, 67, 36, 2, 34, 45, 7, 99, 83, 93]\n",
      "[50, 99, 87, 23, 42, 75, 55, 89, 1, 77, 61, 66, 37, 71, 8, 39, 14, 98, 40, 7, 26, 95, 64, 34, 25, 82, 68, 30, 32, 79, 90, 41, 22, 21, 35, 81, 16, 12, 36, 6, 17, 70, 47, 83, 44, 49, 96, 24, 65, 51, 13, 20, 93, 80, 92, 56, 4, 72, 60, 38, 59, 43, 94, 53, 46, 67, 57, 45, 63, 62, 15, 97, 85, 88, 33, 52, 86, 91, 9, 3, 18, 48, 5, 10, 73, 31, 29, 54, 69, 11]\n",
      "[19, 96, 88, 44, 28, 15, 46, 68, 77, 7, 47, 42, 86, 11, 85, 39, 69, 51, 31, 37, 49, 43, 3, 13, 99, 79, 24, 32, 98, 8, 6, 16, 45, 41, 21, 34, 63, 26, 97, 55, 25, 20, 30, 80, 53, 91, 73, 12, 9, 56, 58, 60, 89, 75, 22, 94, 84, 66, 54, 92, 76, 64, 36, 18, 83, 65, 52, 5, 82, 14, 57, 87, 70, 35, 72, 10, 67, 62, 27, 1, 17, 38, 48, 23, 93, 81, 59, 74, 2, 95]\n",
      "[1, 39, 66, 85, 58, 73, 64, 82, 81, 95, 56, 9, 37, 98, 51, 20, 3, 32, 12, 80, 75, 49, 84, 97, 77, 7, 94, 42, 27, 83, 44, 2, 70, 86, 90, 40, 65, 36, 93, 38, 41, 16, 17, 59, 68, 21, 19, 13, 26, 46, 92, 43, 15, 63, 89, 55, 23, 4, 62, 29, 5, 24, 48, 79, 67, 69, 11, 47, 22, 33, 30, 57, 28, 31, 35, 74, 45, 99, 76, 71, 8, 78, 72, 61, 54, 34, 18, 88, 50, 53]\n",
      "[79, 5, 97, 77, 43, 2, 25, 50, 80, 22, 47, 54, 19, 53, 55, 86, 23, 88, 94, 98, 69, 90, 44, 28, 42, 31, 40, 76, 12, 6, 61, 81, 46, 3, 51, 92, 4, 34, 91, 68, 63, 89, 33, 93, 26, 99, 24, 67, 70, 18, 17, 71, 87, 7, 9, 75, 78, 45, 52, 65, 29, 16, 13, 83, 37, 64, 66, 56, 72, 11, 62, 58, 85, 1, 38, 32, 84, 73, 74, 41, 82, 27, 95, 8, 39, 30, 14, 49, 60, 21]\n",
      "[65, 78, 73, 91, 18, 24, 31, 63, 39, 11, 96, 58, 99, 74, 88, 82, 44, 72, 23, 59, 43, 4, 34, 89, 35, 7, 12, 10, 71, 40, 75, 25, 8, 57, 53, 76, 92, 51, 22, 93, 60, 16, 47, 36, 97, 32, 86, 41, 6, 27, 26, 54, 68, 67, 87, 81, 42, 2, 21, 37, 64, 77, 66, 52, 45, 9, 30, 90, 3, 69, 55, 29, 28, 50, 85, 79, 56, 49, 5, 62, 38, 19, 94, 14, 95, 13, 80, 48, 33, 20]\n",
      "[13, 70, 33, 85, 93, 80, 78, 19, 65, 17, 99, 45, 2, 47, 30, 75, 25, 91, 36, 79, 21, 54, 43, 77, 60, 90, 56, 4, 68, 57, 51, 39, 61, 64, 58, 40, 3, 66, 10, 53, 63, 7, 26, 59, 37, 41, 34, 11, 1, 83, 86, 9, 76, 32, 94, 42, 5, 98, 12, 23, 24, 71, 55, 87, 81, 22, 29, 8, 38, 52, 20, 67, 89, 72, 96, 92, 95, 44, 15, 28, 97, 27, 73, 62, 74, 46, 14, 18, 49, 88]\n",
      "[69, 81, 52, 73, 94, 54, 1, 42, 26, 11, 5, 95, 56, 85, 96, 4, 88, 15, 22, 70, 49, 79, 28, 63, 3, 14, 97, 48, 99, 66, 6, 93, 9, 75, 92, 17, 27, 80, 41, 18, 55, 64, 10, 86, 50, 30, 7, 51, 12, 2, 34, 59, 19, 24, 76, 39, 91, 33, 82, 13, 57, 58, 60, 36, 37, 71, 25, 29, 46, 84, 61, 43, 32, 83, 62, 78, 8, 90, 21, 77, 31, 72, 74, 67, 44, 98, 47, 68, 87, 40]\n",
      "[53, 36, 30, 68, 43, 79, 91, 65, 12, 85, 90, 48, 58, 72, 83, 11, 34, 31, 54, 81, 37, 59, 5, 78, 6, 69, 17, 49, 82, 25, 89, 38, 92, 39, 50, 95, 7, 3, 66, 46, 98, 26, 74, 55, 42, 1, 16, 2, 76, 84, 15, 67, 80, 33, 56, 23, 86, 51, 62, 19, 87, 63, 60, 77, 21, 94, 14, 27, 44, 73, 88, 22, 41, 18, 52, 64, 24, 4, 40, 99, 96, 8, 35, 97, 20, 9, 61, 29, 45, 47]\n",
      "[35, 8, 12, 39, 24, 85, 92, 48, 61, 25, 78, 15, 30, 45, 1, 74, 17, 88, 40, 50, 2, 51, 56, 67, 73, 53, 26, 43, 94, 83, 97, 6, 70, 57, 86, 72, 66, 3, 21, 55, 38, 9, 4, 65, 69, 58, 80, 89, 34, 52, 27, 22, 41, 49, 98, 64, 46, 20, 79, 36, 96, 99, 63, 62, 76, 91, 54, 10, 7, 28, 95, 47, 44, 77, 5, 75, 13, 71, 33, 60, 14, 32, 68, 90, 19, 23, 82, 81, 16, 93]\n",
      "[54, 61, 28, 10, 25, 3, 32, 19, 80, 41, 48, 92, 22, 79, 37, 76, 7, 90, 86, 77, 55, 88, 94, 81, 62, 93, 9, 34, 17, 8, 67, 66, 98, 4, 13, 60, 75, 63, 1, 12, 56, 27, 44, 50, 11, 68, 85, 40, 30, 65, 21, 70, 59, 15, 5, 18, 87, 69, 58, 64, 26, 74, 36, 97, 35, 14, 95, 38, 49, 31, 24, 39, 33, 42, 2, 16, 47, 57, 43, 91, 73, 84, 23, 51, 96, 82, 29, 99, 89, 45]\n",
      "[65, 57, 6, 4, 24, 84, 58, 2, 39, 42, 76, 3, 77, 92, 80, 60, 75, 38, 96, 51, 97, 18, 12, 61, 98, 50, 32, 79, 13, 44, 45, 14, 69, 25, 48, 46, 91, 88, 99, 54, 87, 16, 1, 27, 20, 49, 85, 7, 94, 66, 9, 31, 23, 71, 21, 22, 10, 28, 74, 53, 62, 78, 26, 5, 29, 86, 11, 82, 8, 95, 40, 43, 59, 90, 89, 15, 34, 17, 55, 52, 63, 56, 67, 64, 70, 72, 83, 68, 93, 37]\n",
      "[42, 78, 38, 54, 99, 55, 41, 32, 18, 49, 76, 12, 2, 35, 47, 8, 45, 31, 73, 46, 23, 21, 7, 88, 9, 27, 80, 30, 52, 11, 17, 24, 83, 79, 36, 48, 92, 51, 29, 74, 87, 75, 85, 90, 10, 57, 26, 33, 15, 53, 68, 69, 70, 64, 81, 39, 86, 4, 97, 5, 63, 59, 16, 22, 40, 62, 56, 28, 37, 44, 25, 60, 93, 94, 50, 84, 98, 72, 67, 43, 89, 61, 91, 71, 82, 65, 14, 77, 13, 96]\n",
      "[56, 32, 97, 79, 95, 24, 16, 39, 54, 44, 22, 58, 99, 6, 15, 3, 85, 11, 70, 35, 33, 81, 66, 84, 98, 25, 23, 55, 20, 80, 73, 87, 93, 34, 8, 45, 10, 13, 29, 5, 82, 40, 52, 2, 43, 94, 46, 37, 19, 26, 67, 63, 89, 36, 90, 83, 68, 7, 51, 1, 30, 77, 49, 75, 41, 96, 50, 53, 18, 74, 28, 57, 48, 14, 4, 59, 27, 60, 64, 88, 42, 65, 92, 72, 9, 38, 12, 91, 69, 78]\n",
      "[71, 86, 95, 68, 26, 10, 37, 91, 38, 59, 92, 34, 15, 66, 5, 43, 12, 61, 17, 78, 21, 52, 55, 90, 42, 3, 94, 9, 54, 69, 24, 64, 57, 74, 30, 7, 39, 82, 89, 93, 35, 70, 11, 77, 88, 72, 60, 19, 23, 62, 16, 97, 1, 96, 87, 48, 44, 98, 73, 80, 28, 99, 40, 65, 47, 76, 14, 33, 31, 53, 29, 22, 13, 81, 49, 79, 83, 4, 36, 2, 27, 46, 41, 6, 85, 50, 20, 25, 84, 75]\n",
      "[41, 29, 66, 69, 76, 10, 37, 49, 62, 3, 21, 91, 15, 30, 93, 94, 44, 18, 13, 60, 58, 33, 28, 6, 96, 67, 46, 27, 48, 24, 92, 2, 71, 97, 11, 56, 99, 81, 43, 63, 19, 73, 79, 83, 9, 95, 82, 80, 47, 23, 42, 59, 86, 68, 89, 87, 57, 85, 39, 70, 50, 38, 1, 25, 98, 36, 55, 61, 40, 12, 53, 77, 17, 35, 16, 72, 84, 26, 88, 90, 8, 64, 78, 51, 20, 7, 32, 31, 45, 34]\n",
      "[72, 42, 49, 84, 61, 73, 99, 58, 7, 23, 32, 43, 95, 64, 96, 76, 60, 33, 2, 45, 71, 36, 44, 53, 18, 21, 63, 69, 87, 74, 70, 25, 17, 55, 1, 98, 41, 4, 77, 57, 54, 65, 67, 66, 31, 93, 26, 94, 46, 9, 24, 12, 30, 92, 56, 3, 40, 8, 22, 6, 62, 5, 14, 90, 27, 86, 47, 29, 48, 81, 78, 20, 83, 85, 80, 15, 51, 34, 38, 50, 28, 37, 39, 52, 82, 19, 89, 79, 10, 11]\n",
      "[59, 57, 88, 81, 96, 48, 15, 16, 69, 7, 47, 1, 22, 18, 78, 43, 13, 84, 26, 56, 17, 68, 91, 44, 24, 41, 60, 5, 32, 73, 85, 89, 38, 23, 82, 42, 54, 51, 14, 12, 70, 9, 36, 72, 66, 10, 2, 55, 28, 30, 52, 8, 50, 53, 25, 11, 40, 77, 76, 39, 86, 3, 74, 87, 93, 83, 80, 62, 79, 34, 21, 45, 4, 61, 20, 97, 58, 64, 67, 27, 49, 92, 46, 37, 94, 98, 99, 35, 75, 6]\n",
      "[7, 24, 86, 15, 29, 56, 53, 93, 90, 44, 19, 80, 96, 57, 32, 10, 52, 16, 4, 13, 26, 76, 5, 36, 62, 49, 68, 33, 39, 83, 88, 92, 14, 34, 18, 50, 85, 17, 64, 22, 84, 20, 98, 82, 27, 54, 58, 42, 95, 1, 94, 87, 61, 67, 21, 23, 47, 74, 69, 89, 75, 71, 99, 79, 59, 35, 37, 6, 41, 9, 2, 25, 8, 45, 81, 78, 48, 30, 11, 72, 3, 60, 77, 65, 70, 51, 46, 73, 63, 40]\n",
      "[15, 83, 64, 14, 31, 20, 80, 29, 63, 99, 51, 72, 37, 7, 74, 57, 93, 5, 86, 77, 79, 56, 70, 75, 96, 73, 43, 89, 65, 46, 87, 60, 2, 9, 69, 49, 12, 82, 66, 8, 94, 38, 25, 24, 54, 11, 10, 4, 36, 41, 91, 55, 21, 50, 47, 27, 32, 84, 44, 68, 59, 62, 98, 35, 97, 71, 78, 53, 34, 61, 67, 52, 58, 3, 1, 30, 76, 33, 95, 23, 85, 40, 88, 19, 26, 16, 6, 39, 48, 13]\n",
      "[28, 93, 66, 61, 54, 58, 90, 81, 92, 29, 69, 8, 34, 1, 44, 87, 33, 83, 64, 82, 5, 32, 55, 74, 20, 77, 27, 95, 23, 68, 31, 10, 85, 91, 63, 35, 38, 2, 60, 21, 11, 4, 16, 17, 13, 42, 80, 72, 71, 26, 73, 45, 52, 79, 18, 37, 70, 78, 96, 43, 57, 6, 97, 67, 98, 46, 14, 94, 3, 86, 59, 12, 41, 53, 50, 99, 84, 25, 9, 56, 51, 19, 76, 7, 89, 65, 24, 22, 48, 30]\n",
      "[37, 70, 93, 43, 15, 71, 48, 27, 23, 60, 34, 55, 8, 91, 50, 81, 32, 12, 4, 7, 44, 85, 72, 49, 42, 22, 30, 62, 76, 73, 46, 96, 18, 84, 41, 57, 77, 33, 99, 90, 95, 53, 39, 36, 88, 1, 35, 47, 9, 89, 61, 13, 97, 2, 45, 3, 52, 86, 68, 83, 19, 74, 14, 20, 58, 56, 82, 17, 54, 16, 80, 98, 59, 25, 92, 65, 38, 31, 5, 51, 69, 29, 63, 78, 40, 94, 75, 28, 87, 66]\n",
      "[23, 89, 9, 96, 74, 69, 58, 84, 14, 59, 52, 56, 65, 85, 42, 83, 62, 3, 18, 26, 60, 33, 38, 46, 48, 32, 70, 66, 94, 11, 22, 93, 88, 16, 25, 75, 44, 68, 80, 98, 39, 67, 5, 29, 57, 30, 37, 35, 19, 13, 54, 27, 4, 8, 10, 43, 47, 61, 64, 81, 71, 95, 49, 72, 55, 91, 92, 79, 41, 17, 87, 63, 90, 40, 15, 51, 76, 2, 1, 6, 36, 73, 78, 50, 21, 86, 24, 20, 53, 82]\n",
      "[47, 97, 54, 39, 20, 83, 82, 33, 36, 74, 8, 15, 7, 41, 76, 25, 90, 18, 19, 72, 9, 43, 58, 81, 73, 55, 28, 38, 30, 94, 68, 96, 42, 62, 6, 1, 23, 57, 63, 48, 59, 61, 52, 88, 3, 10, 53, 64, 44, 5, 50, 29, 37, 16, 92, 66, 70, 17, 40, 93, 21, 2, 32, 49, 69, 31, 56, 79, 13, 89, 71, 77, 22, 27, 86, 51, 95, 85, 4, 24, 26, 35, 98, 11, 67, 75, 60, 91, 34, 99]\n",
      "[91, 10, 89, 83, 58, 27, 96, 88, 42, 63, 40, 11, 4, 93, 61, 48, 49, 18, 28, 73, 92, 3, 72, 52, 53, 77, 94, 44, 54, 21, 31, 56, 24, 17, 51, 62, 2, 6, 69, 35, 32, 7, 43, 78, 47, 12, 33, 98, 8, 60, 99, 34, 15, 68, 70, 66, 67, 85, 55, 86, 26, 80, 5, 87, 95, 97, 74, 22, 9, 79, 65, 36, 20, 16, 41, 84, 29, 23, 46, 82, 25, 81, 59, 39, 1, 45, 30, 50, 38, 37]\n",
      "[43, 22, 3, 89, 7, 27, 92, 58, 17, 62, 67, 79, 50, 12, 26, 6, 64, 65, 35, 24, 54, 1, 9, 5, 39, 82, 30, 94, 11, 76, 52, 29, 73, 14, 2, 46, 74, 8, 91, 97, 55, 56, 45, 80, 60, 13, 95, 18, 68, 41, 36, 61, 44, 84, 93, 96, 70, 47, 78, 59, 53, 90, 31, 99, 72, 4, 81, 37, 69, 48, 88, 66, 87, 57, 98, 51, 42, 83, 34, 86, 10, 85, 77, 38, 20, 33, 75, 40, 21, 23]\n",
      "[23, 5, 41, 28, 48, 57, 51, 69, 45, 37, 9, 54, 78, 53, 70, 8, 81, 98, 7, 71, 26, 88, 74, 10, 86, 33, 82, 62, 95, 94, 90, 47, 35, 89, 49, 20, 36, 3, 87, 60, 77, 21, 32, 55, 64, 25, 29, 58, 96, 61, 15, 1, 34, 85, 83, 43, 79, 75, 6, 17, 80, 91, 99, 72, 30, 39, 84, 31, 16, 56, 11, 65, 73, 59, 92, 13, 50, 24, 4, 66, 46, 97, 38, 40, 93, 42, 76, 19, 14, 44]\n",
      "[33, 26, 30, 65, 32, 81, 76, 82, 34, 70, 78, 31, 22, 86, 10, 73, 38, 5, 49, 54, 40, 13, 62, 90, 11, 71, 75, 80, 17, 28, 77, 64, 6, 29, 24, 83, 18, 53, 45, 35, 19, 25, 68, 9, 43, 98, 36, 96, 69, 66, 95, 84, 59, 67, 3, 85, 41, 58, 14, 1, 74, 48, 20, 63, 2, 91, 50, 79, 99, 12, 87, 56, 27, 60, 15, 7, 94, 92, 89, 47, 37, 42, 55, 21, 51, 8, 93, 4, 61, 44]\n",
      "[4, 95, 11, 90, 48, 53, 15, 92, 5, 1, 96, 57, 34, 93, 60, 20, 84, 45, 56, 89, 44, 37, 24, 74, 76, 82, 77, 28, 7, 59, 88, 6, 32, 72, 12, 42, 66, 21, 23, 54, 8, 81, 38, 10, 31, 35, 83, 52, 47, 55, 98, 9, 39, 46, 86, 41, 99, 70, 64, 26, 87, 62, 19, 17, 85, 65, 58, 29, 61, 91, 33, 40, 68, 2, 25, 43, 27, 94, 51, 80, 79, 16, 22, 69, 49, 78, 18, 71, 97, 3]\n"
     ]
    }
   ],
   "source": [
    "for var in samp:\n",
    "    print(var)"
   ]
  },
  {
   "cell_type": "code",
   "execution_count": 123,
   "metadata": {},
   "outputs": [
    {
     "data": {
      "text/plain": [
       "50"
      ]
     },
     "execution_count": 123,
     "metadata": {},
     "output_type": "execute_result"
    }
   ],
   "source": [
    "len(samp)"
   ]
  },
  {
   "cell_type": "code",
   "execution_count": 124,
   "metadata": {},
   "outputs": [],
   "source": [
    "sam = []\n",
    "for var in samp:\n",
    "    sam.extend(var)"
   ]
  },
  {
   "cell_type": "code",
   "execution_count": 126,
   "metadata": {},
   "outputs": [
    {
     "name": "stdout",
     "output_type": "stream",
     "text": [
      "[40, 55, 23, 56, 19, 13, 96, 71, 34, 85, 86, 14, 35, 76, 58, 61, 51, 63, 91, 6, 25, 48, 41, 77, 15, 54, 46, 3, 9, 88, 79, 39, 59, 43, 97, 24, 53, 30, 87, 36, 12, 18, 83, 57, 2, 64, 70, 99, 80, 33, 62, 37, 1, 95, 7, 22, 38, 73, 5, 68, 26, 42, 60, 16, 93, 20, 72, 45, 28, 44, 8, 27, 94, 65, 98, 31, 11, 10, 52, 29, 32, 4, 75, 17, 92, 90, 49, 84, 89, 66, 47, 72, 18, 89, 14, 43, 87, 39, 79, 81, 27, 96, 1, 49, 59, 32, 61, 86, 7, 16, 95, 28, 46, 25, 12, 44, 41, 77, 82, 99, 69, 11, 48, 73, 83, 37, 84, 45, 93, 53, 75, 20, 71, 23, 90, 57, 31, 22, 19, 85, 88, 58, 5, 92, 66, 70, 56, 35, 50, 6, 38, 65, 42, 52, 17, 74, 36, 29, 3, 21, 15, 62, 2, 67, 55, 63, 60, 13, 30, 34, 80, 78, 98, 76, 54, 94, 64, 26, 40, 9, 41, 36, 87, 35, 56, 7, 18, 44, 32, 88, 3, 11, 59, 84, 13, 93, 86, 65, 98, 12, 94, 24, 68, 9, 34, 43, 51, 63, 20, 54, 66, 61, 83, 42, 23, 21, 49, 85, 46, 50, 40, 48, 16, 69, 90, 82, 77, 22, 19, 91, 27, 52, 2, 74, 76, 57, 81, 97, 47, 8, 39, 67, 70, 1, 92, 28, 55, 30, 5, 31, 45, 95, 64, 10, 33, 29, 15, 26, 6, 14, 73, 78, 99, 80, 79, 4, 60, 96, 75, 71, 86, 59, 97, 60, 51, 11, 36, 25, 76, 46, 55, 79, 87, 5, 2, 52, 3, 69, 45, 35, 78, 57, 20, 75, 23, 56, 4, 14, 74, 72, 67, 18, 28, 95, 61, 42, 22, 85, 38, 16, 19, 80, 62, 94, 9, 66, 64, 92, 15, 40, 21, 1, 32, 83, 30, 73, 48, 24, 13, 91, 54, 37, 49, 33, 12, 44, 41, 34, 7, 43, 53, 6, 77, 50, 89, 90, 65, 88, 8, 81, 70, 93, 84, 47, 58, 26, 39, 96, 63, 31, 62, 60, 32, 45, 67, 16, 88, 69, 50, 59, 41, 65, 31, 8, 99, 89, 15, 81, 71, 84, 68, 12, 87, 80, 78, 76, 21, 96, 57, 7, 20, 19, 72, 58, 2, 3, 55, 24, 98, 94, 1, 10, 93, 91, 35, 26, 13, 11, 23, 61, 64, 97, 83, 74, 77, 37, 95, 54, 6, 52, 42, 29, 17, 75, 18, 63, 36, 79, 38, 51, 49, 48, 86, 92, 44, 27, 30, 53, 56, 22, 33, 4, 14, 66, 28, 82, 9, 34, 43, 70, 68, 61, 32, 38, 60, 18, 26, 2, 73, 1, 85, 72, 58, 23, 17, 7, 25, 34, 12, 9, 92, 53, 30, 84, 45, 54, 44, 93, 43, 81, 47, 77, 80, 10, 4, 82, 5, 99, 35, 27, 22, 96, 19, 71, 74, 94, 11, 66, 13, 91, 89, 51, 65, 87, 6, 69, 39, 41, 75, 63, 3, 49, 90, 52, 48, 55, 62, 15, 95, 79, 29, 36, 56, 20, 57, 40, 16, 97, 21, 70, 76, 28, 8, 88, 46, 14, 31, 33, 24, 78, 34, 16, 3, 66, 46, 51, 18, 68, 5, 35, 64, 6, 11, 59, 78, 4, 40, 47, 90, 32, 36, 88, 37, 1, 94, 89, 25, 85, 79, 26, 53, 87, 81, 97, 72, 2, 70, 49, 48, 20, 65, 41, 93, 42, 77, 86, 52, 27, 76, 33, 99, 8, 21, 57, 75, 62, 60, 9, 84, 83, 80, 10, 17, 22, 82, 30, 50, 43, 14, 39, 54, 28, 23, 13, 44, 73, 24, 58, 7, 61, 92, 63, 71, 29, 55, 56, 38, 19, 45, 96, 67, 69, 26, 20, 91, 35, 30, 59, 34, 87, 23, 70, 97, 99, 56, 47, 28, 11, 61, 93, 9, 85, 73, 48, 38, 81, 37, 17, 66, 4, 54, 41, 33, 55, 96, 32, 14, 63, 21, 74, 72, 49, 18, 90, 13, 94, 10, 19, 76, 16, 77, 79, 1, 8, 51, 2, 71, 64, 82, 65, 15, 80, 88, 58, 6, 98, 36, 7, 44, 52, 53, 22, 84, 83, 95, 25, 29, 42, 27, 60, 40, 3, 46, 50, 39, 12, 31, 86, 57, 92, 39, 97, 7, 24, 5, 83, 75, 22, 95, 99, 4, 38, 87, 78, 36, 2, 91, 80, 98, 31, 86, 40, 28, 64, 67, 50, 44, 23, 90, 32, 79, 35, 81, 11, 65, 26, 77, 57, 51, 85, 41, 45, 54, 49, 42, 6, 9, 82, 29, 60, 15, 48, 70, 96, 53, 10, 89, 16, 69, 25, 43, 93, 12, 58, 8, 34, 52, 56, 66, 30, 94, 61, 68, 88, 14, 63, 71, 92, 55, 46, 27, 72, 19, 18, 13, 1, 74, 3, 20, 76, 71, 5, 27, 26, 68, 20, 92, 59, 30, 64, 81, 97, 25, 23, 35, 2, 34, 79, 83, 39, 74, 13, 12, 28, 62, 60, 54, 77, 38, 37, 89, 48, 9, 49, 72, 65, 51, 84, 91, 87, 80, 66, 86, 58, 50, 52, 14, 63, 55, 88, 94, 93, 31, 45, 11, 73, 96, 16, 8, 44, 82, 22, 67, 40, 10, 18, 99, 1, 70, 15, 56, 41, 53, 3, 95, 76, 57, 61, 6, 33, 46, 4, 36, 29, 85, 90, 98, 78, 24, 17, 83, 79, 90, 51, 11, 35, 36, 41, 44, 34, 69, 87, 65, 13, 21, 14, 50, 52, 97, 64, 82, 88, 78, 29, 60, 49, 68, 54, 4, 47, 23, 80, 10, 9, 18, 45, 3, 27, 99, 43, 93, 57, 39, 76, 77, 53, 30, 58, 17, 73, 67, 1, 7, 61, 12, 56, 38, 8, 25, 48, 70, 5, 55, 86, 94, 31, 85, 32, 16, 46, 26, 75, 59, 22, 74, 72, 95, 71, 84, 37, 20, 6, 66, 19, 81, 63, 42, 28, 15, 92, 76, 56, 64, 9, 32, 71, 27, 33, 38, 50, 26, 81, 7, 55, 84, 96, 17, 15, 58, 40, 68, 61, 14, 87, 69, 10, 65, 22, 57, 28, 88, 6, 47, 44, 41, 34, 13, 36, 63, 11, 98, 89, 20, 53, 43, 18, 73, 67, 24, 23, 39, 4, 12, 82, 21, 51, 72, 74, 1, 25, 90, 80, 94, 29, 60, 37, 52, 86, 95, 2, 99, 66, 31, 54, 8, 48, 75, 79, 78, 83, 19, 97, 35, 3, 85, 59, 62, 30, 49, 92, 68, 8, 39, 23, 17, 66, 87, 54, 91, 49, 43, 58, 95, 63, 26, 20, 65, 70, 93, 94, 42, 38, 13, 5, 2, 74, 14, 76, 80, 83, 64, 47, 33, 7, 12, 84, 60, 61, 18, 72, 44, 57, 9, 51, 31, 56, 98, 86, 55, 78, 41, 19, 27, 15, 52, 6, 28, 3, 96, 71, 46, 22, 1, 45, 81, 36, 62, 50, 92, 99, 97, 34, 40, 79, 77, 35, 67, 21, 25, 53, 75, 29, 90, 10, 59, 30, 88, 73, 82, 32, 12, 53, 14, 19, 3, 31, 75, 72, 24, 69, 76, 81, 77, 51, 41, 80, 27, 1, 49, 78, 39, 94, 22, 13, 44, 74, 71, 47, 68, 45, 17, 48, 88, 5, 83, 89, 40, 28, 59, 57, 93, 99, 97, 36, 10, 61, 96, 65, 95, 70, 25, 2, 21, 16, 46, 66, 37, 91, 98, 90, 9, 30, 82, 63, 60, 67, 8, 92, 33, 29, 73, 42, 64, 85, 6, 87, 86, 62, 4, 34, 55, 15, 26, 50, 11, 84, 56, 54, 43, 18, 91, 9, 44, 36, 45, 42, 37, 58, 95, 29, 4, 41, 98, 89, 15, 27, 26, 94, 21, 60, 90, 92, 97, 46, 59, 84, 99, 69, 3, 63, 25, 11, 40, 55, 67, 34, 49, 7, 38, 31, 17, 24, 66, 82, 93, 71, 78, 13, 1, 87, 56, 75, 5, 70, 81, 54, 12, 57, 30, 73, 80, 68, 62, 2, 23, 43, 86, 33, 51, 50, 18, 64, 28, 88, 14, 83, 6, 8, 10, 79, 32, 76, 20, 22, 35, 47, 96, 52, 39, 65, 85, 77, 68, 76, 45, 10, 66, 15, 38, 78, 65, 60, 44, 82, 4, 9, 86, 91, 20, 40, 54, 94, 49, 58, 70, 63, 37, 2, 31, 95, 71, 72, 14, 48, 34, 87, 12, 50, 32, 47, 84, 99, 57, 74, 3, 64, 97, 36, 25, 41, 46, 83, 75, 13, 29, 98, 52, 53, 93, 28, 33, 67, 17, 89, 24, 51, 35, 88, 59, 6, 92, 27, 43, 39, 62, 80, 90, 1, 21, 61, 11, 23, 96, 56, 16, 5, 73, 79, 55, 7, 54, 53, 99, 96, 69, 34, 62, 59, 87, 11, 73, 86, 5, 98, 17, 74, 67, 94, 24, 7, 80, 40, 20, 79, 89, 47, 93, 8, 49, 84, 88, 45, 18, 56, 6, 31, 4, 92, 1, 82, 52, 57, 22, 3, 19, 48, 58, 37, 27, 65, 44, 95, 51, 63, 2, 91, 36, 75, 12, 26, 97, 60, 68, 72, 71, 21, 30, 76, 33, 35, 39, 15, 85, 50, 61, 10, 14, 81, 38, 32, 9, 78, 77, 55, 16, 46, 25, 64, 90, 66, 32, 93, 63, 1, 64, 82, 37, 25, 52, 16, 17, 72, 28, 5, 41, 81, 35, 2, 39, 75, 21, 23, 36, 44, 55, 65, 46, 57, 51, 49, 29, 76, 34, 14, 8, 71, 42, 50, 7, 45, 78, 62, 56, 69, 40, 66, 99, 33, 12, 96, 83, 85, 61, 86, 90, 92, 20, 26, 89, 19, 30, 60, 3, 87, 15, 9, 94, 18, 84, 53, 13, 43, 77, 24, 31, 58, 48, 4, 73, 74, 70, 6, 10, 59, 98, 67, 97, 38, 68, 54, 88, 26, 84, 59, 14, 48, 42, 52, 94, 23, 32, 53, 31, 37, 3, 80, 43, 33, 98, 28, 72, 54, 1, 6, 99, 64, 10, 85, 69, 87, 65, 60, 41, 55, 77, 2, 90, 76, 46, 82, 20, 7, 81, 47, 22, 16, 61, 44, 75, 51, 68, 21, 66, 45, 74, 13, 97, 79, 50, 8, 29, 19, 40, 57, 95, 91, 35, 38, 4, 92, 93, 25, 89, 30, 83, 5, 71, 86, 70, 73, 96, 62, 18, 12, 67, 17, 63, 34, 15, 27, 10, 68, 40, 99, 91, 64, 65, 22, 7, 96, 41, 5, 80, 89, 70, 66, 74, 94, 92, 6, 13, 86, 32, 98, 73, 30, 67, 81, 21, 82, 25, 62, 72, 46, 29, 78, 51, 27, 1, 4, 55, 57, 58, 97, 45, 38, 16, 60, 69, 95, 50, 87, 9, 15, 54, 2, 28, 93, 19, 49, 63, 39, 12, 23, 76, 88, 34, 83, 90, 44, 43, 59, 18, 17, 35, 71, 75, 24, 11, 26, 52, 53, 84, 48, 37, 79, 56, 3, 20, 36, 28, 45, 97, 1, 36, 95, 77, 19, 35, 23, 9, 61, 11, 92, 65, 32, 66, 60, 27, 21, 34, 78, 87, 40, 12, 62, 5, 2, 75, 69, 10, 48, 80, 30, 67, 31, 72, 8, 24, 99, 3, 71, 15, 86, 84, 50, 42, 79, 52, 81, 49, 94, 98, 58, 20, 47, 33, 13, 41, 91, 96, 53, 82, 85, 54, 64, 7, 46, 37, 74, 57, 83, 90, 14, 29, 6, 59, 43, 26, 73, 4, 25, 18, 76, 39, 22, 63, 93, 55, 44, 68, 52, 85, 70, 3, 42, 89, 18, 71, 84, 29, 75, 79, 22, 50, 81, 86, 16, 8, 49, 53, 65, 37, 97, 91, 39, 1, 94, 15, 21, 56, 31, 77, 23, 24, 4, 26, 96, 32, 14, 47, 72, 90, 66, 43, 88, 76, 12, 13, 48, 51, 41, 61, 73, 92, 40, 6, 74, 5, 28, 17, 44, 10, 11, 38, 98, 80, 25, 27, 69, 55, 78, 57, 19, 87, 20, 59, 60, 64, 35, 63, 67, 36, 2, 34, 45, 7, 99, 83, 93, 50, 99, 87, 23, 42, 75, 55, 89, 1, 77, 61, 66, 37, 71, 8, 39, 14, 98, 40, 7, 26, 95, 64, 34, 25, 82, 68, 30, 32, 79, 90, 41, 22, 21, 35, 81, 16, 12, 36, 6, 17, 70, 47, 83, 44, 49, 96, 24, 65, 51, 13, 20, 93, 80, 92, 56, 4, 72, 60, 38, 59, 43, 94, 53, 46, 67, 57, 45, 63, 62, 15, 97, 85, 88, 33, 52, 86, 91, 9, 3, 18, 48, 5, 10, 73, 31, 29, 54, 69, 11, 19, 96, 88, 44, 28, 15, 46, 68, 77, 7, 47, 42, 86, 11, 85, 39, 69, 51, 31, 37, 49, 43, 3, 13, 99, 79, 24, 32, 98, 8, 6, 16, 45, 41, 21, 34, 63, 26, 97, 55, 25, 20, 30, 80, 53, 91, 73, 12, 9, 56, 58, 60, 89, 75, 22, 94, 84, 66, 54, 92, 76, 64, 36, 18, 83, 65, 52, 5, 82, 14, 57, 87, 70, 35, 72, 10, 67, 62, 27, 1, 17, 38, 48, 23, 93, 81, 59, 74, 2, 95, 1, 39, 66, 85, 58, 73, 64, 82, 81, 95, 56, 9, 37, 98, 51, 20, 3, 32, 12, 80, 75, 49, 84, 97, 77, 7, 94, 42, 27, 83, 44, 2, 70, 86, 90, 40, 65, 36, 93, 38, 41, 16, 17, 59, 68, 21, 19, 13, 26, 46, 92, 43, 15, 63, 89, 55, 23, 4, 62, 29, 5, 24, 48, 79, 67, 69, 11, 47, 22, 33, 30, 57, 28, 31, 35, 74, 45, 99, 76, 71, 8, 78, 72, 61, 54, 34, 18, 88, 50, 53, 79, 5, 97, 77, 43, 2, 25, 50, 80, 22, 47, 54, 19, 53, 55, 86, 23, 88, 94, 98, 69, 90, 44, 28, 42, 31, 40, 76, 12, 6, 61, 81, 46, 3, 51, 92, 4, 34, 91, 68, 63, 89, 33, 93, 26, 99, 24, 67, 70, 18, 17, 71, 87, 7, 9, 75, 78, 45, 52, 65, 29, 16, 13, 83, 37, 64, 66, 56, 72, 11, 62, 58, 85, 1, 38, 32, 84, 73, 74, 41, 82, 27, 95, 8, 39, 30, 14, 49, 60, 21, 65, 78, 73, 91, 18, 24, 31, 63, 39, 11, 96, 58, 99, 74, 88, 82, 44, 72, 23, 59, 43, 4, 34, 89, 35, 7, 12, 10, 71, 40, 75, 25, 8, 57, 53, 76, 92, 51, 22, 93, 60, 16, 47, 36, 97, 32, 86, 41, 6, 27, 26, 54, 68, 67, 87, 81, 42, 2, 21, 37, 64, 77, 66, 52, 45, 9, 30, 90, 3, 69, 55, 29, 28, 50, 85, 79, 56, 49, 5, 62, 38, 19, 94, 14, 95, 13, 80, 48, 33, 20, 13, 70, 33, 85, 93, 80, 78, 19, 65, 17, 99, 45, 2, 47, 30, 75, 25, 91, 36, 79, 21, 54, 43, 77, 60, 90, 56, 4, 68, 57, 51, 39, 61, 64, 58, 40, 3, 66, 10, 53, 63, 7, 26, 59, 37, 41, 34, 11, 1, 83, 86, 9, 76, 32, 94, 42, 5, 98, 12, 23, 24, 71, 55, 87, 81, 22, 29, 8, 38, 52, 20, 67, 89, 72, 96, 92, 95, 44, 15, 28, 97, 27, 73, 62, 74, 46, 14, 18, 49, 88, 69, 81, 52, 73, 94, 54, 1, 42, 26, 11, 5, 95, 56, 85, 96, 4, 88, 15, 22, 70, 49, 79, 28, 63, 3, 14, 97, 48, 99, 66, 6, 93, 9, 75, 92, 17, 27, 80, 41, 18, 55, 64, 10, 86, 50, 30, 7, 51, 12, 2, 34, 59, 19, 24, 76, 39, 91, 33, 82, 13, 57, 58, 60, 36, 37, 71, 25, 29, 46, 84, 61, 43, 32, 83, 62, 78, 8, 90, 21, 77, 31, 72, 74, 67, 44, 98, 47, 68, 87, 40, 53, 36, 30, 68, 43, 79, 91, 65, 12, 85, 90, 48, 58, 72, 83, 11, 34, 31, 54, 81, 37, 59, 5, 78, 6, 69, 17, 49, 82, 25, 89, 38, 92, 39, 50, 95, 7, 3, 66, 46, 98, 26, 74, 55, 42, 1, 16, 2, 76, 84, 15, 67, 80, 33, 56, 23, 86, 51, 62, 19, 87, 63, 60, 77, 21, 94, 14, 27, 44, 73, 88, 22, 41, 18, 52, 64, 24, 4, 40, 99, 96, 8, 35, 97, 20, 9, 61, 29, 45, 47, 35, 8, 12, 39, 24, 85, 92, 48, 61, 25, 78, 15, 30, 45, 1, 74, 17, 88, 40, 50, 2, 51, 56, 67, 73, 53, 26, 43, 94, 83, 97, 6, 70, 57, 86, 72, 66, 3, 21, 55, 38, 9, 4, 65, 69, 58, 80, 89, 34, 52, 27, 22, 41, 49, 98, 64, 46, 20, 79, 36, 96, 99, 63, 62, 76, 91, 54, 10, 7, 28, 95, 47, 44, 77, 5, 75, 13, 71, 33, 60, 14, 32, 68, 90, 19, 23, 82, 81, 16, 93, 54, 61, 28, 10, 25, 3, 32, 19, 80, 41, 48, 92, 22, 79, 37, 76, 7, 90, 86, 77, 55, 88, 94, 81, 62, 93, 9, 34, 17, 8, 67, 66, 98, 4, 13, 60, 75, 63, 1, 12, 56, 27, 44, 50, 11, 68, 85, 40, 30, 65, 21, 70, 59, 15, 5, 18, 87, 69, 58, 64, 26, 74, 36, 97, 35, 14, 95, 38, 49, 31, 24, 39, 33, 42, 2, 16, 47, 57, 43, 91, 73, 84, 23, 51, 96, 82, 29, 99, 89, 45, 65, 57, 6, 4, 24, 84, 58, 2, 39, 42, 76, 3, 77, 92, 80, 60, 75, 38, 96, 51, 97, 18, 12, 61, 98, 50, 32, 79, 13, 44, 45, 14, 69, 25, 48, 46, 91, 88, 99, 54, 87, 16, 1, 27, 20, 49, 85, 7, 94, 66, 9, 31, 23, 71, 21, 22, 10, 28, 74, 53, 62, 78, 26, 5, 29, 86, 11, 82, 8, 95, 40, 43, 59, 90, 89, 15, 34, 17, 55, 52, 63, 56, 67, 64, 70, 72, 83, 68, 93, 37, 42, 78, 38, 54, 99, 55, 41, 32, 18, 49, 76, 12, 2, 35, 47, 8, 45, 31, 73, 46, 23, 21, 7, 88, 9, 27, 80, 30, 52, 11, 17, 24, 83, 79, 36, 48, 92, 51, 29, 74, 87, 75, 85, 90, 10, 57, 26, 33, 15, 53, 68, 69, 70, 64, 81, 39, 86, 4, 97, 5, 63, 59, 16, 22, 40, 62, 56, 28, 37, 44, 25, 60, 93, 94, 50, 84, 98, 72, 67, 43, 89, 61, 91, 71, 82, 65, 14, 77, 13, 96, 56, 32, 97, 79, 95, 24, 16, 39, 54, 44, 22, 58, 99, 6, 15, 3, 85, 11, 70, 35, 33, 81, 66, 84, 98, 25, 23, 55, 20, 80, 73, 87, 93, 34, 8, 45, 10, 13, 29, 5, 82, 40, 52, 2, 43, 94, 46, 37, 19, 26, 67, 63, 89, 36, 90, 83, 68, 7, 51, 1, 30, 77, 49, 75, 41, 96, 50, 53, 18, 74, 28, 57, 48, 14, 4, 59, 27, 60, 64, 88, 42, 65, 92, 72, 9, 38, 12, 91, 69, 78, 71, 86, 95, 68, 26, 10, 37, 91, 38, 59, 92, 34, 15, 66, 5, 43, 12, 61, 17, 78, 21, 52, 55, 90, 42, 3, 94, 9, 54, 69, 24, 64, 57, 74, 30, 7, 39, 82, 89, 93, 35, 70, 11, 77, 88, 72, 60, 19, 23, 62, 16, 97, 1, 96, 87, 48, 44, 98, 73, 80, 28, 99, 40, 65, 47, 76, 14, 33, 31, 53, 29, 22, 13, 81, 49, 79, 83, 4, 36, 2, 27, 46, 41, 6, 85, 50, 20, 25, 84, 75, 41, 29, 66, 69, 76, 10, 37, 49, 62, 3, 21, 91, 15, 30, 93, 94, 44, 18, 13, 60, 58, 33, 28, 6, 96, 67, 46, 27, 48, 24, 92, 2, 71, 97, 11, 56, 99, 81, 43, 63, 19, 73, 79, 83, 9, 95, 82, 80, 47, 23, 42, 59, 86, 68, 89, 87, 57, 85, 39, 70, 50, 38, 1, 25, 98, 36, 55, 61, 40, 12, 53, 77, 17, 35, 16, 72, 84, 26, 88, 90, 8, 64, 78, 51, 20, 7, 32, 31, 45, 34, 72, 42, 49, 84, 61, 73, 99, 58, 7, 23, 32, 43, 95, 64, 96, 76, 60, 33, 2, 45, 71, 36, 44, 53, 18, 21, 63, 69, 87, 74, 70, 25, 17, 55, 1, 98, 41, 4, 77, 57, 54, 65, 67, 66, 31, 93, 26, 94, 46, 9, 24, 12, 30, 92, 56, 3, 40, 8, 22, 6, 62, 5, 14, 90, 27, 86, 47, 29, 48, 81, 78, 20, 83, 85, 80, 15, 51, 34, 38, 50, 28, 37, 39, 52, 82, 19, 89, 79, 10, 11, 59, 57, 88, 81, 96, 48, 15, 16, 69, 7, 47, 1, 22, 18, 78, 43, 13, 84, 26, 56, 17, 68, 91, 44, 24, 41, 60, 5, 32, 73, 85, 89, 38, 23, 82, 42, 54, 51, 14, 12, 70, 9, 36, 72, 66, 10, 2, 55, 28, 30, 52, 8, 50, 53, 25, 11, 40, 77, 76, 39, 86, 3, 74, 87, 93, 83, 80, 62, 79, 34, 21, 45, 4, 61, 20, 97, 58, 64, 67, 27, 49, 92, 46, 37, 94, 98, 99, 35, 75, 6, 7, 24, 86, 15, 29, 56, 53, 93, 90, 44, 19, 80, 96, 57, 32, 10, 52, 16, 4, 13, 26, 76, 5, 36, 62, 49, 68, 33, 39, 83, 88, 92, 14, 34, 18, 50, 85, 17, 64, 22, 84, 20, 98, 82, 27, 54, 58, 42, 95, 1, 94, 87, 61, 67, 21, 23, 47, 74, 69, 89, 75, 71, 99, 79, 59, 35, 37, 6, 41, 9, 2, 25, 8, 45, 81, 78, 48, 30, 11, 72, 3, 60, 77, 65, 70, 51, 46, 73, 63, 40, 15, 83, 64, 14, 31, 20, 80, 29, 63, 99, 51, 72, 37, 7, 74, 57, 93, 5, 86, 77, 79, 56, 70, 75, 96, 73, 43, 89, 65, 46, 87, 60, 2, 9, 69, 49, 12, 82, 66, 8, 94, 38, 25, 24, 54, 11, 10, 4, 36, 41, 91, 55, 21, 50, 47, 27, 32, 84, 44, 68, 59, 62, 98, 35, 97, 71, 78, 53, 34, 61, 67, 52, 58, 3, 1, 30, 76, 33, 95, 23, 85, 40, 88, 19, 26, 16, 6, 39, 48, 13, 28, 93, 66, 61, 54, 58, 90, 81, 92, 29, 69, 8, 34, 1, 44, 87, 33, 83, 64, 82, 5, 32, 55, 74, 20, 77, 27, 95, 23, 68, 31, 10, 85, 91, 63, 35, 38, 2, 60, 21, 11, 4, 16, 17, 13, 42, 80, 72, 71, 26, 73, 45, 52, 79, 18, 37, 70, 78, 96, 43, 57, 6, 97, 67, 98, 46, 14, 94, 3, 86, 59, 12, 41, 53, 50, 99, 84, 25, 9, 56, 51, 19, 76, 7, 89, 65, 24, 22, 48, 30, 37, 70, 93, 43, 15, 71, 48, 27, 23, 60, 34, 55, 8, 91, 50, 81, 32, 12, 4, 7, 44, 85, 72, 49, 42, 22, 30, 62, 76, 73, 46, 96, 18, 84, 41, 57, 77, 33, 99, 90, 95, 53, 39, 36, 88, 1, 35, 47, 9, 89, 61, 13, 97, 2, 45, 3, 52, 86, 68, 83, 19, 74, 14, 20, 58, 56, 82, 17, 54, 16, 80, 98, 59, 25, 92, 65, 38, 31, 5, 51, 69, 29, 63, 78, 40, 94, 75, 28, 87, 66, 23, 89, 9, 96, 74, 69, 58, 84, 14, 59, 52, 56, 65, 85, 42, 83, 62, 3, 18, 26, 60, 33, 38, 46, 48, 32, 70, 66, 94, 11, 22, 93, 88, 16, 25, 75, 44, 68, 80, 98, 39, 67, 5, 29, 57, 30, 37, 35, 19, 13, 54, 27, 4, 8, 10, 43, 47, 61, 64, 81, 71, 95, 49, 72, 55, 91, 92, 79, 41, 17, 87, 63, 90, 40, 15, 51, 76, 2, 1, 6, 36, 73, 78, 50, 21, 86, 24, 20, 53, 82, 47, 97, 54, 39, 20, 83, 82, 33, 36, 74, 8, 15, 7, 41, 76, 25, 90, 18, 19, 72, 9, 43, 58, 81, 73, 55, 28, 38, 30, 94, 68, 96, 42, 62, 6, 1, 23, 57, 63, 48, 59, 61, 52, 88, 3, 10, 53, 64, 44, 5, 50, 29, 37, 16, 92, 66, 70, 17, 40, 93, 21, 2, 32, 49, 69, 31, 56, 79, 13, 89, 71, 77, 22, 27, 86, 51, 95, 85, 4, 24, 26, 35, 98, 11, 67, 75, 60, 91, 34, 99, 91, 10, 89, 83, 58, 27, 96, 88, 42, 63, 40, 11, 4, 93, 61, 48, 49, 18, 28, 73, 92, 3, 72, 52, 53, 77, 94, 44, 54, 21, 31, 56, 24, 17, 51, 62, 2, 6, 69, 35, 32, 7, 43, 78, 47, 12, 33, 98, 8, 60, 99, 34, 15, 68, 70, 66, 67, 85, 55, 86, 26, 80, 5, 87, 95, 97, 74, 22, 9, 79, 65, 36, 20, 16, 41, 84, 29, 23, 46, 82, 25, 81, 59, 39, 1, 45, 30, 50, 38, 37, 43, 22, 3, 89, 7, 27, 92, 58, 17, 62, 67, 79, 50, 12, 26, 6, 64, 65, 35, 24, 54, 1, 9, 5, 39, 82, 30, 94, 11, 76, 52, 29, 73, 14, 2, 46, 74, 8, 91, 97, 55, 56, 45, 80, 60, 13, 95, 18, 68, 41, 36, 61, 44, 84, 93, 96, 70, 47, 78, 59, 53, 90, 31, 99, 72, 4, 81, 37, 69, 48, 88, 66, 87, 57, 98, 51, 42, 83, 34, 86, 10, 85, 77, 38, 20, 33, 75, 40, 21, 23, 23, 5, 41, 28, 48, 57, 51, 69, 45, 37, 9, 54, 78, 53, 70, 8, 81, 98, 7, 71, 26, 88, 74, 10, 86, 33, 82, 62, 95, 94, 90, 47, 35, 89, 49, 20, 36, 3, 87, 60, 77, 21, 32, 55, 64, 25, 29, 58, 96, 61, 15, 1, 34, 85, 83, 43, 79, 75, 6, 17, 80, 91, 99, 72, 30, 39, 84, 31, 16, 56, 11, 65, 73, 59, 92, 13, 50, 24, 4, 66, 46, 97, 38, 40, 93, 42, 76, 19, 14, 44, 33, 26, 30, 65, 32, 81, 76, 82, 34, 70, 78, 31, 22, 86, 10, 73, 38, 5, 49, 54, 40, 13, 62, 90, 11, 71, 75, 80, 17, 28, 77, 64, 6, 29, 24, 83, 18, 53, 45, 35, 19, 25, 68, 9, 43, 98, 36, 96, 69, 66, 95, 84, 59, 67, 3, 85, 41, 58, 14, 1, 74, 48, 20, 63, 2, 91, 50, 79, 99, 12, 87, 56, 27, 60, 15, 7, 94, 92, 89, 47, 37, 42, 55, 21, 51, 8, 93, 4, 61, 44, 4, 95, 11, 90, 48, 53, 15, 92, 5, 1, 96, 57, 34, 93, 60, 20, 84, 45, 56, 89, 44, 37, 24, 74, 76, 82, 77, 28, 7, 59, 88, 6, 32, 72, 12, 42, 66, 21, 23, 54, 8, 81, 38, 10, 31, 35, 83, 52, 47, 55, 98, 9, 39, 46, 86, 41, 99, 70, 64, 26, 87, 62, 19, 17, 85, 65, 58, 29, 61, 91, 33, 40, 68, 2, 25, 43, 27, 94, 51, 80, 79, 16, 22, 69, 49, 78, 18, 71, 97, 3]\n"
     ]
    }
   ],
   "source": [
    "print(sam)"
   ]
  },
  {
   "cell_type": "code",
   "execution_count": 127,
   "metadata": {},
   "outputs": [
    {
     "data": {
      "text/plain": [
       "4500"
      ]
     },
     "execution_count": 127,
     "metadata": {},
     "output_type": "execute_result"
    }
   ],
   "source": [
    "len(sam)"
   ]
  },
  {
   "cell_type": "code",
   "execution_count": 129,
   "metadata": {},
   "outputs": [
    {
     "data": {
      "text/plain": [
       "['ajay',\n",
       " 'python',\n",
       " 'jeet',\n",
       " 'umesh',\n",
       " 'anup',\n",
       " 'rahul',\n",
       " 'prince',\n",
       " 'bhasker',\n",
       " 'akshay',\n",
       " 'shardool',\n",
       " 'kayur',\n",
       " 'bharat']"
      ]
     },
     "execution_count": 129,
     "metadata": {},
     "output_type": "execute_result"
    }
   ],
   "source": [
    "name"
   ]
  },
  {
   "cell_type": "code",
   "execution_count": 130,
   "metadata": {},
   "outputs": [
    {
     "name": "stdout",
     "output_type": "stream",
     "text": [
      "['kayur', 'bhasker', 'anup', 'python', 'kayur', 'anup', 'rahul', 'bhasker', 'shardool', 'bhasker', 'ajay', 'python', 'bhasker', 'prince', 'akshay', 'akshay', 'rahul', 'bharat', 'bhasker', 'python']\n"
     ]
    }
   ],
   "source": [
    "rand = [random.choice(name) for var in range(20)]\n",
    "print(rand)"
   ]
  },
  {
   "cell_type": "code",
   "execution_count": 134,
   "metadata": {},
   "outputs": [
    {
     "data": {
      "text/plain": [
       "'prince'"
      ]
     },
     "execution_count": 134,
     "metadata": {},
     "output_type": "execute_result"
    }
   ],
   "source": [
    "random.choice(name)"
   ]
  },
  {
   "cell_type": "code",
   "execution_count": 135,
   "metadata": {},
   "outputs": [
    {
     "data": {
      "text/plain": [
       "20"
      ]
     },
     "execution_count": 135,
     "metadata": {},
     "output_type": "execute_result"
    }
   ],
   "source": [
    "len(rand)"
   ]
  },
  {
   "cell_type": "code",
   "execution_count": 136,
   "metadata": {},
   "outputs": [
    {
     "name": "stdout",
     "output_type": "stream",
     "text": [
      "Names = [0]python\n",
      "Names = [1]awsome\n",
      "Names = [2]sachin\n",
      "Names = [3]vipul\n",
      "Names = [4]shubham\n",
      "Names = [5]harsh\n",
      "Names = [6]yashi\n",
      "Names = [7]vipul\n",
      "Names = [8]ajay\n",
      "Names = [9]nikhil\n",
      "Names = [10]rajesh\n",
      "Names = [11]naresh\n"
     ]
    }
   ],
   "source": [
    "name=  [input('Names = [{}]'.format(counter)) for counter in range(12)]"
   ]
  },
  {
   "cell_type": "code",
   "execution_count": 137,
   "metadata": {},
   "outputs": [
    {
     "name": "stdout",
     "output_type": "stream",
     "text": [
      "['python', 'awsome', 'sachin', 'vipul', 'shubham', 'harsh', 'yashi', 'vipul', 'ajay', 'nikhil', 'rajesh', 'naresh']\n"
     ]
    }
   ],
   "source": [
    "print(name)"
   ]
  },
  {
   "cell_type": "code",
   "execution_count": 138,
   "metadata": {},
   "outputs": [
    {
     "name": "stdout",
     "output_type": "stream",
     "text": [
      "ajay shubham\n",
      "vipul sachin\n",
      "kushall wushal\n"
     ]
    }
   ],
   "source": [
    "li = [['ajay','shubham'],['vipul','sachin'],['kushall','wushal']]\n",
    "for v,c in li:\n",
    "    print(v,c)"
   ]
  },
  {
   "cell_type": "code",
   "execution_count": 139,
   "metadata": {},
   "outputs": [
    {
     "name": "stdout",
     "output_type": "stream",
     "text": [
      "70 pytonhellobyebye\n"
     ]
    }
   ],
   "source": [
    "li = [1,2,'pyton','hello',67,'byebye']\n",
    "print(li[-2]+li[0]+li[1],li[2]+li[3]+li[-1])"
   ]
  },
  {
   "cell_type": "markdown",
   "metadata": {},
   "source": [
    "# Dictionary"
   ]
  },
  {
   "cell_type": "code",
   "execution_count": 17,
   "metadata": {},
   "outputs": [],
   "source": [
    "d = {\n",
    "    'name':'python',\n",
    "    'creator':'guido van rossum',\n",
    "    'version':3.7\n",
    "}"
   ]
  },
  {
   "cell_type": "code",
   "execution_count": 18,
   "metadata": {},
   "outputs": [],
   "source": [
    "framwork = {\n",
    "    'datascience':['numpy','pandas','matplotlib'],\n",
    "        'web_dev' : ['django','flask'],\n",
    "            'mach_learn' : ['sckit_learn','scipy'],\n",
    "            'bigdata' : 'spark'\n",
    "}"
   ]
  },
  {
   "cell_type": "code",
   "execution_count": 19,
   "metadata": {},
   "outputs": [
    {
     "data": {
      "text/plain": [
       "{'name': 'python', 'creator': 'guido van rossum', 'version': 3.7}"
      ]
     },
     "execution_count": 19,
     "metadata": {},
     "output_type": "execute_result"
    }
   ],
   "source": [
    "d"
   ]
  },
  {
   "cell_type": "code",
   "execution_count": 20,
   "metadata": {},
   "outputs": [
    {
     "data": {
      "text/plain": [
       "{'datascience': ['numpy', 'pandas', 'matplotlib'],\n",
       " 'web_dev': ['django', 'flask'],\n",
       " 'mach_learn': ['sckit_learn', 'scipy'],\n",
       " 'bigdata': 'spark'}"
      ]
     },
     "execution_count": 20,
     "metadata": {},
     "output_type": "execute_result"
    }
   ],
   "source": [
    "framwork"
   ]
  },
  {
   "cell_type": "code",
   "execution_count": 21,
   "metadata": {},
   "outputs": [
    {
     "name": "stdout",
     "output_type": "stream",
     "text": [
      "{'name': 'python', 'creator': 'guido van rossum', 'version': 3.7}\n",
      "<class 'dict'>\n"
     ]
    }
   ],
   "source": [
    "print(d)\n",
    "print(type(d))"
   ]
  },
  {
   "cell_type": "code",
   "execution_count": 22,
   "metadata": {},
   "outputs": [
    {
     "name": "stdout",
     "output_type": "stream",
     "text": [
      "['__class__', '__contains__', '__delattr__', '__delitem__', '__dir__', '__doc__', '__eq__', '__format__', '__ge__', '__getattribute__', '__getitem__', '__gt__', '__hash__', '__init__', '__init_subclass__', '__iter__', '__le__', '__len__', '__lt__', '__ne__', '__new__', '__reduce__', '__reduce_ex__', '__repr__', '__setattr__', '__setitem__', '__sizeof__', '__str__', '__subclasshook__', 'clear', 'copy', 'fromkeys', 'get', 'items', 'keys', 'pop', 'popitem', 'setdefault', 'update', 'values']\n"
     ]
    }
   ],
   "source": [
    "print(dir(d))"
   ]
  },
  {
   "cell_type": "code",
   "execution_count": 23,
   "metadata": {},
   "outputs": [
    {
     "ename": "TypeError",
     "evalue": "unsupported operand type(s) for +: 'dict' and 'dict'",
     "output_type": "error",
     "traceback": [
      "\u001b[1;31m---------------------------------------------------------------------------\u001b[0m",
      "\u001b[1;31mTypeError\u001b[0m                                 Traceback (most recent call last)",
      "\u001b[1;32m<ipython-input-23-0b35bb1678f8>\u001b[0m in \u001b[0;36m<module>\u001b[1;34m()\u001b[0m\n\u001b[1;32m----> 1\u001b[1;33m \u001b[0md\u001b[0m \u001b[1;33m+\u001b[0m \u001b[0mframwork\u001b[0m\u001b[1;33m\u001b[0m\u001b[0m\n\u001b[0m",
      "\u001b[1;31mTypeError\u001b[0m: unsupported operand type(s) for +: 'dict' and 'dict'"
     ]
    }
   ],
   "source": [
    "d + framwork"
   ]
  },
  {
   "cell_type": "code",
   "execution_count": 24,
   "metadata": {},
   "outputs": [
    {
     "data": {
      "text/plain": [
       "{'name': 'python', 'creator': 'guido van rossum', 'version': 3.7}"
      ]
     },
     "execution_count": 24,
     "metadata": {},
     "output_type": "execute_result"
    }
   ],
   "source": [
    "d_new = d\n",
    "d_new"
   ]
  },
  {
   "cell_type": "code",
   "execution_count": 13,
   "metadata": {},
   "outputs": [],
   "source": [
    "d.clear()"
   ]
  },
  {
   "cell_type": "code",
   "execution_count": 25,
   "metadata": {},
   "outputs": [
    {
     "data": {
      "text/plain": [
       "{'name': 'python', 'creator': 'guido van rossum', 'version': 3.7}"
      ]
     },
     "execution_count": 25,
     "metadata": {},
     "output_type": "execute_result"
    }
   ],
   "source": [
    "d"
   ]
  },
  {
   "cell_type": "code",
   "execution_count": 26,
   "metadata": {},
   "outputs": [
    {
     "data": {
      "text/plain": [
       "{'name': 'python', 'creator': 'guido van rossum', 'version': 3.7}"
      ]
     },
     "execution_count": 26,
     "metadata": {},
     "output_type": "execute_result"
    }
   ],
   "source": [
    "d_new"
   ]
  },
  {
   "cell_type": "code",
   "execution_count": 27,
   "metadata": {},
   "outputs": [
    {
     "name": "stdout",
     "output_type": "stream",
     "text": [
      "1683722127184\n",
      "1683722127184\n"
     ]
    }
   ],
   "source": [
    "print(id(d))\n",
    "print(id(d_new))"
   ]
  },
  {
   "cell_type": "code",
   "execution_count": 28,
   "metadata": {},
   "outputs": [],
   "source": [
    "di = d.copy()"
   ]
  },
  {
   "cell_type": "code",
   "execution_count": 29,
   "metadata": {},
   "outputs": [
    {
     "name": "stdout",
     "output_type": "stream",
     "text": [
      "1683722675760\n",
      "1683722127184\n"
     ]
    }
   ],
   "source": [
    "print(id(di))\n",
    "print(id(d))"
   ]
  },
  {
   "cell_type": "code",
   "execution_count": 30,
   "metadata": {},
   "outputs": [],
   "source": [
    "d['teach'] = 'ajay'"
   ]
  },
  {
   "cell_type": "code",
   "execution_count": 31,
   "metadata": {},
   "outputs": [
    {
     "data": {
      "text/plain": [
       "{'name': 'python',\n",
       " 'creator': 'guido van rossum',\n",
       " 'version': 3.7,\n",
       " 'teach': 'ajay'}"
      ]
     },
     "execution_count": 31,
     "metadata": {},
     "output_type": "execute_result"
    }
   ],
   "source": [
    "d"
   ]
  },
  {
   "cell_type": "code",
   "execution_count": 33,
   "metadata": {},
   "outputs": [
    {
     "data": {
      "text/plain": [
       "'python'"
      ]
     },
     "execution_count": 33,
     "metadata": {},
     "output_type": "execute_result"
    }
   ],
   "source": [
    "d.get('name')"
   ]
  },
  {
   "cell_type": "code",
   "execution_count": 34,
   "metadata": {},
   "outputs": [
    {
     "data": {
      "text/plain": [
       "'python'"
      ]
     },
     "execution_count": 34,
     "metadata": {},
     "output_type": "execute_result"
    }
   ],
   "source": [
    "d['name']"
   ]
  },
  {
   "cell_type": "code",
   "execution_count": 35,
   "metadata": {},
   "outputs": [
    {
     "data": {
      "text/plain": [
       "dict_items([('name', 'python'), ('creator', 'guido van rossum'), ('version', 3.7), ('teach', 'ajay')])"
      ]
     },
     "execution_count": 35,
     "metadata": {},
     "output_type": "execute_result"
    }
   ],
   "source": [
    "d.items()"
   ]
  },
  {
   "cell_type": "code",
   "execution_count": 36,
   "metadata": {},
   "outputs": [
    {
     "name": "stdout",
     "output_type": "stream",
     "text": [
      "name\t\tpython\n",
      "creator\t\tguido van rossum\n",
      "version\t\t3.7\n",
      "teach\t\tajay\n"
     ]
    }
   ],
   "source": [
    "for key,value in d.items():\n",
    "    print(key,value,sep='\\t\\t')"
   ]
  },
  {
   "cell_type": "code",
   "execution_count": 37,
   "metadata": {},
   "outputs": [
    {
     "data": {
      "text/plain": [
       "dict_keys(['name', 'creator', 'version', 'teach'])"
      ]
     },
     "execution_count": 37,
     "metadata": {},
     "output_type": "execute_result"
    }
   ],
   "source": [
    "d.keys()"
   ]
  },
  {
   "cell_type": "code",
   "execution_count": 38,
   "metadata": {},
   "outputs": [
    {
     "data": {
      "text/plain": [
       "dict_values(['python', 'guido van rossum', 3.7, 'ajay'])"
      ]
     },
     "execution_count": 38,
     "metadata": {},
     "output_type": "execute_result"
    }
   ],
   "source": [
    "d.values()"
   ]
  },
  {
   "cell_type": "code",
   "execution_count": 40,
   "metadata": {},
   "outputs": [],
   "source": [
    "d.update([('python','grras'),('grras','rajesh')])"
   ]
  },
  {
   "cell_type": "code",
   "execution_count": 41,
   "metadata": {},
   "outputs": [
    {
     "data": {
      "text/plain": [
       "{'name': 'python',\n",
       " 'creator': 'guido van rossum',\n",
       " 'version': 3.7,\n",
       " 'teach': 'ajay',\n",
       " 'python': 'grras',\n",
       " 'grras': 'rajesh'}"
      ]
     },
     "execution_count": 41,
     "metadata": {},
     "output_type": "execute_result"
    }
   ],
   "source": [
    "d"
   ]
  },
  {
   "cell_type": "code",
   "execution_count": 43,
   "metadata": {},
   "outputs": [
    {
     "name": "stdout",
     "output_type": "stream",
     "text": [
      "you name is python and you values is guido van rossum\n"
     ]
    }
   ],
   "source": [
    "c = \"you name is {name} and you values is {creator}\".format_map(d)\n",
    "print(c)"
   ]
  },
  {
   "cell_type": "code",
   "execution_count": 48,
   "metadata": {},
   "outputs": [
    {
     "name": "stdout",
     "output_type": "stream",
     "text": [
      "{'antman': ['stanlee', 'hughjackman', 'hulk'], 'infintywar': ['stanlee', 'hughjackman', 'hulk'], 'spiderman': ['stanlee', 'hughjackman', 'hulk'], 'ironman': ['stanlee', 'hughjackman', 'hulk'], 'fastfurious': ['stanlee', 'hughjackman', 'hulk'], 'aquaman': ['stanlee', 'hughjackman', 'hulk']}\n"
     ]
    }
   ],
   "source": [
    "a = ['antman','infintywar','spiderman','ironman','fastfurious','aquaman']\n",
    "b = ['stanlee','hughjackman','hulk']\n",
    "dic = dict.fromkeys(a,b)\n",
    "print(dic)"
   ]
  },
  {
   "cell_type": "code",
   "execution_count": 47,
   "metadata": {},
   "outputs": [
    {
     "name": "stdout",
     "output_type": "stream",
     "text": [
      "{'antman': None, 'infintywar': None, 'spiderman': None, 'ironman': None, 'fastfurious': None, 'aquaman': None}\n"
     ]
    }
   ],
   "source": [
    "a = ['antman','infintywar','spiderman','ironman','fastfurious','aquaman']\n",
    "dic = dict.fromkeys(a)\n",
    "print(dic)"
   ]
  },
  {
   "cell_type": "code",
   "execution_count": 49,
   "metadata": {},
   "outputs": [
    {
     "name": "stdout",
     "output_type": "stream",
     "text": [
      "{'antman': ['stanlee', 'hughjackman', 'hulk'], 'infintywar': ['stanlee', 'hughjackman', 'hulk'], 'spiderman': ['stanlee', 'hughjackman', 'hulk'], 'ironman': ['stanlee', 'hughjackman', 'hulk'], 'fastfurious': ['stanlee', 'hughjackman', 'hulk'], 'aquaman': ['stanlee', 'hughjackman', 'hulk']}\n"
     ]
    }
   ],
   "source": [
    "print(dic)"
   ]
  },
  {
   "cell_type": "code",
   "execution_count": 50,
   "metadata": {},
   "outputs": [],
   "source": [
    "from pprint import pprint"
   ]
  },
  {
   "cell_type": "code",
   "execution_count": 51,
   "metadata": {},
   "outputs": [
    {
     "name": "stdout",
     "output_type": "stream",
     "text": [
      "{'antman': ['stanlee', 'hughjackman', 'hulk'],\n",
      " 'aquaman': ['stanlee', 'hughjackman', 'hulk'],\n",
      " 'fastfurious': ['stanlee', 'hughjackman', 'hulk'],\n",
      " 'infintywar': ['stanlee', 'hughjackman', 'hulk'],\n",
      " 'ironman': ['stanlee', 'hughjackman', 'hulk'],\n",
      " 'spiderman': ['stanlee', 'hughjackman', 'hulk']}\n"
     ]
    }
   ],
   "source": [
    "pprint(dic)"
   ]
  },
  {
   "cell_type": "code",
   "execution_count": 52,
   "metadata": {},
   "outputs": [
    {
     "data": {
      "text/plain": [
       "{'name': 'python',\n",
       " 'creator': 'guido van rossum',\n",
       " 'version': 3.7,\n",
       " 'teach': 'ajay',\n",
       " 'python': 'grras',\n",
       " 'grras': 'rajesh'}"
      ]
     },
     "execution_count": 52,
     "metadata": {},
     "output_type": "execute_result"
    }
   ],
   "source": [
    "d"
   ]
  },
  {
   "cell_type": "code",
   "execution_count": 53,
   "metadata": {},
   "outputs": [
    {
     "data": {
      "text/plain": [
       "{'datascience': ['numpy', 'pandas', 'matplotlib'],\n",
       " 'web_dev': ['django', 'flask'],\n",
       " 'mach_learn': ['sckit_learn', 'scipy'],\n",
       " 'bigdata': 'spark'}"
      ]
     },
     "execution_count": 53,
     "metadata": {},
     "output_type": "execute_result"
    }
   ],
   "source": [
    "framwork"
   ]
  },
  {
   "cell_type": "code",
   "execution_count": 54,
   "metadata": {},
   "outputs": [
    {
     "name": "stdout",
     "output_type": "stream",
     "text": [
      "{'name': 'python', 'creator': 'guido van rossum', 'version': 3.7, 'teach': 'ajay', 'python': 'grras', 'grras': 'rajesh', 'framework': {'datascience': ['numpy', 'pandas', 'matplotlib'], 'web_dev': ['django', 'flask'], 'mach_learn': ['sckit_learn', 'scipy'], 'bigdata': 'spark'}}\n"
     ]
    }
   ],
   "source": [
    "d['framework'] = framwork\n",
    "print(d)"
   ]
  },
  {
   "cell_type": "code",
   "execution_count": 55,
   "metadata": {},
   "outputs": [
    {
     "name": "stdout",
     "output_type": "stream",
     "text": [
      "{'creator': 'guido van rossum',\n",
      " 'framework': {'bigdata': 'spark',\n",
      "               'datascience': ['numpy', 'pandas', 'matplotlib'],\n",
      "               'mach_learn': ['sckit_learn', 'scipy'],\n",
      "               'web_dev': ['django', 'flask']},\n",
      " 'grras': 'rajesh',\n",
      " 'name': 'python',\n",
      " 'python': 'grras',\n",
      " 'teach': 'ajay',\n",
      " 'version': 3.7}\n"
     ]
    }
   ],
   "source": [
    "pprint(d)"
   ]
  },
  {
   "cell_type": "code",
   "execution_count": 57,
   "metadata": {},
   "outputs": [
    {
     "data": {
      "text/plain": [
       "'guido van rossum'"
      ]
     },
     "execution_count": 57,
     "metadata": {},
     "output_type": "execute_result"
    }
   ],
   "source": [
    "d.get('creator')"
   ]
  },
  {
   "cell_type": "code",
   "execution_count": 61,
   "metadata": {},
   "outputs": [
    {
     "data": {
      "text/plain": [
       "{'datascience': ['numpy', 'pandas', 'matplotlib'],\n",
       " 'web_dev': ['django', 'flask'],\n",
       " 'mach_learn': ['sckit_learn', 'scipy'],\n",
       " 'bigdata': 'spark'}"
      ]
     },
     "execution_count": 61,
     "metadata": {},
     "output_type": "execute_result"
    }
   ],
   "source": [
    "d['framework']"
   ]
  },
  {
   "cell_type": "code",
   "execution_count": 62,
   "metadata": {},
   "outputs": [
    {
     "data": {
      "text/plain": [
       "'matplotlib'"
      ]
     },
     "execution_count": 62,
     "metadata": {},
     "output_type": "execute_result"
    }
   ],
   "source": [
    "d['framework']['datascience'][-1]"
   ]
  },
  {
   "cell_type": "code",
   "execution_count": 63,
   "metadata": {},
   "outputs": [
    {
     "data": {
      "text/plain": [
       "{'name': 'python',\n",
       " 'creator': 'guido van rossum',\n",
       " 'version': 3.7,\n",
       " 'teach': 'ajay',\n",
       " 'python': 'grras',\n",
       " 'grras': 'rajesh',\n",
       " 'framework': {'datascience': ['numpy', 'pandas', 'matplotlib'],\n",
       "  'web_dev': ['django', 'flask'],\n",
       "  'mach_learn': ['sckit_learn', 'scipy'],\n",
       "  'bigdata': 'spark'}}"
      ]
     },
     "execution_count": 63,
     "metadata": {},
     "output_type": "execute_result"
    }
   ],
   "source": [
    "d"
   ]
  },
  {
   "cell_type": "code",
   "execution_count": 69,
   "metadata": {},
   "outputs": [
    {
     "data": {
      "text/plain": [
       "('aquaman', ['stanlee', 'hughjackman', 'hulk'])"
      ]
     },
     "execution_count": 69,
     "metadata": {},
     "output_type": "execute_result"
    }
   ],
   "source": [
    "dic.popitem()"
   ]
  },
  {
   "cell_type": "code",
   "execution_count": 70,
   "metadata": {},
   "outputs": [
    {
     "data": {
      "text/plain": [
       "{'antman': ['stanlee', 'hughjackman', 'hulk'],\n",
       " 'infintywar': ['stanlee', 'hughjackman', 'hulk'],\n",
       " 'spiderman': ['stanlee', 'hughjackman', 'hulk'],\n",
       " 'ironman': ['stanlee', 'hughjackman', 'hulk'],\n",
       " 'fastfurious': ['stanlee', 'hughjackman', 'hulk']}"
      ]
     },
     "execution_count": 70,
     "metadata": {},
     "output_type": "execute_result"
    }
   ],
   "source": [
    "dic"
   ]
  },
  {
   "cell_type": "code",
   "execution_count": 71,
   "metadata": {},
   "outputs": [
    {
     "data": {
      "text/plain": [
       "('fastfurious', ['stanlee', 'hughjackman', 'hulk'])"
      ]
     },
     "execution_count": 71,
     "metadata": {},
     "output_type": "execute_result"
    }
   ],
   "source": [
    "dic.popitem()"
   ]
  },
  {
   "cell_type": "code",
   "execution_count": 72,
   "metadata": {},
   "outputs": [
    {
     "data": {
      "text/plain": [
       "{'antman': ['stanlee', 'hughjackman', 'hulk'],\n",
       " 'infintywar': ['stanlee', 'hughjackman', 'hulk'],\n",
       " 'spiderman': ['stanlee', 'hughjackman', 'hulk'],\n",
       " 'ironman': ['stanlee', 'hughjackman', 'hulk']}"
      ]
     },
     "execution_count": 72,
     "metadata": {},
     "output_type": "execute_result"
    }
   ],
   "source": [
    "dic"
   ]
  },
  {
   "cell_type": "code",
   "execution_count": 73,
   "metadata": {},
   "outputs": [
    {
     "data": {
      "text/plain": [
       "['stanlee', 'hughjackman', 'hulk']"
      ]
     },
     "execution_count": 73,
     "metadata": {},
     "output_type": "execute_result"
    }
   ],
   "source": [
    "dic.pop('ironman')"
   ]
  },
  {
   "cell_type": "code",
   "execution_count": 74,
   "metadata": {},
   "outputs": [
    {
     "data": {
      "text/plain": [
       "{'antman': ['stanlee', 'hughjackman', 'hulk'],\n",
       " 'infintywar': ['stanlee', 'hughjackman', 'hulk'],\n",
       " 'spiderman': ['stanlee', 'hughjackman', 'hulk']}"
      ]
     },
     "execution_count": 74,
     "metadata": {},
     "output_type": "execute_result"
    }
   ],
   "source": [
    "dic"
   ]
  },
  {
   "cell_type": "code",
   "execution_count": 75,
   "metadata": {},
   "outputs": [],
   "source": [
    "import random"
   ]
  },
  {
   "cell_type": "code",
   "execution_count": 88,
   "metadata": {},
   "outputs": [],
   "source": [
    "l  = [random.randint(1,100) for var in range(20)]"
   ]
  },
  {
   "cell_type": "code",
   "execution_count": 89,
   "metadata": {},
   "outputs": [
    {
     "data": {
      "text/plain": [
       "[58, 7, 13, 60, 23, 18, 88, 2, 30, 39, 50, 63, 8, 43, 18, 55, 95, 50, 74, 31]"
      ]
     },
     "execution_count": 89,
     "metadata": {},
     "output_type": "execute_result"
    }
   ],
   "source": [
    "l"
   ]
  },
  {
   "cell_type": "code",
   "execution_count": 90,
   "metadata": {},
   "outputs": [
    {
     "data": {
      "text/plain": [
       "20"
      ]
     },
     "execution_count": 90,
     "metadata": {},
     "output_type": "execute_result"
    }
   ],
   "source": [
    "len(l)"
   ]
  },
  {
   "cell_type": "code",
   "execution_count": 91,
   "metadata": {},
   "outputs": [],
   "source": [
    "du = {}\n",
    "for var in l:\n",
    "    du.setdefault(var,[])"
   ]
  },
  {
   "cell_type": "code",
   "execution_count": 92,
   "metadata": {},
   "outputs": [
    {
     "data": {
      "text/plain": [
       "{58: [],\n",
       " 7: [],\n",
       " 13: [],\n",
       " 60: [],\n",
       " 23: [],\n",
       " 18: [],\n",
       " 88: [],\n",
       " 2: [],\n",
       " 30: [],\n",
       " 39: [],\n",
       " 50: [],\n",
       " 63: [],\n",
       " 8: [],\n",
       " 43: [],\n",
       " 55: [],\n",
       " 95: [],\n",
       " 74: [],\n",
       " 31: []}"
      ]
     },
     "execution_count": 92,
     "metadata": {},
     "output_type": "execute_result"
    }
   ],
   "source": [
    "du"
   ]
  },
  {
   "cell_type": "code",
   "execution_count": 93,
   "metadata": {},
   "outputs": [
    {
     "data": {
      "text/plain": [
       "18"
      ]
     },
     "execution_count": 93,
     "metadata": {},
     "output_type": "execute_result"
    }
   ],
   "source": [
    "len(du)"
   ]
  },
  {
   "cell_type": "code",
   "execution_count": 94,
   "metadata": {},
   "outputs": [
    {
     "name": "stdout",
     "output_type": "stream",
     "text": [
      "[427, 48, 651, 300, 628, 579, 816, 785, 185, 603, 125, 552, 254, 528, 506, 910, 839, 152]\n"
     ]
    }
   ],
   "source": [
    "u = [random.randint(1,1000) for var in range(18)]\n",
    "print(u)"
   ]
  },
  {
   "cell_type": "code",
   "execution_count": 95,
   "metadata": {},
   "outputs": [
    {
     "data": {
      "text/plain": [
       "18"
      ]
     },
     "execution_count": 95,
     "metadata": {},
     "output_type": "execute_result"
    }
   ],
   "source": [
    "len(u)"
   ]
  },
  {
   "cell_type": "code",
   "execution_count": 96,
   "metadata": {},
   "outputs": [],
   "source": [
    "for key,value in du.items():\n",
    "    value.append(u)"
   ]
  },
  {
   "cell_type": "code",
   "execution_count": 98,
   "metadata": {},
   "outputs": [
    {
     "name": "stdout",
     "output_type": "stream",
     "text": [
      "{2: [[427,\n",
      "      48,\n",
      "      651,\n",
      "      300,\n",
      "      628,\n",
      "      579,\n",
      "      816,\n",
      "      785,\n",
      "      185,\n",
      "      603,\n",
      "      125,\n",
      "      552,\n",
      "      254,\n",
      "      528,\n",
      "      506,\n",
      "      910,\n",
      "      839,\n",
      "      152]],\n",
      " 7: [[427,\n",
      "      48,\n",
      "      651,\n",
      "      300,\n",
      "      628,\n",
      "      579,\n",
      "      816,\n",
      "      785,\n",
      "      185,\n",
      "      603,\n",
      "      125,\n",
      "      552,\n",
      "      254,\n",
      "      528,\n",
      "      506,\n",
      "      910,\n",
      "      839,\n",
      "      152]],\n",
      " 8: [[427,\n",
      "      48,\n",
      "      651,\n",
      "      300,\n",
      "      628,\n",
      "      579,\n",
      "      816,\n",
      "      785,\n",
      "      185,\n",
      "      603,\n",
      "      125,\n",
      "      552,\n",
      "      254,\n",
      "      528,\n",
      "      506,\n",
      "      910,\n",
      "      839,\n",
      "      152]],\n",
      " 13: [[427,\n",
      "       48,\n",
      "       651,\n",
      "       300,\n",
      "       628,\n",
      "       579,\n",
      "       816,\n",
      "       785,\n",
      "       185,\n",
      "       603,\n",
      "       125,\n",
      "       552,\n",
      "       254,\n",
      "       528,\n",
      "       506,\n",
      "       910,\n",
      "       839,\n",
      "       152]],\n",
      " 18: [[427,\n",
      "       48,\n",
      "       651,\n",
      "       300,\n",
      "       628,\n",
      "       579,\n",
      "       816,\n",
      "       785,\n",
      "       185,\n",
      "       603,\n",
      "       125,\n",
      "       552,\n",
      "       254,\n",
      "       528,\n",
      "       506,\n",
      "       910,\n",
      "       839,\n",
      "       152]],\n",
      " 23: [[427,\n",
      "       48,\n",
      "       651,\n",
      "       300,\n",
      "       628,\n",
      "       579,\n",
      "       816,\n",
      "       785,\n",
      "       185,\n",
      "       603,\n",
      "       125,\n",
      "       552,\n",
      "       254,\n",
      "       528,\n",
      "       506,\n",
      "       910,\n",
      "       839,\n",
      "       152]],\n",
      " 30: [[427,\n",
      "       48,\n",
      "       651,\n",
      "       300,\n",
      "       628,\n",
      "       579,\n",
      "       816,\n",
      "       785,\n",
      "       185,\n",
      "       603,\n",
      "       125,\n",
      "       552,\n",
      "       254,\n",
      "       528,\n",
      "       506,\n",
      "       910,\n",
      "       839,\n",
      "       152]],\n",
      " 31: [[427,\n",
      "       48,\n",
      "       651,\n",
      "       300,\n",
      "       628,\n",
      "       579,\n",
      "       816,\n",
      "       785,\n",
      "       185,\n",
      "       603,\n",
      "       125,\n",
      "       552,\n",
      "       254,\n",
      "       528,\n",
      "       506,\n",
      "       910,\n",
      "       839,\n",
      "       152]],\n",
      " 39: [[427,\n",
      "       48,\n",
      "       651,\n",
      "       300,\n",
      "       628,\n",
      "       579,\n",
      "       816,\n",
      "       785,\n",
      "       185,\n",
      "       603,\n",
      "       125,\n",
      "       552,\n",
      "       254,\n",
      "       528,\n",
      "       506,\n",
      "       910,\n",
      "       839,\n",
      "       152]],\n",
      " 43: [[427,\n",
      "       48,\n",
      "       651,\n",
      "       300,\n",
      "       628,\n",
      "       579,\n",
      "       816,\n",
      "       785,\n",
      "       185,\n",
      "       603,\n",
      "       125,\n",
      "       552,\n",
      "       254,\n",
      "       528,\n",
      "       506,\n",
      "       910,\n",
      "       839,\n",
      "       152]],\n",
      " 50: [[427,\n",
      "       48,\n",
      "       651,\n",
      "       300,\n",
      "       628,\n",
      "       579,\n",
      "       816,\n",
      "       785,\n",
      "       185,\n",
      "       603,\n",
      "       125,\n",
      "       552,\n",
      "       254,\n",
      "       528,\n",
      "       506,\n",
      "       910,\n",
      "       839,\n",
      "       152]],\n",
      " 55: [[427,\n",
      "       48,\n",
      "       651,\n",
      "       300,\n",
      "       628,\n",
      "       579,\n",
      "       816,\n",
      "       785,\n",
      "       185,\n",
      "       603,\n",
      "       125,\n",
      "       552,\n",
      "       254,\n",
      "       528,\n",
      "       506,\n",
      "       910,\n",
      "       839,\n",
      "       152]],\n",
      " 58: [[427,\n",
      "       48,\n",
      "       651,\n",
      "       300,\n",
      "       628,\n",
      "       579,\n",
      "       816,\n",
      "       785,\n",
      "       185,\n",
      "       603,\n",
      "       125,\n",
      "       552,\n",
      "       254,\n",
      "       528,\n",
      "       506,\n",
      "       910,\n",
      "       839,\n",
      "       152]],\n",
      " 60: [[427,\n",
      "       48,\n",
      "       651,\n",
      "       300,\n",
      "       628,\n",
      "       579,\n",
      "       816,\n",
      "       785,\n",
      "       185,\n",
      "       603,\n",
      "       125,\n",
      "       552,\n",
      "       254,\n",
      "       528,\n",
      "       506,\n",
      "       910,\n",
      "       839,\n",
      "       152]],\n",
      " 63: [[427,\n",
      "       48,\n",
      "       651,\n",
      "       300,\n",
      "       628,\n",
      "       579,\n",
      "       816,\n",
      "       785,\n",
      "       185,\n",
      "       603,\n",
      "       125,\n",
      "       552,\n",
      "       254,\n",
      "       528,\n",
      "       506,\n",
      "       910,\n",
      "       839,\n",
      "       152]],\n",
      " 74: [[427,\n",
      "       48,\n",
      "       651,\n",
      "       300,\n",
      "       628,\n",
      "       579,\n",
      "       816,\n",
      "       785,\n",
      "       185,\n",
      "       603,\n",
      "       125,\n",
      "       552,\n",
      "       254,\n",
      "       528,\n",
      "       506,\n",
      "       910,\n",
      "       839,\n",
      "       152]],\n",
      " 88: [[427,\n",
      "       48,\n",
      "       651,\n",
      "       300,\n",
      "       628,\n",
      "       579,\n",
      "       816,\n",
      "       785,\n",
      "       185,\n",
      "       603,\n",
      "       125,\n",
      "       552,\n",
      "       254,\n",
      "       528,\n",
      "       506,\n",
      "       910,\n",
      "       839,\n",
      "       152]],\n",
      " 95: [[427,\n",
      "       48,\n",
      "       651,\n",
      "       300,\n",
      "       628,\n",
      "       579,\n",
      "       816,\n",
      "       785,\n",
      "       185,\n",
      "       603,\n",
      "       125,\n",
      "       552,\n",
      "       254,\n",
      "       528,\n",
      "       506,\n",
      "       910,\n",
      "       839,\n",
      "       152]]}\n"
     ]
    }
   ],
   "source": [
    "pprint(du)"
   ]
  },
  {
   "cell_type": "code",
   "execution_count": 99,
   "metadata": {},
   "outputs": [],
   "source": [
    "l  = [random.randint(1,100) for var in range(10)]"
   ]
  },
  {
   "cell_type": "code",
   "execution_count": 100,
   "metadata": {},
   "outputs": [],
   "source": [
    "du = {}\n",
    "for var in l:\n",
    "    du.setdefault(var,[])"
   ]
  },
  {
   "cell_type": "code",
   "execution_count": 101,
   "metadata": {},
   "outputs": [
    {
     "data": {
      "text/plain": [
       "10"
      ]
     },
     "execution_count": 101,
     "metadata": {},
     "output_type": "execute_result"
    }
   ],
   "source": [
    "len(l)"
   ]
  },
  {
   "cell_type": "code",
   "execution_count": 102,
   "metadata": {},
   "outputs": [
    {
     "data": {
      "text/plain": [
       "9"
      ]
     },
     "execution_count": 102,
     "metadata": {},
     "output_type": "execute_result"
    }
   ],
   "source": [
    "len(du)"
   ]
  },
  {
   "cell_type": "code",
   "execution_count": 103,
   "metadata": {},
   "outputs": [
    {
     "name": "stdout",
     "output_type": "stream",
     "text": [
      "[48, 25, 34, 8, 43, 3, 34, 33, 1]\n"
     ]
    }
   ],
   "source": [
    "i = [random.randint(1,50) for var in range(9)]\n",
    "print(i)"
   ]
  },
  {
   "cell_type": "code",
   "execution_count": 104,
   "metadata": {},
   "outputs": [
    {
     "data": {
      "text/plain": [
       "9"
      ]
     },
     "execution_count": 104,
     "metadata": {},
     "output_type": "execute_result"
    }
   ],
   "source": [
    "len(i)"
   ]
  },
  {
   "cell_type": "code",
   "execution_count": 106,
   "metadata": {},
   "outputs": [],
   "source": [
    "for key,value in du.items():\n",
    "    value.extend(i)"
   ]
  },
  {
   "cell_type": "code",
   "execution_count": 107,
   "metadata": {},
   "outputs": [
    {
     "data": {
      "text/plain": [
       "{44: [48, 25, 34, 8, 43, 3, 34, 33, 1],\n",
       " 12: [48, 25, 34, 8, 43, 3, 34, 33, 1],\n",
       " 99: [48, 25, 34, 8, 43, 3, 34, 33, 1],\n",
       " 81: [48, 25, 34, 8, 43, 3, 34, 33, 1],\n",
       " 84: [48, 25, 34, 8, 43, 3, 34, 33, 1],\n",
       " 78: [48, 25, 34, 8, 43, 3, 34, 33, 1],\n",
       " 64: [48, 25, 34, 8, 43, 3, 34, 33, 1],\n",
       " 4: [48, 25, 34, 8, 43, 3, 34, 33, 1],\n",
       " 56: [48, 25, 34, 8, 43, 3, 34, 33, 1]}"
      ]
     },
     "execution_count": 107,
     "metadata": {},
     "output_type": "execute_result"
    }
   ],
   "source": [
    "\n",
    "du"
   ]
  },
  {
   "cell_type": "code",
   "execution_count": 108,
   "metadata": {},
   "outputs": [],
   "source": [
    "do = {}\n",
    "for var in range(10):\n",
    "    do.setdefault(var,{})"
   ]
  },
  {
   "cell_type": "code",
   "execution_count": 109,
   "metadata": {},
   "outputs": [
    {
     "data": {
      "text/plain": [
       "{0: {}, 1: {}, 2: {}, 3: {}, 4: {}, 5: {}, 6: {}, 7: {}, 8: {}, 9: {}}"
      ]
     },
     "execution_count": 109,
     "metadata": {},
     "output_type": "execute_result"
    }
   ],
   "source": [
    "do"
   ]
  },
  {
   "cell_type": "code",
   "execution_count": null,
   "metadata": {},
   "outputs": [],
   "source": []
  }
 ],
 "metadata": {
  "kernelspec": {
   "display_name": "Python 3",
   "language": "python",
   "name": "python3"
  },
  "language_info": {
   "codemirror_mode": {
    "name": "ipython",
    "version": 3
   },
   "file_extension": ".py",
   "mimetype": "text/x-python",
   "name": "python",
   "nbconvert_exporter": "python",
   "pygments_lexer": "ipython3",
   "version": "3.6.5"
  }
 },
 "nbformat": 4,
 "nbformat_minor": 2
}
