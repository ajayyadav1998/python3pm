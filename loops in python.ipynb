{
 "cells": [
  {
   "cell_type": "code",
   "execution_count": 1,
   "metadata": {},
   "outputs": [
    {
     "name": "stdout",
     "output_type": "stream",
     "text": [
      "1\n",
      "4\n",
      "9\n",
      "16\n",
      "25\n"
     ]
    }
   ],
   "source": [
    "c = 1\n",
    "while c <= 5:\n",
    "    print(c**2)\n",
    "    c += 1"
   ]
  },
  {
   "cell_type": "code",
   "execution_count": 2,
   "metadata": {},
   "outputs": [
    {
     "name": "stdout",
     "output_type": "stream",
     "text": [
      "5\n",
      "4\n",
      "3\n",
      "2\n",
      "1\n",
      "0\n"
     ]
    }
   ],
   "source": [
    "c = 5 \n",
    "while c >= 0 :\n",
    "    print(c)\n",
    "    c -=1 "
   ]
  },
  {
   "cell_type": "code",
   "execution_count": 3,
   "metadata": {},
   "outputs": [
    {
     "name": "stdout",
     "output_type": "stream",
     "text": [
      "4\n",
      "5\n",
      "8\n",
      "9\n",
      "12\n"
     ]
    }
   ],
   "source": [
    "c =1 \n",
    "while c <= 10:\n",
    "    if c % 2 :\n",
    "        c+=2\n",
    "    c += 1\n",
    "    print(c)"
   ]
  },
  {
   "cell_type": "code",
   "execution_count": 26,
   "metadata": {},
   "outputs": [
    {
     "name": "stdout",
     "output_type": "stream",
     "text": [
      "5\n",
      "4\n",
      "3\n"
     ]
    }
   ],
   "source": [
    "c = 5 \n",
    "while c >= 0:\n",
    "    if c==2:\n",
    "        break\n",
    "    print(c)\n",
    "    c -= 1 "
   ]
  },
  {
   "cell_type": "code",
   "execution_count": 27,
   "metadata": {},
   "outputs": [
    {
     "name": "stdout",
     "output_type": "stream",
     "text": [
      "4\n",
      "3\n",
      "2\n"
     ]
    },
    {
     "ename": "KeyboardInterrupt",
     "evalue": "",
     "output_type": "error",
     "traceback": [
      "\u001b[1;31m---------------------------------------------------------------------------\u001b[0m",
      "\u001b[1;31mKeyboardInterrupt\u001b[0m                         Traceback (most recent call last)",
      "\u001b[1;32m<ipython-input-27-23f90613f796>\u001b[0m in \u001b[0;36m<module>\u001b[1;34m\u001b[0m\n\u001b[0;32m      1\u001b[0m \u001b[0mc\u001b[0m \u001b[1;33m=\u001b[0m \u001b[1;36m5\u001b[0m\u001b[1;33m\u001b[0m\u001b[1;33m\u001b[0m\u001b[0m\n\u001b[0;32m      2\u001b[0m \u001b[1;32mwhile\u001b[0m \u001b[0mc\u001b[0m \u001b[1;33m>=\u001b[0m \u001b[1;36m0\u001b[0m\u001b[1;33m:\u001b[0m\u001b[1;33m\u001b[0m\u001b[1;33m\u001b[0m\u001b[0m\n\u001b[1;32m----> 3\u001b[1;33m     \u001b[1;32mif\u001b[0m \u001b[0mc\u001b[0m\u001b[1;33m==\u001b[0m\u001b[1;36m2\u001b[0m\u001b[1;33m:\u001b[0m\u001b[1;33m\u001b[0m\u001b[1;33m\u001b[0m\u001b[0m\n\u001b[0m\u001b[0;32m      4\u001b[0m         \u001b[1;32mcontinue\u001b[0m\u001b[1;33m\u001b[0m\u001b[1;33m\u001b[0m\u001b[0m\n\u001b[0;32m      5\u001b[0m     \u001b[0mc\u001b[0m \u001b[1;33m-=\u001b[0m \u001b[1;36m1\u001b[0m\u001b[1;33m\u001b[0m\u001b[1;33m\u001b[0m\u001b[0m\n",
      "\u001b[1;31mKeyboardInterrupt\u001b[0m: "
     ]
    }
   ],
   "source": [
    "c = 5 \n",
    "while c >= 0:\n",
    "    if c==2:\n",
    "        continue\n",
    "    c -= 1\n",
    "    print(c)"
   ]
  },
  {
   "cell_type": "code",
   "execution_count": 28,
   "metadata": {},
   "outputs": [
    {
     "name": "stdout",
     "output_type": "stream",
     "text": [
      "hello 1\n",
      "hello 2\n",
      "hello 3\n",
      "hello 4\n",
      "hello 5\n"
     ]
    }
   ],
   "source": [
    "c = 1\n",
    "while c <=10:\n",
    "    print(f'hello {c}')\n",
    "    if c == 5:\n",
    "        break\n",
    "    c += 1\n",
    "else:\n",
    "    print('did you get it')"
   ]
  },
  {
   "cell_type": "code",
   "execution_count": 6,
   "metadata": {},
   "outputs": [
    {
     "name": "stdout",
     "output_type": "stream",
     "text": [
      "loop start from here\n",
      "loops ends here\n"
     ]
    }
   ],
   "source": [
    "c = 1\n",
    "print('loop start from here')\n",
    "while c >= 10:\n",
    "    c -=1\n",
    "    print(c)\n",
    "print('loops ends here')"
   ]
  },
  {
   "cell_type": "code",
   "execution_count": 7,
   "metadata": {},
   "outputs": [
    {
     "name": "stdout",
     "output_type": "stream",
     "text": [
      "hello world 4\n",
      "hello world 3\n",
      "hello world 2\n",
      "hello world 1\n",
      "hello world 0\n",
      "hello world -1\n"
     ]
    }
   ],
   "source": [
    "c = 5\n",
    "while c >= 0:\n",
    "    c -= 1\n",
    "    print('hello world',c)"
   ]
  },
  {
   "cell_type": "code",
   "execution_count": 8,
   "metadata": {},
   "outputs": [
    {
     "name": "stdout",
     "output_type": "stream",
     "text": [
      "2\n",
      "6\n",
      "10\n"
     ]
    }
   ],
   "source": [
    "c = 1\n",
    "while c <= 10:\n",
    "    if c%2==0:\n",
    "        print(c)\n",
    "        c += 2\n",
    "    c += 1"
   ]
  },
  {
   "cell_type": "code",
   "execution_count": 9,
   "metadata": {},
   "outputs": [
    {
     "name": "stdout",
     "output_type": "stream",
     "text": [
      "1\n",
      "5\n",
      "9\n"
     ]
    }
   ],
   "source": [
    "c = 1\n",
    "while c <= 10:\n",
    "    if c%2:\n",
    "        print(c)\n",
    "        c += 2\n",
    "    c += 1"
   ]
  },
  {
   "cell_type": "code",
   "execution_count": 10,
   "metadata": {},
   "outputs": [
    {
     "name": "stdout",
     "output_type": "stream",
     "text": [
      "5\n",
      "11\n"
     ]
    }
   ],
   "source": [
    "c = 1\n",
    "while c <= 10:\n",
    "    c += 1\n",
    "    if c % 2 :\n",
    "        print(c)\n",
    "    c += 2"
   ]
  },
  {
   "cell_type": "code",
   "execution_count": 12,
   "metadata": {},
   "outputs": [
    {
     "name": "stdout",
     "output_type": "stream",
     "text": [
      "4\n",
      "3\n"
     ]
    }
   ],
   "source": [
    "c = 5\n",
    "while c >= 0:\n",
    "    c -= 1\n",
    "    if c == 2:\n",
    "        break\n",
    "    print(c)\n",
    "else:\n",
    "    print('me bhi hu')"
   ]
  },
  {
   "cell_type": "code",
   "execution_count": 13,
   "metadata": {},
   "outputs": [
    {
     "name": "stdout",
     "output_type": "stream",
     "text": [
      "4\n",
      "3\n",
      "1\n",
      "0\n",
      "-1\n",
      "me bhi hu\n"
     ]
    }
   ],
   "source": [
    "c = 5\n",
    "while c >= 0:\n",
    "    c -= 1\n",
    "    if c == 2:\n",
    "        continue\n",
    "    print(c)\n",
    "else:\n",
    "    print('me bhi hu')"
   ]
  },
  {
   "cell_type": "code",
   "execution_count": 22,
   "metadata": {},
   "outputs": [
    {
     "name": "stdout",
     "output_type": "stream",
     "text": [
      "1\n",
      "3\n",
      "5\n",
      "7\n",
      "9\n"
     ]
    }
   ],
   "source": [
    "c = 1\n",
    "while c <= 10 :\n",
    "    if c % 2:\n",
    "        print(c)\n",
    "        c += 2\n",
    "        #print(c)\n",
    "    else:\n",
    "        c += 2\n",
    "        print('aap bataoo ')"
   ]
  },
  {
   "cell_type": "code",
   "execution_count": 19,
   "metadata": {},
   "outputs": [
    {
     "name": "stdout",
     "output_type": "stream",
     "text": [
      "2\n",
      "4\n",
      "6\n",
      "8\n",
      "10\n",
      "bye-bye\n"
     ]
    }
   ],
   "source": [
    "c = 1\n",
    "while c <= 10:\n",
    "    c += 1\n",
    "    if c % 2:\n",
    "        continue\n",
    "    print(c)\n",
    "else:\n",
    "    print('bye-bye')"
   ]
  },
  {
   "cell_type": "code",
   "execution_count": 23,
   "metadata": {},
   "outputs": [
    {
     "name": "stdout",
     "output_type": "stream",
     "text": [
      "3\n",
      "5\n",
      "7\n",
      "9\n",
      "11\n"
     ]
    }
   ],
   "source": [
    "c = 1\n",
    "while c <= 10 :\n",
    "    if c % 2 == 0:\n",
    "        c += 2\n",
    "    else:\n",
    "        c += 2\n",
    "    print(c)"
   ]
  },
  {
   "cell_type": "code",
   "execution_count": 29,
   "metadata": {},
   "outputs": [
    {
     "name": "stdout",
     "output_type": "stream",
     "text": [
      "loops start from here\n",
      "i am inside a loop\n",
      "hello 1\n",
      "i am inside a loop\n",
      "hello 2\n",
      "i am inside a loop\n",
      "hello 3\n",
      "i am inside a loop\n",
      "hello 4\n",
      "loop will end here\n"
     ]
    }
   ],
   "source": [
    "c = 1\n",
    "print('loops start from here')\n",
    "while c <= 10:\n",
    "    if c ==5:\n",
    "        break\n",
    "    print('i am inside a loop')\n",
    "    print(f'hello {c}')\n",
    "    c += 1\n",
    "print('loop will end here')"
   ]
  },
  {
   "cell_type": "code",
   "execution_count": 3,
   "metadata": {},
   "outputs": [
    {
     "name": "stdout",
     "output_type": "stream",
     "text": [
      "enter a number : 5 \n",
      "the square of given number :  25\n",
      "enter any key to continue : 2\n",
      "enter a number : 5\n",
      "the square of given number :  25\n",
      "enter any key to continue : 2\n",
      "enter a number : 5\n",
      "the square of given number :  25\n",
      "enter any key to continue : \n",
      "i am useless now\n"
     ]
    }
   ],
   "source": [
    "while True:\n",
    "    inp = int(input('enter a number : '))\n",
    "    print('the square of given number : ',inp**2)\n",
    "    if input('enter any key to continue : '):\n",
    "        continue\n",
    "    else:\n",
    "        print('i am useless now')\n",
    "        break"
   ]
  },
  {
   "cell_type": "code",
   "execution_count": 2,
   "metadata": {},
   "outputs": [],
   "source": [
    "import random"
   ]
  },
  {
   "cell_type": "code",
   "execution_count": 4,
   "metadata": {},
   "outputs": [
    {
     "name": "stdout",
     "output_type": "stream",
     "text": [
      "Enter the number : 66\n",
      "your guess is out of limit think between 1 to 50\n",
      "Enter the number : \n"
     ]
    },
    {
     "ename": "ValueError",
     "evalue": "invalid literal for int() with base 10: ''",
     "output_type": "error",
     "traceback": [
      "\u001b[1;31m---------------------------------------------------------------------------\u001b[0m",
      "\u001b[1;31mValueError\u001b[0m                                Traceback (most recent call last)",
      "\u001b[1;32m<ipython-input-4-fde0ba31892b>\u001b[0m in \u001b[0;36m<module>\u001b[1;34m\u001b[0m\n\u001b[0;32m      2\u001b[0m \u001b[0mcount\u001b[0m \u001b[1;33m=\u001b[0m \u001b[1;36m1\u001b[0m\u001b[1;33m\u001b[0m\u001b[1;33m\u001b[0m\u001b[0m\n\u001b[0;32m      3\u001b[0m \u001b[1;32mwhile\u001b[0m \u001b[0mcount\u001b[0m \u001b[1;33m<=\u001b[0m \u001b[1;36m5\u001b[0m\u001b[1;33m:\u001b[0m\u001b[1;33m\u001b[0m\u001b[1;33m\u001b[0m\u001b[0m\n\u001b[1;32m----> 4\u001b[1;33m     \u001b[0mnum\u001b[0m \u001b[1;33m=\u001b[0m \u001b[0mint\u001b[0m\u001b[1;33m(\u001b[0m\u001b[0minput\u001b[0m\u001b[1;33m(\u001b[0m\u001b[1;34m'Enter the number : '\u001b[0m\u001b[1;33m)\u001b[0m\u001b[1;33m)\u001b[0m\u001b[1;33m\u001b[0m\u001b[1;33m\u001b[0m\u001b[0m\n\u001b[0m\u001b[0;32m      5\u001b[0m     \u001b[1;32mif\u001b[0m \u001b[0mnum\u001b[0m \u001b[1;33m>\u001b[0m \u001b[1;36m50\u001b[0m \u001b[1;32mor\u001b[0m \u001b[0mnum\u001b[0m \u001b[1;33m<\u001b[0m \u001b[1;36m1\u001b[0m\u001b[1;33m:\u001b[0m\u001b[1;33m\u001b[0m\u001b[1;33m\u001b[0m\u001b[0m\n\u001b[0;32m      6\u001b[0m         \u001b[0mprint\u001b[0m\u001b[1;33m(\u001b[0m\u001b[1;34m'your guess is out of limit think between 1 to 50'\u001b[0m\u001b[1;33m)\u001b[0m\u001b[1;33m\u001b[0m\u001b[1;33m\u001b[0m\u001b[0m\n",
      "\u001b[1;31mValueError\u001b[0m: invalid literal for int() with base 10: ''"
     ]
    }
   ],
   "source": [
    "comguess = random.randint(1,50)\n",
    "count = 1\n",
    "while count <= 5:\n",
    "    num = int(input('Enter the number : '))\n",
    "    if num > 50 or num < 1:\n",
    "        print('your guess is out of limit think between 1 to 50')\n",
    "        continue\n",
    "    if num == comguess:\n",
    "        print('Winnerr.....!!!')\n",
    "        break\n",
    "    elif num > comguess:\n",
    "        print('plz give small number ')\n",
    "    elif num < comguess:\n",
    "        print('plz give greater number ')\n",
    "    count += 1\n",
    "else:\n",
    "    print('comguess number is :',comguess)\n",
    "    print('you are such a looser........!!!!!!!')"
   ]
  },
  {
   "cell_type": "code",
   "execution_count": 24,
   "metadata": {},
   "outputs": [
    {
     "name": "stdout",
     "output_type": "stream",
     "text": [
      "the element is in list at this position 3\n"
     ]
    }
   ],
   "source": [
    "a = ['foo','bar','car','cork']\n",
    "b = 'cork'\n",
    "i = 0\n",
    "while i < len(a):\n",
    "    if a[i] == b:\n",
    "        print('the element is in list at this position',a.index(b))\n",
    "        break\n",
    "    i += 1\n",
    "else:\n",
    "    print(b,'is not in a list')"
   ]
  },
  {
   "cell_type": "code",
   "execution_count": 26,
   "metadata": {},
   "outputs": [
    {
     "name": "stdout",
     "output_type": "stream",
     "text": [
      "item is at this index 3\n"
     ]
    }
   ],
   "source": [
    "s = ['foo','bar','car','tar']\n",
    "c = 'tar'\n",
    "t = 1\n",
    "while t <= len(s):\n",
    "    if s[i]== c:\n",
    "        print('item is at this index',s.index(c))\n",
    "        break\n",
    "    t += 1\n",
    "else:\n",
    "    print('item not in a list')"
   ]
  },
  {
   "cell_type": "code",
   "execution_count": 27,
   "metadata": {},
   "outputs": [
    {
     "name": "stdout",
     "output_type": "stream",
     "text": [
      "item is in a list 3\n"
     ]
    }
   ],
   "source": [
    "if c in s:\n",
    "    print('item is in a list',s.index(c))\n",
    "else:\n",
    "    print('item is not in a list')"
   ]
  },
  {
   "cell_type": "code",
   "execution_count": 28,
   "metadata": {},
   "outputs": [
    {
     "name": "stdout",
     "output_type": "stream",
     "text": [
      "the item present on this index  4\n"
     ]
    }
   ],
   "source": [
    "a = ['foo','bar','ajay','sachin','grras']\n",
    "f = 'grras'\n",
    "c = 0\n",
    "while c < len(a):\n",
    "    if a[c] == f:\n",
    "        print('the item present on this index ',a.index(f))\n",
    "        break\n",
    "    c += 1\n",
    "else:\n",
    "    print('item is not in list')"
   ]
  },
  {
   "cell_type": "code",
   "execution_count": 29,
   "metadata": {},
   "outputs": [
    {
     "name": "stdout",
     "output_type": "stream",
     "text": [
      "item is present on list \n"
     ]
    }
   ],
   "source": [
    "if f in a:\n",
    "    print('item is present on list ')\n",
    "else:\n",
    "    print('item is not in a list')"
   ]
  },
  {
   "cell_type": "code",
   "execution_count": 31,
   "metadata": {},
   "outputs": [
    {
     "name": "stdout",
     "output_type": "stream",
     "text": [
      "hello world 0\n",
      "hello world 1\n",
      "hello world 2\n",
      "hello world 3\n",
      "hello world 4\n"
     ]
    }
   ],
   "source": [
    "for var in range(5):\n",
    "    print('hello world',var)"
   ]
  },
  {
   "cell_type": "code",
   "execution_count": 33,
   "metadata": {},
   "outputs": [
    {
     "name": "stdout",
     "output_type": "stream",
     "text": [
      "p\n",
      "y\n",
      "t\n",
      "h\n",
      "o\n",
      "n\n"
     ]
    }
   ],
   "source": [
    "for var in 'python':\n",
    "    print(var)"
   ]
  },
  {
   "cell_type": "code",
   "execution_count": 34,
   "metadata": {},
   "outputs": [
    {
     "name": "stdout",
     "output_type": "stream",
     "text": [
      "ajay\n",
      "sachin\n",
      "shuhham\n",
      "rajesh\n",
      "rajvendra\n"
     ]
    }
   ],
   "source": [
    "for i in ('ajay','sachin','shuhham','rajesh','rajvendra'):\n",
    "    print(i)"
   ]
  },
  {
   "cell_type": "code",
   "execution_count": 35,
   "metadata": {},
   "outputs": [
    {
     "name": "stdout",
     "output_type": "stream",
     "text": [
      "(1, 'a')\n",
      "(2, 'b')\n",
      "(3, 'c')\n",
      "(4, 'd')\n",
      "(5, 'e')\n",
      "(6, 'f')\n"
     ]
    }
   ],
   "source": [
    "a = [1,2,3,4,5,6]\n",
    "b = ['a','b','c','d','e','f']\n",
    "for var in zip(a,b):\n",
    "    print(var)"
   ]
  },
  {
   "cell_type": "code",
   "execution_count": 37,
   "metadata": {},
   "outputs": [
    {
     "data": {
      "text/plain": [
       "[(1, 'a'), (2, 'b'), (3, 'c'), (4, 'd'), (5, 'e'), (6, 'f')]"
      ]
     },
     "execution_count": 37,
     "metadata": {},
     "output_type": "execute_result"
    }
   ],
   "source": [
    "list(zip(a,b))"
   ]
  },
  {
   "cell_type": "code",
   "execution_count": 38,
   "metadata": {},
   "outputs": [
    {
     "name": "stdout",
     "output_type": "stream",
     "text": [
      "a ===== b\n",
      "c ===== d\n",
      "e ===== f\n",
      "g ===== h\n",
      "h ===== i\n",
      "j ===== k\n",
      "l ===== m\n",
      "n ===== o\n"
     ]
    }
   ],
   "source": [
    "a = ['ab','cd','ef','gh','hi','jk','lm','no']\n",
    "for v,r in a:\n",
    "    print(v,'=====',r)"
   ]
  },
  {
   "cell_type": "code",
   "execution_count": 40,
   "metadata": {},
   "outputs": [
    {
     "name": "stdout",
     "output_type": "stream",
     "text": [
      "5\n",
      "5 * 1 = 5\n",
      "5 * 2 = 10\n",
      "5 * 3 = 15\n",
      "5 * 4 = 20\n",
      "5 * 5 = 25\n",
      "5 * 6 = 30\n",
      "5 * 7 = 35\n",
      "5 * 8 = 40\n",
      "5 * 9 = 45\n",
      "5 * 10 = 50\n"
     ]
    }
   ],
   "source": [
    "a = int(input())\n",
    "for var in range(1,11):\n",
    "    print(f'{a} * {var} = {a*var}')"
   ]
  },
  {
   "cell_type": "code",
   "execution_count": 41,
   "metadata": {},
   "outputs": [
    {
     "name": "stdout",
     "output_type": "stream",
     "text": [
      "5\n",
      "10\n",
      "15\n",
      "20\n",
      "25\n",
      "30\n",
      "35\n",
      "40\n",
      "45\n",
      "50\n"
     ]
    }
   ],
   "source": [
    "for var in range(5,51,5):\n",
    "    print(var)"
   ]
  },
  {
   "cell_type": "code",
   "execution_count": 47,
   "metadata": {},
   "outputs": [
    {
     "name": "stdout",
     "output_type": "stream",
     "text": [
      "1 ajay\n",
      "2 sachin\n",
      "3 rajesh\n",
      "4 rajat\n",
      "5 akhilesh\n",
      "6 nidhi\n",
      "7 rajvendra\n"
     ]
    }
   ],
   "source": [
    "a = ['ajay','sachin','rajesh','rajat','akhilesh','nidhi','rajvendra']\n",
    "for var in enumerate(a,start=1):\n",
    "    print(*var)"
   ]
  },
  {
   "cell_type": "code",
   "execution_count": 48,
   "metadata": {},
   "outputs": [
    {
     "name": "stdout",
     "output_type": "stream",
     "text": [
      "p\t\ty\t\tt\t\th\t\to\t\tn\t\t"
     ]
    }
   ],
   "source": [
    "for var in 'python':\n",
    "    print(var,end='\\t\\t')"
   ]
  },
  {
   "cell_type": "code",
   "execution_count": 50,
   "metadata": {},
   "outputs": [
    {
     "name": "stdout",
     "output_type": "stream",
     "text": [
      "p a\n",
      "p j\n",
      "p a\n",
      "p y\n",
      "y a\n",
      "y j\n",
      "y a\n",
      "y y\n",
      "t a\n",
      "t j\n",
      "t a\n",
      "t y\n",
      "h a\n",
      "h j\n",
      "h a\n",
      "h y\n",
      "o a\n",
      "o j\n",
      "o a\n",
      "o y\n",
      "n a\n",
      "n j\n",
      "n a\n",
      "n y\n"
     ]
    }
   ],
   "source": [
    "for var in 'python':\n",
    "    for tar in 'ajay':\n",
    "        print(var,tar)"
   ]
  },
  {
   "cell_type": "code",
   "execution_count": 52,
   "metadata": {},
   "outputs": [
    {
     "name": "stdout",
     "output_type": "stream",
     "text": [
      "p a\n",
      "p j\n",
      "p a\n",
      "p y\n",
      "y a\n",
      "y j\n",
      "y a\n",
      "y y\n",
      "t a\n",
      "t j\n",
      "t a\n",
      "t y\n",
      "h a\n",
      "h j\n",
      "h a\n",
      "h y\n",
      "o a\n",
      "o j\n",
      "o a\n",
      "o y\n",
      "n a\n",
      "n j\n",
      "n a\n",
      "n y\n"
     ]
    }
   ],
   "source": [
    "for var in 'python':\n",
    "    for tar in 'ajay':\n",
    "        print(var,tar)"
   ]
  },
  {
   "cell_type": "code",
   "execution_count": 2,
   "metadata": {},
   "outputs": [
    {
     "name": "stdout",
     "output_type": "stream",
     "text": [
      "1\n",
      "5\n",
      "5\n",
      "8\n",
      "8\n",
      "11\n",
      "ho gya khtm\n"
     ]
    }
   ],
   "source": [
    "c = 1\n",
    "while c <=10:\n",
    "    print(c)\n",
    "    c += 2\n",
    "    if c % 3 == 0:\n",
    "        c += 2\n",
    "    else:\n",
    "        c += 1\n",
    "    print(c)\n",
    "else:\n",
    "    print('ho gya khtm')"
   ]
  },
  {
   "cell_type": "code",
   "execution_count": 3,
   "metadata": {},
   "outputs": [
    {
     "name": "stdout",
     "output_type": "stream",
     "text": [
      "6\n",
      "9\n",
      "14\n",
      "do you get it?????\n"
     ]
    }
   ],
   "source": [
    "c = 1\n",
    "while c <= 10:\n",
    "    c += 2\n",
    "    if c % 2:\n",
    "        c += 3\n",
    "    else:\n",
    "        c += 1\n",
    "    print(c)\n",
    "else:\n",
    "    print('do you get it?????')"
   ]
  },
  {
   "cell_type": "code",
   "execution_count": 4,
   "metadata": {},
   "outputs": [
    {
     "name": "stdout",
     "output_type": "stream",
     "text": [
      "1\n",
      "3\n",
      "3\n",
      "12\n",
      "condition gyi me gyaa\n"
     ]
    }
   ],
   "source": [
    "c = 1\n",
    "while c <= 10:\n",
    "    print(c)\n",
    "    c += 4\n",
    "    if c % 5==0:\n",
    "        c -= 2\n",
    "    else:\n",
    "        c += 5\n",
    "    print(c)\n",
    "else:\n",
    "    print('condition gyi me gyaa')"
   ]
  },
  {
   "cell_type": "code",
   "execution_count": 1,
   "metadata": {},
   "outputs": [
    {
     "name": "stdout",
     "output_type": "stream",
     "text": [
      "1\n",
      "5\n",
      "9\n"
     ]
    }
   ],
   "source": [
    "c = 1\n",
    "while c <= 10:\n",
    "    if c % 2 :\n",
    "        print(c)\n",
    "        c += 2\n",
    "    c += 1"
   ]
  },
  {
   "cell_type": "code",
   "execution_count": 6,
   "metadata": {},
   "outputs": [
    {
     "name": "stdout",
     "output_type": "stream",
     "text": [
      "enter a number : 10\n",
      "it is a even number .\n"
     ]
    }
   ],
   "source": [
    "o = int(input('enter a number : '))\n",
    "if o % 2 ==0:\n",
    "    print('it is a even number .')\n",
    "else:\n",
    "    print('it is a odd number .')"
   ]
  },
  {
   "cell_type": "code",
   "execution_count": 1,
   "metadata": {},
   "outputs": [
    {
     "name": "stdout",
     "output_type": "stream",
     "text": [
      "*\n",
      "**\n",
      "***\n",
      "****\n",
      "*****\n",
      "******\n",
      "*******\n",
      "********\n",
      "*********\n",
      "**********\n"
     ]
    }
   ],
   "source": [
    "for var in range(1,11):\n",
    "    print('*'*var)"
   ]
  },
  {
   "cell_type": "code",
   "execution_count": 13,
   "metadata": {},
   "outputs": [
    {
     "name": "stdout",
     "output_type": "stream",
     "text": [
      "          * \n",
      "         * * \n",
      "        * * * \n",
      "       * * * * \n",
      "      * * * * * \n",
      "     * * * * * * \n",
      "    * * * * * * * \n",
      "   * * * * * * * * \n",
      "  * * * * * * * * * \n",
      " * * * * * * * * * * \n",
      " * * * * * * * * * * \n",
      "  * * * * * * * * * \n",
      "   * * * * * * * * \n",
      "    * * * * * * * \n",
      "     * * * * * * \n",
      "      * * * * * \n",
      "       * * * * \n",
      "        * * * \n",
      "         * * \n",
      "          * \n"
     ]
    }
   ],
   "source": [
    "for var in range(1,11):\n",
    "    print(' '*(11-var)+'* '*var)\n",
    "for tar in range(1,11):\n",
    "    print(' '*tar+'* '*(11-tar))"
   ]
  },
  {
   "cell_type": "code",
   "execution_count": 12,
   "metadata": {},
   "outputs": [
    {
     "name": "stdout",
     "output_type": "stream",
     "text": [
      "         * \n",
      "        * * \n",
      "       * * * \n",
      "      * * * * \n",
      "     * * * * * \n",
      "    * * * * * * \n",
      "   * * * * * * * \n",
      "  * * * * * * * * \n",
      " * * * * * * * * * \n",
      "* * * * * * * * * * \n"
     ]
    }
   ],
   "source": [
    "c = 1\n",
    "while c <= 10:\n",
    "    print(' '*(10-c),end='')\n",
    "    print('* '*c)\n",
    "    c += 1"
   ]
  },
  {
   "cell_type": "code",
   "execution_count": 43,
   "metadata": {},
   "outputs": [
    {
     "name": "stdout",
     "output_type": "stream",
     "text": [
      "********************\n",
      "*********  *********\n",
      "********    ********\n",
      "*******      *******\n",
      "******        ******\n",
      "*****          *****\n",
      "****            ****\n",
      "***              ***\n",
      "**                **\n",
      "*                  *\n",
      "*                  *\n",
      "**                **\n",
      "***              ***\n",
      "****            ****\n",
      "*****          *****\n",
      "******        ******\n",
      "*******      *******\n",
      "********    ********\n",
      "*********  *********\n",
      "********************\n"
     ]
    }
   ],
   "source": [
    "for var in range(10):\n",
    "    print('*'*(10-var)+'  '*var+'*'*(10-var))\n",
    "for car in range(10):\n",
    "    print('*'*(car+1)+'  '*(10-car-1)+'*'*(car+1))"
   ]
  },
  {
   "cell_type": "code",
   "execution_count": 46,
   "metadata": {},
   "outputs": [
    {
     "name": "stdout",
     "output_type": "stream",
     "text": [
      "*********** * * * * * * * * * \n",
      "*********  * * * * * * * * * \n",
      "********    * * * * * * * * \n",
      "*******      * * * * * * * \n",
      "******        * * * * * * \n",
      "*****          * * * * * \n",
      "****            * * * * \n",
      "***              * * * \n",
      "**                * * \n",
      "*                  * \n"
     ]
    }
   ],
   "source": [
    "for var in range(10):\n",
    "    print('*'*(10-var)+'  '*var+'* '*(10-var))\n",
    "for car in range(10):\n",
    "    print('*'*car+'  '*car+'* '0)"
   ]
  },
  {
   "cell_type": "code",
   "execution_count": null,
   "metadata": {},
   "outputs": [],
   "source": []
  }
 ],
 "metadata": {
  "kernelspec": {
   "display_name": "Python 3",
   "language": "python",
   "name": "python3"
  },
  "language_info": {
   "codemirror_mode": {
    "name": "ipython",
    "version": 3
   },
   "file_extension": ".py",
   "mimetype": "text/x-python",
   "name": "python",
   "nbconvert_exporter": "python",
   "pygments_lexer": "ipython3",
   "version": "3.7.3"
  }
 },
 "nbformat": 4,
 "nbformat_minor": 2
}
