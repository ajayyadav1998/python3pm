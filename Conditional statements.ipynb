{
 "cells": [
  {
   "cell_type": "raw",
   "metadata": {},
   "source": [
    "if condition:\n",
    "    print('condition is true')\n",
    "elif condition:\n",
    "    print('condition is true')\n",
    "elif condition:\n",
    "    print('condition is true')\n",
    "else:\n",
    "    print('condition is true')"
   ]
  },
  {
   "cell_type": "code",
   "execution_count": 4,
   "metadata": {},
   "outputs": [
    {
     "name": "stdout",
     "output_type": "stream",
     "text": [
      "before condition\n",
      "condition is true good boy\n",
      "after condition\n"
     ]
    }
   ],
   "source": [
    "print('before condition')\n",
    "if True:\n",
    "    print('condition is true good boy')\n",
    "else:\n",
    "    print('condition is false bad input')\n",
    "print('after condition')"
   ]
  },
  {
   "cell_type": "code",
   "execution_count": 3,
   "metadata": {},
   "outputs": [
    {
     "name": "stdout",
     "output_type": "stream",
     "text": [
      "condition is true\n"
     ]
    }
   ],
   "source": [
    "if False:\n",
    "    print('condition is false')\n",
    "else: \n",
    "    print('condition is true')"
   ]
  },
  {
   "cell_type": "code",
   "execution_count": 6,
   "metadata": {},
   "outputs": [
    {
     "name": "stdout",
     "output_type": "stream",
     "text": [
      "Enter a number : \n",
      "False input\n"
     ]
    }
   ],
   "source": [
    "num = input('Enter a number : ')\n",
    "if num :\n",
    "    print('Good input')\n",
    "else:\n",
    "    print('False input')"
   ]
  },
  {
   "cell_type": "code",
   "execution_count": 11,
   "metadata": {},
   "outputs": [
    {
     "name": "stdout",
     "output_type": "stream",
     "text": [
      "kuch bhi\n"
     ]
    }
   ],
   "source": [
    "a = 10 \n",
    "b = 20\n",
    "if a != b:\n",
    "    if a > b:\n",
    "        print('a is smaller')\n",
    "    else:\n",
    "        print('kuch bhi')\n",
    "else :\n",
    "    print('b is smaller')"
   ]
  },
  {
   "cell_type": "code",
   "execution_count": 12,
   "metadata": {},
   "outputs": [],
   "source": [
    "from getpass import getpass"
   ]
  },
  {
   "cell_type": "code",
   "execution_count": 15,
   "metadata": {},
   "outputs": [
    {
     "name": "stdout",
     "output_type": "stream",
     "text": [
      "kuch bhi : ········\n",
      "kuch or bhi : ········\n",
      "player2 is winner\n"
     ]
    }
   ],
   "source": [
    "ch1 = getpass('kuch bhi : ')\n",
    "ch2 = getpass('kuch or bhi : ')\n",
    "\n",
    "player1_win = [('rock','scissor'),('paper','rock'),('scissor','paper')]\n",
    "ch = (ch1,ch2)\n",
    "\n",
    "if ch1 == ch2:\n",
    "    print('Match is tie')\n",
    "elif ch in player1_win :\n",
    "    print('player1 is winner')\n",
    "else:\n",
    "    print('player2 is winner')"
   ]
  },
  {
   "cell_type": "code",
   "execution_count": 21,
   "metadata": {},
   "outputs": [
    {
     "name": "stdout",
     "output_type": "stream",
     "text": [
      "6\n",
      "8\n",
      "4\n",
      "y is greater\n"
     ]
    }
   ],
   "source": [
    "x = int(input())\n",
    "y = int(input())\n",
    "z = int(input())\n",
    "\n",
    "if x >= y and x >= z:\n",
    "    print('x is greater')\n",
    "elif y>=z:\n",
    "    print('y is greater')\n",
    "else:\n",
    "    print('z is greater')\n"
   ]
  },
  {
   "cell_type": "code",
   "execution_count": 32,
   "metadata": {},
   "outputs": [
    {
     "name": "stdout",
     "output_type": "stream",
     "text": [
      "Enter your age : 45\n",
      "you are eligble for loan \n"
     ]
    }
   ],
   "source": [
    "age = int(input('Enter your age : '))\n",
    "if age > 18 :\n",
    "    print('you are eligble for loan ')\n",
    "else:\n",
    "    print('you have to be greater than 18 ')"
   ]
  },
  {
   "cell_type": "code",
   "execution_count": 36,
   "metadata": {},
   "outputs": [
    {
     "name": "stdout",
     "output_type": "stream",
     "text": [
      "Enter your age:20\n",
      "Sir, plz enter you proffesion.\n",
      "1.Government\n",
      "2.Private\n",
      "Enter number of proffesion : 1\n",
      "you have higher chances for loan\n"
     ]
    }
   ],
   "source": [
    "age = int(input('Enter your age:'))\n",
    "if age < 18 :\n",
    "    print('you have to be more than eighteen sorry.....!!!!')\n",
    "else:\n",
    "    print('Sir, plz enter you proffesion.\\n1.Government\\n2.Private')\n",
    "    num = int(input('Enter number of proffesion : '))\n",
    "    if num == 1:\n",
    "        print('you have higher chances for loan')\n",
    "    elif num == 2:\n",
    "        print('you have lower chances for loan')\n",
    "    else:\n",
    "        print(\"Don't get oversmart haan.....!!!!!\")"
   ]
  },
  {
   "cell_type": "code",
   "execution_count": 1,
   "metadata": {},
   "outputs": [
    {
     "name": "stdout",
     "output_type": "stream",
     "text": [
      "Enter you age : 5\n",
      "you have to be more than 18 \n"
     ]
    }
   ],
   "source": [
    "age = int(input('Enter you age : '))\n",
    "if age < 18:\n",
    "    print('you have to be more than 18 ')\n",
    "else:\n",
    "    print('Sir,plz enter you profeesion\\n1.Government\\n2.Private')\n",
    "    num = int(input('plz enter the number : '))\n",
    "    if num == 1:\n",
    "        print('You have higher chances for loan')\n",
    "    elif num == 2:\n",
    "        print('you have lower chances for loan')\n",
    "    else:\n",
    "        print(\"Don't get oversmart\")"
   ]
  },
  {
   "cell_type": "code",
   "execution_count": null,
   "metadata": {},
   "outputs": [],
   "source": [
    "print('hello world')"
   ]
  },
  {
   "cell_type": "code",
   "execution_count": 42,
   "metadata": {},
   "outputs": [
    {
     "name": "stdout",
     "output_type": "stream",
     "text": [
      "all no are even 2\n",
      "all no are even 4\n",
      "all no are even 6\n",
      "all no are even 8\n",
      "all no are even 10\n",
      "all no are even 12\n",
      "all no are even 14\n",
      "all no are even 16\n",
      "all no are even 18\n",
      "all no are even 20\n",
      "all no are even 22\n",
      "all no are even 24\n",
      "all no are even 26\n",
      "all no are even 28\n",
      "all no are even 30\n",
      "all no are even 32\n",
      "all no are even 34\n",
      "all no are even 36\n",
      "all no are even 38\n",
      "all no are even 40\n",
      "all no are even 42\n",
      "all no are even 44\n",
      "all no are even 46\n",
      "all no are even 48\n",
      "all no are even 50\n",
      "all no are even 52\n",
      "all no are even 54\n",
      "all no are even 56\n",
      "all no are even 58\n",
      "all no are even 60\n",
      "all no are even 62\n",
      "all no are even 64\n",
      "all no are even 66\n",
      "all no are even 68\n",
      "all no are even 70\n",
      "all no are even 72\n",
      "all no are even 74\n",
      "all no are even 76\n",
      "all no are even 78\n",
      "all no are even 80\n",
      "all no are even 82\n",
      "all no are even 84\n",
      "all no are even 86\n",
      "all no are even 88\n",
      "all no are even 90\n",
      "all no are even 92\n",
      "all no are even 94\n",
      "all no are even 96\n",
      "all no are even 98\n",
      "all no are even 100\n"
     ]
    }
   ],
   "source": [
    "for var in range(1,101):\n",
    "    if var % 2 == 0:\n",
    "        print('all no are even',var)"
   ]
  },
  {
   "cell_type": "code",
   "execution_count": 44,
   "metadata": {},
   "outputs": [
    {
     "name": "stdout",
     "output_type": "stream",
     "text": [
      "Enter a number :15\n",
      "your given number is even\n"
     ]
    }
   ],
   "source": [
    "numb = int(input('Enter a number :'))\n",
    "if num % 2==0:\n",
    "    print('your given number is odd')\n",
    "else:\n",
    "    print('your given number is even')"
   ]
  },
  {
   "cell_type": "code",
   "execution_count": 4,
   "metadata": {},
   "outputs": [
    {
     "name": "stdout",
     "output_type": "stream",
     "text": [
      "Enter foo or bar     f     O        o\n",
      "bar\n"
     ]
    }
   ],
   "source": [
    "f = input('Enter foo or bar').strip().lower()\n",
    "f = ''.join(f.split())\n",
    "if f == 'foo':\n",
    "    print('bar')\n",
    "elif f == 'bar':\n",
    "    print('foo')\n",
    "else:\n",
    "    print('plz give a valid input')"
   ]
  },
  {
   "cell_type": "code",
   "execution_count": 20,
   "metadata": {},
   "outputs": [
    {
     "data": {
      "text/plain": [
       "False"
      ]
     },
     "execution_count": 20,
     "metadata": {},
     "output_type": "execute_result"
    }
   ],
   "source": [
    "'foo' == 'FOO'"
   ]
  },
  {
   "cell_type": "code",
   "execution_count": 10,
   "metadata": {},
   "outputs": [
    {
     "name": "stdout",
     "output_type": "stream",
     "text": [
      "    f   o   O \n"
     ]
    }
   ],
   "source": [
    "t = input().lower()"
   ]
  },
  {
   "cell_type": "code",
   "execution_count": 16,
   "metadata": {},
   "outputs": [
    {
     "data": {
      "text/plain": [
       "['f', 'o', 'o']"
      ]
     },
     "execution_count": 16,
     "metadata": {},
     "output_type": "execute_result"
    }
   ],
   "source": [
    "u = t.split()\n",
    "u "
   ]
  },
  {
   "cell_type": "code",
   "execution_count": 18,
   "metadata": {},
   "outputs": [
    {
     "data": {
      "text/plain": [
       "'foo'"
      ]
     },
     "execution_count": 18,
     "metadata": {},
     "output_type": "execute_result"
    }
   ],
   "source": [
    "\"\".join(u)"
   ]
  },
  {
   "cell_type": "code",
   "execution_count": 5,
   "metadata": {},
   "outputs": [
    {
     "name": "stdout",
     "output_type": "stream",
     "text": [
      "   f o o\n",
      "bar\n"
     ]
    }
   ],
   "source": [
    "var = input().replace(' ','')\n",
    "\n",
    "if var.upper()=='FOO':\n",
    "    print('bar')\n",
    "elif var.upper()=='BAR':\n",
    "    print('foo')\n",
    "else:\n",
    "    print('plz enter valid input')"
   ]
  },
  {
   "cell_type": "code",
   "execution_count": 22,
   "metadata": {},
   "outputs": [
    {
     "name": "stdout",
     "output_type": "stream",
     "text": [
      " f   o   o\n"
     ]
    }
   ],
   "source": [
    "r = input()"
   ]
  },
  {
   "cell_type": "code",
   "execution_count": 23,
   "metadata": {},
   "outputs": [
    {
     "data": {
      "text/plain": [
       "'foo'"
      ]
     },
     "execution_count": 23,
     "metadata": {},
     "output_type": "execute_result"
    }
   ],
   "source": [
    "r.replace(' ','')"
   ]
  },
  {
   "cell_type": "code",
   "execution_count": null,
   "metadata": {},
   "outputs": [],
   "source": []
  }
 ],
 "metadata": {
  "kernelspec": {
   "display_name": "Python 3",
   "language": "python",
   "name": "python3"
  },
  "language_info": {
   "codemirror_mode": {
    "name": "ipython",
    "version": 3
   },
   "file_extension": ".py",
   "mimetype": "text/x-python",
   "name": "python",
   "nbconvert_exporter": "python",
   "pygments_lexer": "ipython3",
   "version": "3.7.3"
  }
 },
 "nbformat": 4,
 "nbformat_minor": 2
}
