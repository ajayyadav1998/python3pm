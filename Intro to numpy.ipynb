{
 "cells": [
  {
   "cell_type": "code",
   "execution_count": 1,
   "metadata": {},
   "outputs": [],
   "source": [
    "import numpy as np"
   ]
  },
  {
   "cell_type": "code",
   "execution_count": 29,
   "metadata": {},
   "outputs": [],
   "source": [
    "import matplotlib.pyplot as plt\n",
    "%matplotlib inline"
   ]
  },
  {
   "cell_type": "code",
   "execution_count": 5,
   "metadata": {},
   "outputs": [],
   "source": [
    "a = [[1,2,3],\n",
    "    [4,5,6]]\n",
    "\n",
    "b = [[6,7,8],\n",
    "    [9,8,7]]"
   ]
  },
  {
   "cell_type": "code",
   "execution_count": 6,
   "metadata": {},
   "outputs": [],
   "source": [
    "a = np.array(a)\n",
    "b = np.array(b)"
   ]
  },
  {
   "cell_type": "code",
   "execution_count": 7,
   "metadata": {},
   "outputs": [
    {
     "data": {
      "text/plain": [
       "array([[1, 2, 3],\n",
       "       [4, 5, 6]])"
      ]
     },
     "execution_count": 7,
     "metadata": {},
     "output_type": "execute_result"
    }
   ],
   "source": [
    "a"
   ]
  },
  {
   "cell_type": "code",
   "execution_count": 8,
   "metadata": {},
   "outputs": [
    {
     "data": {
      "text/plain": [
       "array([[6, 7, 8],\n",
       "       [9, 8, 7]])"
      ]
     },
     "execution_count": 8,
     "metadata": {},
     "output_type": "execute_result"
    }
   ],
   "source": [
    "b"
   ]
  },
  {
   "cell_type": "code",
   "execution_count": 9,
   "metadata": {},
   "outputs": [
    {
     "data": {
      "text/plain": [
       "array([[ 6, 14, 24],\n",
       "       [36, 40, 42]])"
      ]
     },
     "execution_count": 9,
     "metadata": {},
     "output_type": "execute_result"
    }
   ],
   "source": [
    "a * b"
   ]
  },
  {
   "cell_type": "code",
   "execution_count": 16,
   "metadata": {},
   "outputs": [],
   "source": [
    "c = [[1,2,3],\n",
    "    [4,5,6],\n",
    "    [7,8,9]]\n",
    "\n",
    "d = [[1,2,3],\n",
    "     [4,5,6],\n",
    "    [5,6,7]]"
   ]
  },
  {
   "cell_type": "code",
   "execution_count": 17,
   "metadata": {},
   "outputs": [],
   "source": [
    "c = np.array(c)\n",
    "d = np.array(d)"
   ]
  },
  {
   "cell_type": "code",
   "execution_count": 18,
   "metadata": {},
   "outputs": [
    {
     "data": {
      "text/plain": [
       "array([[1, 2, 3],\n",
       "       [4, 5, 6],\n",
       "       [7, 8, 9]])"
      ]
     },
     "execution_count": 18,
     "metadata": {},
     "output_type": "execute_result"
    }
   ],
   "source": [
    "c"
   ]
  },
  {
   "cell_type": "code",
   "execution_count": 19,
   "metadata": {},
   "outputs": [
    {
     "data": {
      "text/plain": [
       "array([[1, 2, 3],\n",
       "       [4, 5, 6],\n",
       "       [5, 6, 7]])"
      ]
     },
     "execution_count": 19,
     "metadata": {},
     "output_type": "execute_result"
    }
   ],
   "source": [
    "d"
   ]
  },
  {
   "cell_type": "code",
   "execution_count": 20,
   "metadata": {},
   "outputs": [
    {
     "data": {
      "text/plain": [
       "array([[ 24,  30,  36],\n",
       "       [ 54,  69,  84],\n",
       "       [ 84, 108, 132]])"
      ]
     },
     "execution_count": 20,
     "metadata": {},
     "output_type": "execute_result"
    }
   ],
   "source": [
    "c @ d"
   ]
  },
  {
   "cell_type": "code",
   "execution_count": 21,
   "metadata": {},
   "outputs": [],
   "source": [
    "a = np.array([1,2,3,4])"
   ]
  },
  {
   "cell_type": "code",
   "execution_count": 22,
   "metadata": {},
   "outputs": [
    {
     "data": {
      "text/plain": [
       "array([1, 2, 3, 4])"
      ]
     },
     "execution_count": 22,
     "metadata": {},
     "output_type": "execute_result"
    }
   ],
   "source": [
    "a"
   ]
  },
  {
   "cell_type": "code",
   "execution_count": 25,
   "metadata": {},
   "outputs": [],
   "source": [
    "b = np.array([[1,2,3,4],\n",
    "             [3,4,5,7]])"
   ]
  },
  {
   "cell_type": "code",
   "execution_count": 26,
   "metadata": {},
   "outputs": [
    {
     "data": {
      "text/plain": [
       "array([[1, 2, 3, 4],\n",
       "       [3, 4, 5, 7]])"
      ]
     },
     "execution_count": 26,
     "metadata": {},
     "output_type": "execute_result"
    }
   ],
   "source": [
    "b"
   ]
  },
  {
   "cell_type": "code",
   "execution_count": 27,
   "metadata": {},
   "outputs": [],
   "source": [
    "lin = np.linspace(1,50,100)"
   ]
  },
  {
   "cell_type": "code",
   "execution_count": 28,
   "metadata": {},
   "outputs": [
    {
     "data": {
      "text/plain": [
       "array([ 1.        ,  1.49494949,  1.98989899,  2.48484848,  2.97979798,\n",
       "        3.47474747,  3.96969697,  4.46464646,  4.95959596,  5.45454545,\n",
       "        5.94949495,  6.44444444,  6.93939394,  7.43434343,  7.92929293,\n",
       "        8.42424242,  8.91919192,  9.41414141,  9.90909091, 10.4040404 ,\n",
       "       10.8989899 , 11.39393939, 11.88888889, 12.38383838, 12.87878788,\n",
       "       13.37373737, 13.86868687, 14.36363636, 14.85858586, 15.35353535,\n",
       "       15.84848485, 16.34343434, 16.83838384, 17.33333333, 17.82828283,\n",
       "       18.32323232, 18.81818182, 19.31313131, 19.80808081, 20.3030303 ,\n",
       "       20.7979798 , 21.29292929, 21.78787879, 22.28282828, 22.77777778,\n",
       "       23.27272727, 23.76767677, 24.26262626, 24.75757576, 25.25252525,\n",
       "       25.74747475, 26.24242424, 26.73737374, 27.23232323, 27.72727273,\n",
       "       28.22222222, 28.71717172, 29.21212121, 29.70707071, 30.2020202 ,\n",
       "       30.6969697 , 31.19191919, 31.68686869, 32.18181818, 32.67676768,\n",
       "       33.17171717, 33.66666667, 34.16161616, 34.65656566, 35.15151515,\n",
       "       35.64646465, 36.14141414, 36.63636364, 37.13131313, 37.62626263,\n",
       "       38.12121212, 38.61616162, 39.11111111, 39.60606061, 40.1010101 ,\n",
       "       40.5959596 , 41.09090909, 41.58585859, 42.08080808, 42.57575758,\n",
       "       43.07070707, 43.56565657, 44.06060606, 44.55555556, 45.05050505,\n",
       "       45.54545455, 46.04040404, 46.53535354, 47.03030303, 47.52525253,\n",
       "       48.02020202, 48.51515152, 49.01010101, 49.50505051, 50.        ])"
      ]
     },
     "execution_count": 28,
     "metadata": {},
     "output_type": "execute_result"
    }
   ],
   "source": [
    "lin"
   ]
  },
  {
   "cell_type": "code",
   "execution_count": 30,
   "metadata": {},
   "outputs": [
    {
     "data": {
      "text/plain": [
       "array([1.00000000e+00, 2.23487399e+00, 3.95969799e+00, 6.17447199e+00,\n",
       "       8.87919600e+00, 1.20738700e+01, 1.57584940e+01, 1.99330681e+01,\n",
       "       2.45975921e+01, 2.97520661e+01, 3.53964902e+01, 4.15308642e+01,\n",
       "       4.81551882e+01, 5.52694623e+01, 6.28736864e+01, 7.09678604e+01,\n",
       "       7.95519845e+01, 8.86260586e+01, 9.81900826e+01, 1.08244057e+02,\n",
       "       1.18787981e+02, 1.29821855e+02, 1.41345679e+02, 1.53359453e+02,\n",
       "       1.65863177e+02, 1.78856851e+02, 1.92340475e+02, 2.06314050e+02,\n",
       "       2.20777574e+02, 2.35731048e+02, 2.51174472e+02, 2.67107846e+02,\n",
       "       2.83531170e+02, 3.00444444e+02, 3.17847669e+02, 3.35740843e+02,\n",
       "       3.54123967e+02, 3.72997041e+02, 3.92360065e+02, 4.12213039e+02,\n",
       "       4.32555964e+02, 4.53388838e+02, 4.74711662e+02, 4.96524436e+02,\n",
       "       5.18827160e+02, 5.41619835e+02, 5.64902459e+02, 5.88675033e+02,\n",
       "       6.12937557e+02, 6.37690032e+02, 6.62932456e+02, 6.88664830e+02,\n",
       "       7.14887154e+02, 7.41599429e+02, 7.68801653e+02, 7.96493827e+02,\n",
       "       8.24675951e+02, 8.53348026e+02, 8.82510050e+02, 9.12162024e+02,\n",
       "       9.42303949e+02, 9.72935823e+02, 1.00405765e+03, 1.03566942e+03,\n",
       "       1.06777115e+03, 1.10036282e+03, 1.13344444e+03, 1.16701602e+03,\n",
       "       1.20107754e+03, 1.23562902e+03, 1.27067044e+03, 1.30620182e+03,\n",
       "       1.34222314e+03, 1.37873441e+03, 1.41573564e+03, 1.45322681e+03,\n",
       "       1.49120794e+03, 1.52967901e+03, 1.56864004e+03, 1.60809101e+03,\n",
       "       1.64803194e+03, 1.68846281e+03, 1.72938363e+03, 1.77079441e+03,\n",
       "       1.81269513e+03, 1.85508581e+03, 1.89796643e+03, 1.94133701e+03,\n",
       "       1.98519753e+03, 2.02954801e+03, 2.07438843e+03, 2.11971880e+03,\n",
       "       2.16553913e+03, 2.21184940e+03, 2.25864963e+03, 2.30593980e+03,\n",
       "       2.35371993e+03, 2.40199000e+03, 2.45075003e+03, 2.50000000e+03])"
      ]
     },
     "execution_count": 30,
     "metadata": {},
     "output_type": "execute_result"
    }
   ],
   "source": [
    "bi = lin**2\n",
    "bi"
   ]
  },
  {
   "cell_type": "code",
   "execution_count": 35,
   "metadata": {},
   "outputs": [
    {
     "data": {
      "image/png": "[encoded data removed]",
      "text/plain": [
       "<Figure size 432x288 with 1 Axes>"
      ]
     },
     "metadata": {
      "needs_background": "light"
     },
     "output_type": "display_data"
    }
   ],
   "source": [
    "plt.plot(lin,bi)\n",
    "plt.title('graph of x and y')\n",
    "plt.xlabel('x-axis')\n",
    "plt.ylabel('y-axis')\n",
    "plt.show()"
   ]
  },
  {
   "cell_type": "code",
   "execution_count": 36,
   "metadata": {},
   "outputs": [
    {
     "data": {
      "text/plain": [
       "array([1, 2, 3, 4])"
      ]
     },
     "execution_count": 36,
     "metadata": {},
     "output_type": "execute_result"
    }
   ],
   "source": [
    "a"
   ]
  },
  {
   "cell_type": "code",
   "execution_count": 38,
   "metadata": {},
   "outputs": [
    {
     "data": {
      "text/plain": [
       "array([  1,   2,   3,   4,   5,   6,   7,   8,   9,  10,  11,  12,  13,\n",
       "        14,  15,  16,  17,  18,  19,  20,  21,  22,  23,  24,  25,  26,\n",
       "        27,  28,  29,  30,  31,  32,  33,  34,  35,  36,  37,  38,  39,\n",
       "        40,  41,  42,  43,  44,  45,  46,  47,  48,  49,  50,  51,  52,\n",
       "        53,  54,  55,  56,  57,  58,  59,  60,  61,  62,  63,  64,  65,\n",
       "        66,  67,  68,  69,  70,  71,  72,  73,  74,  75,  76,  77,  78,\n",
       "        79,  80,  81,  82,  83,  84,  85,  86,  87,  88,  89,  90,  91,\n",
       "        92,  93,  94,  95,  96,  97,  98,  99, 100])"
      ]
     },
     "execution_count": 38,
     "metadata": {},
     "output_type": "execute_result"
    }
   ],
   "source": [
    "ara = np.arange(1,101)\n",
    "ara"
   ]
  },
  {
   "cell_type": "code",
   "execution_count": 40,
   "metadata": {},
   "outputs": [
    {
     "data": {
      "text/plain": [
       "array([[  1,   2,   3,   4,   5,   6,   7,   8,   9,  10],\n",
       "       [ 11,  12,  13,  14,  15,  16,  17,  18,  19,  20],\n",
       "       [ 21,  22,  23,  24,  25,  26,  27,  28,  29,  30],\n",
       "       [ 31,  32,  33,  34,  35,  36,  37,  38,  39,  40],\n",
       "       [ 41,  42,  43,  44,  45,  46,  47,  48,  49,  50],\n",
       "       [ 51,  52,  53,  54,  55,  56,  57,  58,  59,  60],\n",
       "       [ 61,  62,  63,  64,  65,  66,  67,  68,  69,  70],\n",
       "       [ 71,  72,  73,  74,  75,  76,  77,  78,  79,  80],\n",
       "       [ 81,  82,  83,  84,  85,  86,  87,  88,  89,  90],\n",
       "       [ 91,  92,  93,  94,  95,  96,  97,  98,  99, 100]])"
      ]
     },
     "execution_count": 40,
     "metadata": {},
     "output_type": "execute_result"
    }
   ],
   "source": [
    "ara.reshape((10,10))"
   ]
  },
  {
   "cell_type": "code",
   "execution_count": 42,
   "metadata": {},
   "outputs": [],
   "source": [
    "sal = [23,43,45,56,67,88,45,98,65,78,98,66,53,45,65,65,45,56,44,53,45,42,54,15,45,47,54,59,52\n",
    "       ,54,54,54,45,32,85,34,43,22,32,44,32,53,74,45,54,53,45,41,54,23,43,45,56,67,88,45,98,\n",
    "       65,78,98,66,53,45,65,65,45,55,44,53,45,42,54,15,45,47,54,59,52,54,54,54,45,32,54,34,43,22,\n",
    "       32,44,32,53,74,45,54,53,45,41,54,43,63,45,65,76,23,43,45,12,34,45,65]"
   ]
  },
  {
   "cell_type": "code",
   "execution_count": 43,
   "metadata": {},
   "outputs": [],
   "source": [
    "sal = np.array(sal)"
   ]
  },
  {
   "cell_type": "code",
   "execution_count": 45,
   "metadata": {},
   "outputs": [
    {
     "data": {
      "text/plain": [
       "array([23, 43, 45, 56, 67, 88, 45, 98, 65, 78, 98, 66, 53, 45, 65, 65, 45,\n",
       "       56, 44, 53, 45, 42, 54, 15, 45, 47, 54, 59, 52, 54, 54, 54, 45, 32,\n",
       "       85, 34, 43, 22, 32, 44, 32, 53, 74, 45, 54, 53, 45, 41, 54, 23, 43,\n",
       "       45, 56, 67, 88, 45, 98, 65, 78, 98, 66, 53, 45, 65, 65, 45, 55, 44,\n",
       "       53, 45, 42, 54, 15, 45, 47, 54, 59, 52, 54, 54, 54, 45, 32, 54, 34,\n",
       "       43, 22, 32, 44, 32, 53, 74, 45, 54, 53, 45, 41, 54, 43, 63, 45, 65,\n",
       "       76, 23, 43, 45, 12, 34, 45, 65])"
      ]
     },
     "execution_count": 45,
     "metadata": {},
     "output_type": "execute_result"
    }
   ],
   "source": [
    "sal"
   ]
  },
  {
   "cell_type": "code",
   "execution_count": 46,
   "metadata": {},
   "outputs": [],
   "source": [
    "sal.sort()"
   ]
  },
  {
   "cell_type": "code",
   "execution_count": 48,
   "metadata": {},
   "outputs": [
    {
     "data": {
      "text/plain": [
       "array([12, 15, 15, 22, 22, 23, 23, 23, 32, 32, 32, 32, 32, 32, 34, 34, 34,\n",
       "       41, 41, 42, 42, 43, 43, 43, 43, 43, 43, 44, 44, 44, 44, 45, 45, 45,\n",
       "       45, 45, 45, 45, 45, 45, 45, 45, 45, 45, 45, 45, 45, 45, 45, 45, 45,\n",
       "       45, 47, 47, 52, 52, 53, 53, 53, 53, 53, 53, 53, 53, 54, 54, 54, 54,\n",
       "       54, 54, 54, 54, 54, 54, 54, 54, 54, 54, 54, 55, 56, 56, 56, 59, 59,\n",
       "       63, 65, 65, 65, 65, 65, 65, 65, 65, 66, 66, 67, 67, 74, 74, 76, 78,\n",
       "       78, 85, 88, 88, 98, 98, 98, 98])"
      ]
     },
     "execution_count": 48,
     "metadata": {},
     "output_type": "execute_result"
    }
   ],
   "source": [
    "sal"
   ]
  },
  {
   "cell_type": "code",
   "execution_count": 49,
   "metadata": {},
   "outputs": [
    {
     "data": {
      "text/plain": [
       "51.35454545454545"
      ]
     },
     "execution_count": 49,
     "metadata": {},
     "output_type": "execute_result"
    }
   ],
   "source": [
    "sal.mean()"
   ]
  },
  {
   "cell_type": "code",
   "execution_count": 50,
   "metadata": {},
   "outputs": [
    {
     "data": {
      "text/plain": [
       "52.0"
      ]
     },
     "execution_count": 50,
     "metadata": {},
     "output_type": "execute_result"
    }
   ],
   "source": [
    "np.median(sal)"
   ]
  },
  {
   "cell_type": "code",
   "execution_count": 51,
   "metadata": {},
   "outputs": [
    {
     "data": {
      "text/plain": [
       "17.0104707666331"
      ]
     },
     "execution_count": 51,
     "metadata": {},
     "output_type": "execute_result"
    }
   ],
   "source": [
    "sal.std()"
   ]
  },
  {
   "cell_type": "code",
   "execution_count": 55,
   "metadata": {},
   "outputs": [],
   "source": [
    "x = np.array([12,15,20,25,13,90])"
   ]
  },
  {
   "cell_type": "code",
   "execution_count": 56,
   "metadata": {},
   "outputs": [
    {
     "data": {
      "text/plain": [
       "29.166666666666668"
      ]
     },
     "execution_count": 56,
     "metadata": {},
     "output_type": "execute_result"
    }
   ],
   "source": [
    "x.mean()"
   ]
  },
  {
   "cell_type": "code",
   "execution_count": 59,
   "metadata": {},
   "outputs": [
    {
     "data": {
      "text/plain": [
       "68.36501622117855"
      ]
     },
     "execution_count": 59,
     "metadata": {},
     "output_type": "execute_result"
    }
   ],
   "source": [
    "sal.std() + sal.mean()"
   ]
  },
  {
   "cell_type": "code",
   "execution_count": 60,
   "metadata": {},
   "outputs": [
    {
     "data": {
      "text/plain": [
       "34.344074687912354"
      ]
     },
     "execution_count": 60,
     "metadata": {},
     "output_type": "execute_result"
    }
   ],
   "source": [
    "sal.mean() - sal.std()"
   ]
  },
  {
   "cell_type": "code",
   "execution_count": 63,
   "metadata": {},
   "outputs": [
    {
     "data": {
      "image/png": "[encoded data removed]",
      "text/plain": [
       "<Figure size 432x288 with 1 Axes>"
      ]
     },
     "metadata": {
      "needs_background": "light"
     },
     "output_type": "display_data"
    }
   ],
   "source": [
    "plt.hist(sal,bins=30)\n",
    "plt.show()"
   ]
  },
  {
   "cell_type": "code",
   "execution_count": 70,
   "metadata": {},
   "outputs": [
    {
     "data": {
      "image/png": "[encoded data removed]",
      "text/plain": [
       "<Figure size 432x288 with 1 Axes>"
      ]
     },
     "metadata": {
      "needs_background": "light"
     },
     "output_type": "display_data"
    }
   ],
   "source": [
    "plt.plot(sal,'ro')\n",
    "plt.plot([0,100],[sal.mean(),sal.mean()],'g',lw=2)\n",
    "plt.plot([0,100],[sal.min(),sal.min()],'m',lw=2)\n",
    "plt.plot([0,100],[sal.max(),sal.max()],'m',lw=2)\n",
    "plt.plot([0,100],[sal.mean()+sal.std(),sal.mean()+sal.std()],'y',lw=2)\n",
    "plt.plot([0,100],[sal.mean()-sal.std(),sal.mean()-sal.std()],'y',lw=2)\n",
    "\n",
    "plt.show()"
   ]
  },
  {
   "cell_type": "code",
   "execution_count": 74,
   "metadata": {},
   "outputs": [
    {
     "data": {
      "text/plain": [
       "55"
      ]
     },
     "execution_count": 74,
     "metadata": {},
     "output_type": "execute_result"
    }
   ],
   "source": [
    "np.random.randint(1,100)"
   ]
  },
  {
   "cell_type": "code",
   "execution_count": 82,
   "metadata": {},
   "outputs": [
    {
     "data": {
      "text/plain": [
       "array([[[-0.7332747 ,  1.53051484, -1.27854003, ..., -0.20071684,\n",
       "         -1.26984353,  1.4760618 ],\n",
       "        [-0.27196645, -0.35270726,  0.59632691, ...,  0.58572371,\n",
       "          1.78546357, -0.0950473 ],\n",
       "        [-0.53466732,  0.0781559 ,  0.37151981, ...,  0.64754499,\n",
       "         -0.79815208,  0.16463718],\n",
       "        ...,\n",
       "        [-0.78756439,  0.50044054, -0.72778188, ..., -1.61362738,\n",
       "         -0.13218168, -0.9943481 ],\n",
       "        [-1.0904209 , -0.80649249,  1.92209867, ...,  1.947931  ,\n",
       "          0.84094189,  1.9964673 ],\n",
       "        [-0.13956849, -0.60620815,  1.84637355, ...,  0.37644896,\n",
       "         -0.52626931, -0.47228538]]])"
      ]
     },
     "execution_count": 82,
     "metadata": {},
     "output_type": "execute_result"
    }
   ],
   "source": [
    "np.random.randn(1,100,100)"
   ]
  },
  {
   "cell_type": "code",
   "execution_count": 84,
   "metadata": {},
   "outputs": [],
   "source": [
    "h = np.random.normal(1,100,100)"
   ]
  },
  {
   "cell_type": "code",
   "execution_count": 86,
   "metadata": {},
   "outputs": [
    {
     "data": {
      "image/png": "[encoded data removed]",
      "text/plain": [
       "<Figure size 432x288 with 1 Axes>"
      ]
     },
     "metadata": {
      "needs_background": "light"
     },
     "output_type": "display_data"
    }
   ],
   "source": [
    "plt.hist(h,bins=30)\n",
    "plt.show()"
   ]
  },
  {
   "cell_type": "code",
   "execution_count": 87,
   "metadata": {},
   "outputs": [
    {
     "data": {
      "text/plain": [
       "array([[1, 2, 3, 4],\n",
       "       [3, 4, 5, 7]])"
      ]
     },
     "execution_count": 87,
     "metadata": {},
     "output_type": "execute_result"
    }
   ],
   "source": [
    "b"
   ]
  },
  {
   "cell_type": "code",
   "execution_count": 89,
   "metadata": {},
   "outputs": [
    {
     "data": {
      "text/plain": [
       "array([1, 2, 3, 4, 3, 4, 5, 7])"
      ]
     },
     "execution_count": 89,
     "metadata": {},
     "output_type": "execute_result"
    }
   ],
   "source": [
    "b.flatten()"
   ]
  },
  {
   "cell_type": "code",
   "execution_count": 96,
   "metadata": {},
   "outputs": [
    {
     "data": {
      "text/plain": [
       "array([[8., 0., 0., 0., 0., 0., 0., 0.],\n",
       "       [0., 8., 0., 0., 0., 0., 0., 0.],\n",
       "       [0., 0., 8., 0., 0., 0., 0., 0.],\n",
       "       [0., 0., 0., 8., 0., 0., 0., 0.],\n",
       "       [0., 0., 0., 0., 8., 0., 0., 0.],\n",
       "       [0., 0., 0., 0., 0., 8., 0., 0.],\n",
       "       [0., 0., 0., 0., 0., 0., 8., 0.],\n",
       "       [0., 0., 0., 0., 0., 0., 0., 8.]])"
      ]
     },
     "execution_count": 96,
     "metadata": {},
     "output_type": "execute_result"
    }
   ],
   "source": [
    "np.eye(8)*8"
   ]
  },
  {
   "cell_type": "code",
   "execution_count": 99,
   "metadata": {},
   "outputs": [
    {
     "data": {
      "text/plain": [
       "array([[9, 9, 9, 9, 9, 9, 9],\n",
       "       [9, 9, 9, 9, 9, 9, 9],\n",
       "       [9, 9, 9, 9, 9, 9, 9],\n",
       "       [9, 9, 9, 9, 9, 9, 9],\n",
       "       [9, 9, 9, 9, 9, 9, 9],\n",
       "       [9, 9, 9, 9, 9, 9, 9],\n",
       "       [9, 9, 9, 9, 9, 9, 9]])"
      ]
     },
     "execution_count": 99,
     "metadata": {},
     "output_type": "execute_result"
    }
   ],
   "source": [
    "np.full((7,7),9)"
   ]
  },
  {
   "cell_type": "code",
   "execution_count": 102,
   "metadata": {},
   "outputs": [],
   "source": [
    "ara = ara.reshape((10,10))"
   ]
  },
  {
   "cell_type": "code",
   "execution_count": 104,
   "metadata": {},
   "outputs": [
    {
     "data": {
      "text/plain": [
       "(10, 10)"
      ]
     },
     "execution_count": 104,
     "metadata": {},
     "output_type": "execute_result"
    }
   ],
   "source": [
    "ara.shape"
   ]
  },
  {
   "cell_type": "code",
   "execution_count": 108,
   "metadata": {},
   "outputs": [],
   "source": [
    "x = np.random.rand(100)\n",
    "y = np.random.rand(100)"
   ]
  },
  {
   "cell_type": "code",
   "execution_count": 112,
   "metadata": {},
   "outputs": [
    {
     "data": {
      "image/png": "[encoded data removed]",
      "text/plain": [
       "<Figure size 432x288 with 1 Axes>"
      ]
     },
     "metadata": {
      "needs_background": "light"
     },
     "output_type": "display_data"
    }
   ],
   "source": [
    "plt.plot(x,y,'ro')\n",
    "plt.show()"
   ]
  },
  {
   "cell_type": "code",
   "execution_count": 113,
   "metadata": {},
   "outputs": [
    {
     "data": {
      "text/plain": [
       "array([[1, 2, 3, 4],\n",
       "       [3, 4, 5, 7]])"
      ]
     },
     "execution_count": 113,
     "metadata": {},
     "output_type": "execute_result"
    }
   ],
   "source": [
    "b"
   ]
  },
  {
   "cell_type": "code",
   "execution_count": 114,
   "metadata": {},
   "outputs": [
    {
     "data": {
      "text/plain": [
       "array([1, 2, 3, 4, 3, 4, 5, 7])"
      ]
     },
     "execution_count": 114,
     "metadata": {},
     "output_type": "execute_result"
    }
   ],
   "source": [
    "b.ravel()"
   ]
  },
  {
   "cell_type": "code",
   "execution_count": 1,
   "metadata": {},
   "outputs": [],
   "source": [
    "import numpy as np"
   ]
  },
  {
   "cell_type": "code",
   "execution_count": 2,
   "metadata": {},
   "outputs": [],
   "source": [
    "import matplotlib.pyplot as plt"
   ]
  },
  {
   "cell_type": "code",
   "execution_count": 3,
   "metadata": {},
   "outputs": [
    {
     "data": {
      "text/plain": [
       "array([0. , 0.2, 0.4, 0.6, 0.8, 1. , 1.2, 1.4, 1.6, 1.8, 2. , 2.2, 2.4,\n",
       "       2.6, 2.8, 3. , 3.2, 3.4, 3.6, 3.8, 4. , 4.2, 4.4, 4.6, 4.8])"
      ]
     },
     "execution_count": 3,
     "metadata": {},
     "output_type": "execute_result"
    }
   ],
   "source": [
    "num = np.arange(0,5,0.2)\n",
    "num"
   ]
  },
  {
   "cell_type": "code",
   "execution_count": 4,
   "metadata": {},
   "outputs": [
    {
     "data": {
      "text/plain": [
       "25"
      ]
     },
     "execution_count": 4,
     "metadata": {},
     "output_type": "execute_result"
    }
   ],
   "source": [
    "len(num)"
   ]
  },
  {
   "cell_type": "code",
   "execution_count": 5,
   "metadata": {},
   "outputs": [
    {
     "data": {
      "text/plain": [
       "array([[0. , 0.2, 0.4, 0.6, 0.8],\n",
       "       [1. , 1.2, 1.4, 1.6, 1.8],\n",
       "       [2. , 2.2, 2.4, 2.6, 2.8],\n",
       "       [3. , 3.2, 3.4, 3.6, 3.8],\n",
       "       [4. , 4.2, 4.4, 4.6, 4.8]])"
      ]
     },
     "execution_count": 5,
     "metadata": {},
     "output_type": "execute_result"
    }
   ],
   "source": [
    "num = num.reshape((5,5))\n",
    "num"
   ]
  },
  {
   "cell_type": "code",
   "execution_count": 6,
   "metadata": {},
   "outputs": [
    {
     "data": {
      "image/png": "[encoded data removed]",
      "text/plain": [
       "<Figure size 432x288 with 1 Axes>"
      ]
     },
     "metadata": {
      "needs_background": "light"
     },
     "output_type": "display_data"
    }
   ],
   "source": [
    "plt.plot(num)\n",
    "plt.show()"
   ]
  },
  {
   "cell_type": "code",
   "execution_count": 7,
   "metadata": {},
   "outputs": [],
   "source": [
    "norm = np.random.normal(25,.5,1000)"
   ]
  },
  {
   "cell_type": "code",
   "execution_count": 8,
   "metadata": {},
   "outputs": [
    {
     "data": {
      "text/plain": [
       "array([25.1138804 , 24.70302324, 24.47264866, 24.5281172 , 25.26834664,\n",
       "       24.51038538, 25.00291705, 24.52740625, 24.03726178, 24.24456199,\n",
       "       24.76993349, 24.54159155, 24.67179369, 24.59186194, 24.84339623,\n",
       "       24.64932711, 24.04076862, 24.74022521, 25.78633376, 24.52486152,\n",
       "       24.98727892, 26.68629433, 24.49024232, 24.70139481, 25.36656074,\n",
       "       25.06878726, 25.00736654, 24.89310231, 24.84648246, 24.7873039 ,\n",
       "       25.39355987, 24.75967115, 24.12775734, 25.48531626, 24.60626585,\n",
       "       25.30250056, 24.78859926, 24.63569371, 24.00180256, 24.82635401,\n",
       "       25.14719536, 24.55067208, 25.35104101, 25.97461333, 26.15289387,\n",
       "       24.98532669, 25.01709471, 24.56828305, 25.47739835, 25.09214809,\n",
       "       25.2598229 , 25.39096699, 24.50597079, 25.79962737, 24.4566056 ,\n",
       "       24.89440665, 24.76053435, 24.99886977, 25.17621519, 25.93995836,\n",
       "       24.94850197, 24.44968413, 24.57360243, 24.61448857, 24.30954376,\n",
       "       24.9798579 , 25.12403333, 24.97155852, 24.25524058, 25.14121856,\n",
       "       24.39155964, 25.48015773, 25.28415884, 24.34471026, 24.89418427,\n",
       "       25.26099182, 25.43644782, 24.92670631, 25.38354845, 25.12005682,\n",
       "       25.58745188, 24.52699989, 24.60256867, 25.96411123, 24.71266495,\n",
       "       25.11728808, 25.35634443, 25.49160383, 24.68408497, 25.1075452 ,\n",
       "       25.14665451, 24.48598624, 24.93302336, 23.95100817, 24.5409173 ,\n",
       "       25.27371641, 24.91587771, 25.0785727 , 25.3648231 , 25.03657013,\n",
       "       25.33069259, 25.1109444 , 25.38412544, 25.16212989, 24.82018739,\n",
       "       25.10509814, 25.66895394, 25.42742033, 25.18074926, 24.25021435,\n",
       "       25.70509678, 24.72695713, 24.90338619, 24.74429503, 24.90847544,\n",
       "       24.82144951, 24.847515  , 25.16452689, 25.91826702, 24.53068935,\n",
       "       25.4262561 , 25.34214336, 25.18205336, 24.75649486, 25.24308207,\n",
       "       25.76568293, 25.26957924, 25.37294341, 25.36877927, 24.67244507,\n",
       "       24.80753622, 24.65187163, 24.69026234, 25.16724373, 24.72587221,\n",
       "       24.39166257, 25.54182318, 25.80984541, 25.25422193, 25.54382212,\n",
       "       24.62316682, 24.81951937, 24.38883513, 24.90142596, 24.74849634,\n",
       "       24.01055971, 24.98621205, 24.61494562, 25.34324797, 24.28029121,\n",
       "       24.62117438, 25.59849676, 25.45602458, 24.41518649, 24.36919062,\n",
       "       24.98031196, 25.39036129, 25.28138048, 24.29766832, 25.61172178,\n",
       "       25.04350363, 25.7694426 , 26.25521377, 25.74598389, 25.22157233,\n",
       "       24.84182058, 25.93422793, 25.23249036, 25.43961591, 24.08735806,\n",
       "       24.63074674, 24.80725278, 24.89203912, 26.28443078, 26.00279643,\n",
       "       25.63446395, 25.02878758, 24.39724769, 24.98538606, 25.40820692,\n",
       "       25.70030704, 25.23867956, 23.94085585, 24.89723417, 25.47376458,\n",
       "       24.7881878 , 25.01798025, 25.22033894, 24.11967025, 25.66916522,\n",
       "       25.03764824, 25.43770611, 25.17381766, 25.2402322 , 25.19663605,\n",
       "       25.28112088, 24.57894454, 25.25197006, 24.69964995, 24.99837001,\n",
       "       25.37243057, 25.04364894, 25.27002604, 24.8370212 , 25.64872778,\n",
       "       25.63460304, 24.05834417, 25.38715596, 24.98192295, 24.76403063,\n",
       "       25.25916413, 24.44973776, 24.72454551, 25.52090913, 25.44406107,\n",
       "       25.38021641, 25.2757848 , 24.529813  , 25.61163802, 24.7960783 ,\n",
       "       25.05086481, 24.95370456, 25.77820246, 24.82649074, 24.34216824,\n",
       "       24.66094958, 24.05306901, 24.55339718, 25.4126825 , 25.07204556,\n",
       "       25.207565  , 24.5022256 , 25.05772163, 24.76133079, 25.50221544,\n",
       "       25.89158107, 24.98492007, 24.88144052, 24.79993133, 25.04035812,\n",
       "       25.07203982, 25.10728017, 25.09016934, 26.06861479, 23.95590208,\n",
       "       25.26084642, 24.66102303, 25.50076273, 25.45939946, 24.19348364,\n",
       "       23.86925183, 25.89198715, 25.01130912, 25.1207755 , 25.1619738 ,\n",
       "       24.78083265, 25.2942541 , 24.39799056, 25.68268075, 25.26986444,\n",
       "       24.25321008, 24.14511558, 24.80831124, 24.34626477, 24.99449591,\n",
       "       25.12867263, 25.06710769, 25.60026319, 24.56118404, 26.04169769,\n",
       "       24.53224376, 25.25196709, 25.51044194, 24.57168698, 25.42403136,\n",
       "       24.64490571, 24.28478375, 24.106172  , 25.30504519, 24.43350312,\n",
       "       25.23544218, 25.09587751, 25.74833814, 25.02238445, 24.59203822,\n",
       "       26.01721481, 24.33673126, 25.16582878, 25.01206176, 24.96230882,\n",
       "       24.90144722, 25.00285226, 23.61972837, 25.01531907, 25.15302391,\n",
       "       25.51989219, 25.51837537, 24.66390516, 24.57064543, 24.53103619,\n",
       "       24.98024981, 24.92757884, 24.91917555, 24.87429508, 25.0275428 ,\n",
       "       25.41014577, 24.47027236, 24.35323424, 25.40943623, 24.79056971,\n",
       "       25.50919218, 24.56509125, 24.89389659, 26.06396624, 24.75087387,\n",
       "       24.6586531 , 25.04516548, 25.80042969, 24.98792399, 23.9971576 ,\n",
       "       25.18067104, 25.38130068, 25.34402376, 25.32183198, 24.91791925,\n",
       "       26.30537174, 24.82184845, 24.98325431, 25.33239615, 24.25800362,\n",
       "       24.13972138, 24.75540818, 24.28628298, 24.89685617, 25.16377076,\n",
       "       25.57160142, 24.89459682, 25.11718352, 25.6401672 , 24.0191604 ,\n",
       "       25.31345961, 25.19293804, 24.75410866, 25.24120292, 24.92484754,\n",
       "       24.05674445, 24.85401281, 24.73660785, 24.87401263, 25.47507291,\n",
       "       23.93001976, 25.84207512, 24.59828438, 25.58392791, 25.52279085,\n",
       "       24.46341638, 25.95708564, 24.57910204, 25.80013617, 24.96844961,\n",
       "       25.20690339, 25.78119297, 24.3732561 , 24.5260288 , 25.03628637,\n",
       "       24.88076327, 24.21315203, 24.80750929, 25.05404751, 23.98905832,\n",
       "       25.05907165, 26.37926487, 24.47036366, 24.00618675, 24.65990064,\n",
       "       25.28562547, 24.78524073, 24.58465349, 24.95188509, 24.76326057,\n",
       "       24.30552316, 24.98132734, 24.61694948, 24.77161683, 24.75546095,\n",
       "       24.01674025, 24.01439214, 25.2284211 , 24.60669746, 24.39110042,\n",
       "       25.00100831, 24.83416353, 24.5971499 , 25.43209314, 25.52484915,\n",
       "       24.68259989, 24.67556996, 25.33390504, 24.01020286, 25.32613792,\n",
       "       24.61171591, 25.55546701, 24.85193591, 24.59929974, 24.87560792,\n",
       "       25.31818198, 24.60257458, 25.13388008, 24.80412072, 25.10132107,\n",
       "       25.31026922, 25.40450547, 25.07317005, 24.68744274, 25.76977131,\n",
       "       24.68462644, 25.20353051, 24.15180681, 24.538649  , 25.74900814,\n",
       "       25.36158398, 25.17181522, 24.99185552, 25.07197636, 24.27629274,\n",
       "       25.37163566, 24.45298587, 24.99903847, 24.93786293, 25.15144703,\n",
       "       24.92360205, 24.7121426 , 24.6336529 , 25.28309481, 24.65644108,\n",
       "       26.31536643, 24.71046606, 25.28034594, 24.98440457, 24.5983289 ,\n",
       "       25.33990729, 24.38209709, 25.09881299, 24.93047598, 25.53622044,\n",
       "       24.91441315, 25.27320273, 25.54374295, 25.5501704 , 23.70751065,\n",
       "       25.11476934, 25.56201164, 24.55231639, 24.88490928, 24.62837191,\n",
       "       24.54514497, 24.58409095, 25.20485468, 25.38393477, 24.70450944,\n",
       "       24.80470682, 24.64093649, 24.96755019, 25.25074571, 24.73822684,\n",
       "       24.35212032, 24.52815008, 25.76747454, 24.98121798, 23.95765755,\n",
       "       24.13810451, 24.60675475, 24.20806389, 25.69373139, 24.52712433,\n",
       "       24.92789409, 25.64684905, 25.33605456, 24.66756431, 25.16013199,\n",
       "       25.39814761, 24.51203739, 25.62502065, 24.7816469 , 24.82857129,\n",
       "       24.65594747, 26.0285435 , 25.06702173, 25.46404817, 25.50978335,\n",
       "       25.20733725, 25.13986078, 25.17555956, 24.23902761, 25.39513605,\n",
       "       25.31401788, 24.41802803, 24.36977198, 25.39296622, 24.42883754,\n",
       "       26.1762209 , 24.99402581, 24.8198315 , 25.26599322, 24.76018959,\n",
       "       24.87445257, 25.07329211, 24.61889402, 25.58217186, 23.97988137,\n",
       "       25.05205606, 24.06128219, 24.53933611, 24.96585155, 24.96132069,\n",
       "       25.47083261, 24.75930311, 24.27875862, 25.11819084, 25.73199608,\n",
       "       25.24227562, 26.12870662, 24.97718509, 25.20263479, 24.61676155,\n",
       "       25.81833963, 25.08451992, 25.60703682, 24.89564114, 23.8935459 ,\n",
       "       25.0509879 , 24.63632097, 25.05078296, 26.22637115, 25.41549998,\n",
       "       24.74172343, 25.10773902, 25.55173681, 25.13193263, 24.45063157,\n",
       "       25.48429249, 24.72919848, 25.42318938, 25.01382166, 25.05760834,\n",
       "       25.45261589, 24.34528299, 24.16235961, 24.64101484, 24.90877663,\n",
       "       24.78388156, 25.28574476, 24.11434498, 24.97031306, 24.7233041 ,\n",
       "       24.75409451, 24.83161687, 24.85956214, 24.90319784, 24.77070059,\n",
       "       24.3825058 , 24.38921247, 25.0921959 , 24.81808923, 25.80985568,\n",
       "       24.5963765 , 26.56677063, 25.12661425, 25.64877673, 24.51054294,\n",
       "       24.96433432, 24.5951857 , 24.86548941, 24.63421595, 25.12581632,\n",
       "       24.66483401, 24.2557885 , 25.00257863, 25.14647139, 23.84598197,\n",
       "       25.65899673, 25.24936879, 24.53813609, 24.64899918, 25.01563111,\n",
       "       25.2912954 , 25.25894435, 24.92288837, 25.04541968, 25.48894447,\n",
       "       24.22619711, 24.75599293, 24.48753699, 24.35012413, 25.00575874,\n",
       "       25.78879269, 24.38117196, 24.83157253, 25.27893129, 25.04419379,\n",
       "       25.03319147, 24.4158548 , 24.24271178, 24.76498163, 24.29757525,\n",
       "       25.6588357 , 24.61243108, 24.96625574, 24.99294364, 24.76882711,\n",
       "       25.13501998, 24.97339403, 25.07762875, 24.69366711, 24.79448821,\n",
       "       25.0022563 , 25.60914382, 25.78878068, 24.44802404, 25.04850116,\n",
       "       25.3209227 , 24.47969164, 25.67356198, 25.06306797, 24.95883781,\n",
       "       25.10407188, 25.05407032, 25.84223108, 25.11308825, 25.2598518 ,\n",
       "       24.88002862, 24.28729335, 25.32819597, 26.03566694, 24.4251896 ,\n",
       "       24.84240986, 24.63884876, 25.1721281 , 25.53373287, 25.07614318,\n",
       "       24.76320441, 24.65587172, 24.98086009, 25.46019145, 24.11610793,\n",
       "       24.56829405, 24.14868792, 25.22744649, 25.03312839, 24.949043  ,\n",
       "       25.13806994, 24.75929114, 25.31285734, 24.72998989, 25.60407109,\n",
       "       25.22999248, 23.99547099, 25.64059229, 24.63955384, 25.2684672 ,\n",
       "       24.23147677, 24.39359543, 24.77749283, 24.42486421, 25.2074047 ,\n",
       "       24.95811932, 25.06705565, 24.36253877, 24.5020169 , 25.10104435,\n",
       "       25.69176202, 25.16683087, 24.86533631, 25.02678652, 25.09605286,\n",
       "       25.03515695, 24.80516704, 25.24367409, 25.92542633, 25.35961159,\n",
       "       24.31992157, 25.83351924, 24.40671123, 25.01216465, 24.56404321,\n",
       "       25.26711841, 25.24560738, 24.17611668, 24.68822995, 24.10028325,\n",
       "       25.79891023, 25.54378995, 24.64379222, 25.42928597, 24.53537339,\n",
       "       24.87934828, 25.39809809, 24.22914744, 24.83421185, 25.97525514,\n",
       "       24.25667986, 24.526744  , 25.14120467, 24.7627922 , 26.01886223,\n",
       "       25.21888399, 25.96488114, 25.17413289, 24.58128261, 25.46433969,\n",
       "       25.28407681, 24.77586991, 25.20982552, 24.62863077, 24.71292564,\n",
       "       25.60592041, 24.66756157, 24.82127948, 24.95108301, 24.78236996,\n",
       "       25.88884647, 24.66232349, 25.3817403 , 24.62772083, 24.48374698,\n",
       "       24.77640262, 25.43127406, 24.78575983, 24.57504017, 25.42733642,\n",
       "       24.80166145, 25.43860351, 24.42969711, 24.54971581, 25.41588159,\n",
       "       25.32039833, 24.61735592, 24.45255019, 25.02900759, 24.13052864,\n",
       "       25.71082405, 25.2205062 , 24.77791746, 25.25662314, 25.13099497,\n",
       "       25.13983854, 24.09347355, 25.27395207, 24.44025794, 24.5047723 ,\n",
       "       24.46752681, 25.44174816, 25.569799  , 25.65095388, 24.68521646,\n",
       "       24.7165416 , 25.52307967, 25.57473179, 25.11664366, 25.18388625,\n",
       "       25.64461856, 24.67827401, 24.20010622, 24.93445082, 24.55227521,\n",
       "       24.77562886, 25.62956766, 24.67762474, 24.63739513, 24.52711762,\n",
       "       24.80362466, 25.26465882, 25.32910773, 24.8202217 , 25.24879474,\n",
       "       25.21196153, 25.30544686, 24.79999515, 24.90624643, 24.74438055,\n",
       "       24.90150208, 25.03331455, 24.56198716, 26.00885743, 26.15794325,\n",
       "       24.96937813, 25.49445347, 25.18962921, 24.56403925, 24.64949785,\n",
       "       25.35754886, 26.00974361, 25.40926439, 25.40734651, 24.5264598 ,\n",
       "       25.21735461, 25.59072408, 25.26003549, 25.10873055, 25.22051879,\n",
       "       24.89495081, 24.14768764, 25.57921188, 25.66014047, 24.14966507,\n",
       "       24.25738795, 24.62611768, 25.18084083, 24.89567666, 25.78034057,\n",
       "       25.47437463, 24.82655398, 25.04998197, 24.66203618, 24.54778728,\n",
       "       25.34126102, 25.13717091, 24.67436527, 24.90829508, 24.45814003,\n",
       "       24.11594862, 24.66595477, 24.92232363, 25.75736392, 24.7056809 ,\n",
       "       24.99652142, 24.47142373, 25.34950984, 24.89042701, 24.79892945,\n",
       "       24.04977276, 24.42276845, 24.80697655, 25.87925625, 23.98535765,\n",
       "       25.47577921, 25.99552448, 25.33256802, 24.74897011, 24.93590383,\n",
       "       24.99073849, 25.17972223, 25.32682538, 23.79994844, 24.49651374,\n",
       "       24.73809443, 25.40214458, 26.16634685, 25.10340102, 25.25837327,\n",
       "       24.78609283, 25.24260887, 25.19179033, 25.12560697, 25.07918409,\n",
       "       25.0234043 , 25.27258713, 25.24669916, 25.27707683, 25.30752967,\n",
       "       24.6605651 , 25.49535781, 24.83697983, 25.00949544, 25.53967354,\n",
       "       25.17480109, 25.31872337, 24.85259645, 25.10402102, 25.31490238,\n",
       "       25.60634533, 24.46433856, 25.26257141, 24.27788039, 24.50360262,\n",
       "       25.57346893, 24.98660516, 24.67878995, 25.56178637, 24.71769539,\n",
       "       25.13034555, 24.7151852 , 24.59491876, 25.40814278, 25.60377161,\n",
       "       25.18020566, 24.67566113, 24.71203133, 25.55641123, 24.58387486,\n",
       "       24.38046059, 24.63107311, 24.91924234, 24.64443783, 25.26059818,\n",
       "       25.35844133, 23.87103463, 24.87162831, 25.788489  , 25.35231352,\n",
       "       25.90450704, 24.98867734, 25.17515106, 24.83447952, 25.07557229,\n",
       "       24.63311272, 24.1579136 , 25.3455182 , 24.3981995 , 25.64513679,\n",
       "       24.61893791, 25.77061938, 25.16005401, 25.07777498, 25.66775244,\n",
       "       24.70123291, 24.88262643, 24.91122615, 25.94125372, 25.0553688 ,\n",
       "       24.94619469, 24.84490273, 25.11284817, 24.18976409, 23.91254556,\n",
       "       24.77977707, 24.92850001, 24.36363013, 24.4716442 , 24.67483959,\n",
       "       24.48151367, 24.76651725, 24.75927137, 25.58507153, 25.34420123,\n",
       "       25.69923051, 25.10462966, 25.18338695, 25.70785756, 25.57440551,\n",
       "       25.61970339, 26.76345292, 25.96393945, 24.53873303, 25.92179112,\n",
       "       25.74657293, 25.3588017 , 26.15644725, 25.3749013 , 25.66745755,\n",
       "       25.1516399 , 24.4438684 , 24.11246596, 25.85713047, 25.06372301,\n",
       "       24.92603126, 25.70175583, 25.2899727 , 24.97326803, 24.7716649 ,\n",
       "       25.1975365 , 24.60000388, 24.97693704, 24.86859763, 25.38708819,\n",
       "       25.5064545 , 25.25452579, 25.23380865, 25.44369981, 25.28802209,\n",
       "       24.86574137, 24.55800747, 24.85134673, 25.30413819, 24.79643539,\n",
       "       24.96530855, 24.93531397, 25.16141371, 25.41185267, 24.88901609,\n",
       "       24.66175272, 24.7988268 , 23.89006361, 24.92432076, 25.39031054,\n",
       "       25.20201551, 24.91207302, 24.96214544, 24.77347926, 25.51194013,\n",
       "       24.5078333 , 23.36837704, 25.66673801, 24.49372397, 25.78498806,\n",
       "       24.14671243, 24.92945797, 23.90826402, 24.31410142, 24.39743647])"
      ]
     },
     "execution_count": 8,
     "metadata": {},
     "output_type": "execute_result"
    }
   ],
   "source": [
    "norm"
   ]
  },
  {
   "cell_type": "code",
   "execution_count": 16,
   "metadata": {},
   "outputs": [
    {
     "data": {
      "image/png": "[encoded data removed]",
      "text/plain": [
       "<Figure size 720x576 with 1 Axes>"
      ]
     },
     "metadata": {
      "needs_background": "light"
     },
     "output_type": "display_data"
    }
   ],
   "source": [
    "plt.figure(figsize=(10,8))\n",
    "plt.hist(norm,bins=30,edgecolor='black',color='red')\n",
    "plt.title('normal distribution')\n",
    "plt.xlabel('x-axis')\n",
    "plt.ylabel('y-axis')\n",
    "plt.show()"
   ]
  },
  {
   "cell_type": "code",
   "execution_count": 21,
   "metadata": {},
   "outputs": [
    {
     "data": {
      "text/plain": [
       "array([0.46713052, 0.47487732, 0.79982596, 0.50943803, 0.59972679,\n",
       "       0.76838371, 0.74995445, 0.50050715, 0.22114746, 0.83452188,\n",
       "       0.29785795, 0.47454692, 0.53979225, 0.53552566, 0.78416752,\n",
       "       0.39739323, 0.86585913, 0.16788453, 0.72001115, 0.06023439,\n",
       "       0.40216535, 0.69394609, 0.30476734, 0.28095611, 0.47698778])"
      ]
     },
     "execution_count": 21,
     "metadata": {},
     "output_type": "execute_result"
    }
   ],
   "source": [
    "rand = np.random.random(25)\n",
    "rand"
   ]
  },
  {
   "cell_type": "code",
   "execution_count": 26,
   "metadata": {},
   "outputs": [
    {
     "data": {
      "text/plain": [
       "array([[0.46713052, 0.47487732, 0.79982596, 0.50943803, 0.59972679],\n",
       "       [0.76838371, 0.74995445, 0.50050715, 0.22114746, 0.83452188],\n",
       "       [0.29785795, 0.47454692, 0.53979225, 0.53552566, 0.78416752],\n",
       "       [0.39739323, 0.86585913, 0.16788453, 0.72001115, 0.06023439],\n",
       "       [0.40216535, 0.69394609, 0.30476734, 0.28095611, 0.47698778]])"
      ]
     },
     "execution_count": 26,
     "metadata": {},
     "output_type": "execute_result"
    }
   ],
   "source": [
    "rand = rand.reshape((5,5))\n",
    "rand"
   ]
  },
  {
   "cell_type": "code",
   "execution_count": 31,
   "metadata": {},
   "outputs": [
    {
     "data": {
      "image/png": "[encoded data removed]",
      "text/plain": [
       "<Figure size 432x288 with 1 Axes>"
      ]
     },
     "metadata": {
      "needs_background": "light"
     },
     "output_type": "display_data"
    }
   ],
   "source": [
    "plt.plot(rand,'r.')\n",
    "plt.show()"
   ]
  },
  {
   "cell_type": "code",
   "execution_count": 38,
   "metadata": {},
   "outputs": [],
   "source": [
    "ran = np.arange(0,1000)"
   ]
  },
  {
   "cell_type": "code",
   "execution_count": 39,
   "metadata": {},
   "outputs": [
    {
     "data": {
      "text/plain": [
       "1000"
      ]
     },
     "execution_count": 39,
     "metadata": {},
     "output_type": "execute_result"
    }
   ],
   "source": [
    "len(norm)"
   ]
  },
  {
   "cell_type": "code",
   "execution_count": 40,
   "metadata": {},
   "outputs": [
    {
     "data": {
      "text/plain": [
       "1000"
      ]
     },
     "execution_count": 40,
     "metadata": {},
     "output_type": "execute_result"
    }
   ],
   "source": [
    "len(ran)"
   ]
  },
  {
   "cell_type": "code",
   "execution_count": 43,
   "metadata": {},
   "outputs": [
    {
     "data": {
      "image/png": "[encoded data removed]",
      "text/plain": [
       "<Figure size 432x288 with 1 Axes>"
      ]
     },
     "metadata": {
      "needs_background": "light"
     },
     "output_type": "display_data"
    }
   ],
   "source": [
    "plt.scatter(ran,norm,color='r')\n",
    "plt.show()"
   ]
  },
  {
   "cell_type": "code",
   "execution_count": 44,
   "metadata": {},
   "outputs": [
    {
     "data": {
      "text/plain": [
       "3.141592653589793"
      ]
     },
     "execution_count": 44,
     "metadata": {},
     "output_type": "execute_result"
    }
   ],
   "source": [
    "np.pi"
   ]
  },
  {
   "cell_type": "code",
   "execution_count": 45,
   "metadata": {},
   "outputs": [],
   "source": [
    "angles = [var*np.pi/180 for var in range(361)]"
   ]
  },
  {
   "cell_type": "code",
   "execution_count": 47,
   "metadata": {},
   "outputs": [],
   "source": [
    "sin = np.sin(angles)\n",
    "cos = np.cos(angles)"
   ]
  },
  {
   "cell_type": "code",
   "execution_count": 58,
   "metadata": {},
   "outputs": [
    {
     "data": {
      "image/png": "[encoded data removed]",
      "text/plain": [
       "<Figure size 432x288 with 1 Axes>"
      ]
     },
     "metadata": {
      "needs_background": "light"
     },
     "output_type": "display_data"
    },
    {
     "data": {
      "text/plain": [
       "<Figure size 432x288 with 0 Axes>"
      ]
     },
     "metadata": {},
     "output_type": "display_data"
    }
   ],
   "source": [
    "plt.plot(angles,sin,'r:',linewidth=2,label='sin')\n",
    "plt.plot(angles,cos,'b:',linewidth=2,label='cos')\n",
    "plt.legend(loc=4)\n",
    "plt.show()\n",
    "plt.savefig('fig.png',dpi=50)"
   ]
  },
  {
   "cell_type": "code",
   "execution_count": 64,
   "metadata": {},
   "outputs": [
    {
     "data": {
      "text/plain": [
       "4.71238898038469"
      ]
     },
     "execution_count": 64,
     "metadata": {},
     "output_type": "execute_result"
    }
   ],
   "source": [
    "num = [var*np.pi /180 for var in range(361)]\n",
    "num.pop(90)\n",
    "num.pop(269)\n",
    "\n"
   ]
  },
  {
   "cell_type": "code",
   "execution_count": 65,
   "metadata": {},
   "outputs": [],
   "source": [
    "sin = np.sin(num)\n",
    "cos = np.cos(num)"
   ]
  },
  {
   "cell_type": "code",
   "execution_count": 66,
   "metadata": {},
   "outputs": [
    {
     "data": {
      "text/plain": [
       "[<matplotlib.lines.Line2D at 0x1da707e8588>]"
      ]
     },
     "execution_count": 66,
     "metadata": {},
     "output_type": "execute_result"
    },
    {
     "data": {
      "image/png": "[encoded data removed]",
      "text/plain": [
       "<Figure size 432x288 with 1 Axes>"
      ]
     },
     "metadata": {
      "needs_background": "light"
     },
     "output_type": "display_data"
    }
   ],
   "source": [
    "plt.plot(sin/cos)"
   ]
  },
  {
   "cell_type": "code",
   "execution_count": null,
   "metadata": {},
   "outputs": [],
   "source": []
  }
 ],
 "metadata": {
  "kernelspec": {
   "display_name": "Python 3",
   "language": "python",
   "name": "python3"
  },
  "language_info": {
   "codemirror_mode": {
    "name": "ipython",
    "version": 3
   },
   "file_extension": ".py",
   "mimetype": "text/x-python",
   "name": "python",
   "nbconvert_exporter": "python",
   "pygments_lexer": "ipython3",
   "version": "3.7.3"
  }
 },
 "nbformat": 4,
 "nbformat_minor": 2
}
