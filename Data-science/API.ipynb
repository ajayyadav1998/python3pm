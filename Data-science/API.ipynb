{
 "cells": [
  {
   "cell_type": "code",
   "execution_count": 1,
   "metadata": {},
   "outputs": [],
   "source": [
    "import requests \n",
    "from bs4 import BeautifulSoup\n",
    "import json"
   ]
  },
  {
   "cell_type": "code",
   "execution_count": 2,
   "metadata": {},
   "outputs": [
    {
     "name": "stdout",
     "output_type": "stream",
     "text": [
      "enter the name of your city : ahmedabad\n"
     ]
    }
   ],
   "source": [
    "place = input('enter the name of your city : ')\n",
    "key = \"da7069d52a74806e395efcffd75b5a67\"\n",
    "url = \"http://api.openweathermap.org/data/2.5/weather?q={}&appid={}\".format(place,key)\n",
    "req = requests.get(url)"
   ]
  },
  {
   "cell_type": "code",
   "execution_count": 5,
   "metadata": {},
   "outputs": [],
   "source": [
    "data = req.json()"
   ]
  },
  {
   "cell_type": "code",
   "execution_count": 6,
   "metadata": {},
   "outputs": [
    {
     "data": {
      "text/plain": [
       "{'coord': {'lon': 72.58, 'lat': 23.02},\n",
       " 'weather': [{'id': 711,\n",
       "   'main': 'Smoke',\n",
       "   'description': 'smoke',\n",
       "   'icon': '50d'}],\n",
       " 'base': 'stations',\n",
       " 'main': {'temp': 304.15,\n",
       "  'pressure': 1012,\n",
       "  'humidity': 48,\n",
       "  'temp_min': 304.15,\n",
       "  'temp_max': 304.15},\n",
       " 'visibility': 5000,\n",
       " 'wind': {'speed': 1.5, 'deg': 360},\n",
       " 'clouds': {'all': 17},\n",
       " 'dt': 1574937982,\n",
       " 'sys': {'type': 1,\n",
       "  'id': 9049,\n",
       "  'country': 'IN',\n",
       "  'sunrise': 1574904702,\n",
       "  'sunset': 1574943815},\n",
       " 'timezone': 19800,\n",
       " 'id': 1279233,\n",
       " 'name': 'Ahmedabad',\n",
       " 'cod': 200}"
      ]
     },
     "execution_count": 6,
     "metadata": {},
     "output_type": "execute_result"
    }
   ],
   "source": [
    "data"
   ]
  },
  {
   "cell_type": "code",
   "execution_count": null,
   "metadata": {},
   "outputs": [],
   "source": []
  }
 ],
 "metadata": {
  "kernelspec": {
   "display_name": "Python 3",
   "language": "python",
   "name": "python3"
  },
  "language_info": {
   "codemirror_mode": {
    "name": "ipython",
    "version": 3
   },
   "file_extension": ".py",
   "mimetype": "text/x-python",
   "name": "python",
   "nbconvert_exporter": "python",
   "pygments_lexer": "ipython3",
   "version": "3.7.3"
  }
 },
 "nbformat": 4,
 "nbformat_minor": 2
}
