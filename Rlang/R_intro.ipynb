{
 "cells": [
  {
   "cell_type": "markdown",
   "metadata": {},
   "source": [
    "# conditioning statements of R"
   ]
  },
  {
   "cell_type": "code",
   "execution_count": 49,
   "metadata": {},
   "outputs": [
    {
     "name": "stdout",
     "output_type": "stream",
     "text": [
      "enter a number : 6\n",
      "given number is even"
     ]
    }
   ],
   "source": [
    "num = as.integer(readline('enter a number : '))\n",
    "if (num %% 2 == 0){\n",
    "    cat('given number is even')\n",
    "}else{\n",
    "    cat('given number is odd')\n",
    "}"
   ]
  },
  {
   "cell_type": "code",
   "execution_count": 54,
   "metadata": {},
   "outputs": [
    {
     "name": "stdout",
     "output_type": "stream",
     "text": [
      "enter a number : 5\n",
      "enter a second number : 7\n",
      "enter a third number : 6\n",
      "7  is greater"
     ]
    }
   ],
   "source": [
    "x = as.integer(readline('enter a number : '))\n",
    "y = as.integer(readline('enter a second number : '))\n",
    "z = as.integer(readline('enter a third number : '))\n",
    "if (x >=y & x >=z){\n",
    "    cat(x,' is greater')\n",
    "}else if (y >= z){\n",
    "    cat(y, ' is greater')\n",
    "}else{\n",
    "    cat(z , ' is greater')\n",
    "}"
   ]
  },
  {
   "cell_type": "code",
   "execution_count": 57,
   "metadata": {},
   "outputs": [
    {
     "ename": "ERROR",
     "evalue": "Error in \"hello world\" * 8: non-numeric argument to binary operator\n",
     "output_type": "error",
     "traceback": [
      "Error in \"hello world\" * 8: non-numeric argument to binary operator\nTraceback:\n"
     ]
    }
   ],
   "source": [
    "'hello world' * 8"
   ]
  },
  {
   "cell_type": "code",
   "execution_count": 2,
   "metadata": {},
   "outputs": [
    {
     "name": "stdout",
     "output_type": "stream",
     "text": [
      "enter a number for table : 5\n",
      "5 x 1 = 5 \n",
      "5 x 2 = 10 \n",
      "5 x 3 = 15 \n",
      "5 x 4 = 20 \n",
      "5 x 5 = 25 \n",
      "5 x 6 = 30 \n",
      "5 x 7 = 35 \n",
      "5 x 8 = 40 \n",
      "5 x 9 = 45 \n",
      "5 x 10 = 50 \n"
     ]
    }
   ],
   "source": [
    "number = as.integer(readline('enter a number for table : '))\n",
    "counter = 1\n",
    "while (counter <= 10){\n",
    "    cat(number,'x',counter,'=',number*counter,'\\n');\n",
    "    counter = counter + 1\n",
    "}"
   ]
  },
  {
   "cell_type": "code",
   "execution_count": 4,
   "metadata": {},
   "outputs": [
    {
     "name": "stdout",
     "output_type": "stream",
     "text": [
      "1 \n",
      "2 \n",
      "3 \n",
      "4 \n",
      "5 \n",
      "6 \n",
      "7 \n",
      "8 \n",
      "9 \n",
      "10 \n"
     ]
    }
   ],
   "source": [
    "for (var in 1:10){\n",
    "    cat(var,'\\n')\n",
    "}"
   ]
  },
  {
   "cell_type": "code",
   "execution_count": 6,
   "metadata": {},
   "outputs": [
    {
     "data": {
      "text/html": [
       "<ol class=list-inline>\n",
       "\t<li>1</li>\n",
       "\t<li>2</li>\n",
       "\t<li>3</li>\n",
       "\t<li>4</li>\n",
       "\t<li>5</li>\n",
       "\t<li>6</li>\n",
       "\t<li>7</li>\n",
       "\t<li>8</li>\n",
       "\t<li>9</li>\n",
       "\t<li>10</li>\n",
       "</ol>\n"
      ],
      "text/latex": [
       "\\begin{enumerate*}\n",
       "\\item 1\n",
       "\\item 2\n",
       "\\item 3\n",
       "\\item 4\n",
       "\\item 5\n",
       "\\item 6\n",
       "\\item 7\n",
       "\\item 8\n",
       "\\item 9\n",
       "\\item 10\n",
       "\\end{enumerate*}\n"
      ],
      "text/markdown": [
       "1. 1\n",
       "2. 2\n",
       "3. 3\n",
       "4. 4\n",
       "5. 5\n",
       "6. 6\n",
       "7. 7\n",
       "8. 8\n",
       "9. 9\n",
       "10. 10\n",
       "\n",
       "\n"
      ],
      "text/plain": [
       " [1]  1  2  3  4  5  6  7  8  9 10"
      ]
     },
     "metadata": {},
     "output_type": "display_data"
    }
   ],
   "source": [
    "seq(1:10)"
   ]
  },
  {
   "cell_type": "code",
   "execution_count": 7,
   "metadata": {},
   "outputs": [
    {
     "name": "stdout",
     "output_type": "stream",
     "text": [
      "*\n",
      "**\n",
      "***\n",
      "****\n",
      "*****\n",
      "******\n",
      "*******\n",
      "********\n",
      "*********\n",
      "**********\n"
     ]
    }
   ],
   "source": [
    "for (row in 1:10){\n",
    "    for (col in 1:row){\n",
    "        cat('*')\n",
    "    }\n",
    "    cat('\\n')\n",
    "}"
   ]
  },
  {
   "cell_type": "code",
   "execution_count": 8,
   "metadata": {},
   "outputs": [],
   "source": [
    "hello <- function(name){\n",
    "    cat('hello ',name,' welcome to The R Language')\n",
    "}"
   ]
  },
  {
   "cell_type": "code",
   "execution_count": 9,
   "metadata": {},
   "outputs": [
    {
     "name": "stdout",
     "output_type": "stream",
     "text": [
      "enter your namerajesh\n",
      "hello  rajesh  welcome to The R Language"
     ]
    }
   ],
   "source": [
    "hello(readline('enter your name'))"
   ]
  },
  {
   "cell_type": "code",
   "execution_count": 10,
   "metadata": {},
   "outputs": [],
   "source": [
    "fact  <- function(num){\n",
    "    if (num==1){\n",
    "        return(1)\n",
    "    }else{\n",
    "        return(num*fact(num-1))\n",
    "    }\n",
    "}"
   ]
  },
  {
   "cell_type": "code",
   "execution_count": 11,
   "metadata": {},
   "outputs": [
    {
     "data": {
      "text/html": [
       "120"
      ],
      "text/latex": [
       "120"
      ],
      "text/markdown": [
       "120"
      ],
      "text/plain": [
       "[1] 120"
      ]
     },
     "metadata": {},
     "output_type": "display_data"
    }
   ],
   "source": [
    "fact(5)"
   ]
  },
  {
   "cell_type": "code",
   "execution_count": 12,
   "metadata": {},
   "outputs": [],
   "source": [
    "a <- c(1,2,3,4,5,6,7,8,9,10)"
   ]
  },
  {
   "cell_type": "code",
   "execution_count": 13,
   "metadata": {},
   "outputs": [
    {
     "data": {
      "text/html": [
       "<ol class=list-inline>\n",
       "\t<li>1</li>\n",
       "\t<li>2</li>\n",
       "\t<li>3</li>\n",
       "\t<li>4</li>\n",
       "\t<li>5</li>\n",
       "\t<li>6</li>\n",
       "\t<li>7</li>\n",
       "\t<li>8</li>\n",
       "\t<li>9</li>\n",
       "\t<li>10</li>\n",
       "</ol>\n"
      ],
      "text/latex": [
       "\\begin{enumerate*}\n",
       "\\item 1\n",
       "\\item 2\n",
       "\\item 3\n",
       "\\item 4\n",
       "\\item 5\n",
       "\\item 6\n",
       "\\item 7\n",
       "\\item 8\n",
       "\\item 9\n",
       "\\item 10\n",
       "\\end{enumerate*}\n"
      ],
      "text/markdown": [
       "1. 1\n",
       "2. 2\n",
       "3. 3\n",
       "4. 4\n",
       "5. 5\n",
       "6. 6\n",
       "7. 7\n",
       "8. 8\n",
       "9. 9\n",
       "10. 10\n",
       "\n",
       "\n"
      ],
      "text/plain": [
       " [1]  1  2  3  4  5  6  7  8  9 10"
      ]
     },
     "metadata": {},
     "output_type": "display_data"
    }
   ],
   "source": [
    "a"
   ]
  },
  {
   "cell_type": "code",
   "execution_count": 14,
   "metadata": {},
   "outputs": [
    {
     "data": {
      "text/html": [
       "<ol class=list-inline>\n",
       "\t<li>1</li>\n",
       "\t<li>4</li>\n",
       "\t<li>9</li>\n",
       "\t<li>16</li>\n",
       "\t<li>25</li>\n",
       "\t<li>36</li>\n",
       "\t<li>49</li>\n",
       "\t<li>64</li>\n",
       "\t<li>81</li>\n",
       "\t<li>100</li>\n",
       "</ol>\n"
      ],
      "text/latex": [
       "\\begin{enumerate*}\n",
       "\\item 1\n",
       "\\item 4\n",
       "\\item 9\n",
       "\\item 16\n",
       "\\item 25\n",
       "\\item 36\n",
       "\\item 49\n",
       "\\item 64\n",
       "\\item 81\n",
       "\\item 100\n",
       "\\end{enumerate*}\n"
      ],
      "text/markdown": [
       "1. 1\n",
       "2. 4\n",
       "3. 9\n",
       "4. 16\n",
       "5. 25\n",
       "6. 36\n",
       "7. 49\n",
       "8. 64\n",
       "9. 81\n",
       "10. 100\n",
       "\n",
       "\n"
      ],
      "text/plain": [
       " [1]   1   4   9  16  25  36  49  64  81 100"
      ]
     },
     "metadata": {},
     "output_type": "display_data"
    }
   ],
   "source": [
    "a^2"
   ]
  },
  {
   "cell_type": "code",
   "execution_count": 15,
   "metadata": {},
   "outputs": [
    {
     "data": {
      "text/html": [
       "<ol class=list-inline>\n",
       "\t<li>2</li>\n",
       "\t<li>4</li>\n",
       "\t<li>6</li>\n",
       "\t<li>8</li>\n",
       "\t<li>10</li>\n",
       "\t<li>12</li>\n",
       "\t<li>14</li>\n",
       "\t<li>16</li>\n",
       "\t<li>18</li>\n",
       "\t<li>20</li>\n",
       "</ol>\n"
      ],
      "text/latex": [
       "\\begin{enumerate*}\n",
       "\\item 2\n",
       "\\item 4\n",
       "\\item 6\n",
       "\\item 8\n",
       "\\item 10\n",
       "\\item 12\n",
       "\\item 14\n",
       "\\item 16\n",
       "\\item 18\n",
       "\\item 20\n",
       "\\end{enumerate*}\n"
      ],
      "text/markdown": [
       "1. 2\n",
       "2. 4\n",
       "3. 6\n",
       "4. 8\n",
       "5. 10\n",
       "6. 12\n",
       "7. 14\n",
       "8. 16\n",
       "9. 18\n",
       "10. 20\n",
       "\n",
       "\n"
      ],
      "text/plain": [
       " [1]  2  4  6  8 10 12 14 16 18 20"
      ]
     },
     "metadata": {},
     "output_type": "display_data"
    }
   ],
   "source": [
    "a*2"
   ]
  },
  {
   "cell_type": "code",
   "execution_count": 20,
   "metadata": {},
   "outputs": [],
   "source": [
    "?hist"
   ]
  },
  {
   "cell_type": "code",
   "execution_count": 28,
   "metadata": {},
   "outputs": [
    {
     "data": {
      "image/png": "[encoded data removed]",
      "text/plain": [
       "Plot with title \"normal distribution\""
      ]
     },
     "metadata": {},
     "output_type": "display_data"
    }
   ],
   "source": [
    "hist(rnorm(n = 1000,mean = 50,sd = 10),col=7,main='normal distribution',xlab='x-axis',ylab = 'y-axis',border = 'green')"
   ]
  },
  {
   "cell_type": "code",
   "execution_count": 1,
   "metadata": {
    "scrolled": true
   },
   "outputs": [
    {
     "data": {
      "text/html": [
       "25"
      ],
      "text/latex": [
       "25"
      ],
      "text/markdown": [
       "25"
      ],
      "text/plain": [
       "[1] 25"
      ]
     },
     "metadata": {},
     "output_type": "display_data"
    }
   ],
   "source": [
    "5 *5 "
   ]
  },
  {
   "cell_type": "code",
   "execution_count": 2,
   "metadata": {},
   "outputs": [],
   "source": [
    "a = c(1,2,3,4,5,6,7,9,10)"
   ]
  },
  {
   "cell_type": "code",
   "execution_count": 3,
   "metadata": {},
   "outputs": [
    {
     "data": {
      "text/html": [
       "<ol class=list-inline>\n",
       "\t<li>1</li>\n",
       "\t<li>2</li>\n",
       "\t<li>3</li>\n",
       "\t<li>4</li>\n",
       "\t<li>5</li>\n",
       "\t<li>6</li>\n",
       "\t<li>7</li>\n",
       "\t<li>9</li>\n",
       "\t<li>10</li>\n",
       "</ol>\n"
      ],
      "text/latex": [
       "\\begin{enumerate*}\n",
       "\\item 1\n",
       "\\item 2\n",
       "\\item 3\n",
       "\\item 4\n",
       "\\item 5\n",
       "\\item 6\n",
       "\\item 7\n",
       "\\item 9\n",
       "\\item 10\n",
       "\\end{enumerate*}\n"
      ],
      "text/markdown": [
       "1. 1\n",
       "2. 2\n",
       "3. 3\n",
       "4. 4\n",
       "5. 5\n",
       "6. 6\n",
       "7. 7\n",
       "8. 9\n",
       "9. 10\n",
       "\n",
       "\n"
      ],
      "text/plain": [
       "[1]  1  2  3  4  5  6  7  9 10"
      ]
     },
     "metadata": {},
     "output_type": "display_data"
    }
   ],
   "source": [
    "a"
   ]
  },
  {
   "cell_type": "code",
   "execution_count": 4,
   "metadata": {},
   "outputs": [
    {
     "data": {
      "text/plain": [
       "NULL"
      ]
     },
     "metadata": {},
     "output_type": "display_data"
    }
   ],
   "source": [
    "dim(a)"
   ]
  },
  {
   "cell_type": "code",
   "execution_count": 5,
   "metadata": {},
   "outputs": [],
   "source": [
    "a = 1:12"
   ]
  },
  {
   "cell_type": "code",
   "execution_count": 7,
   "metadata": {},
   "outputs": [],
   "source": [
    "dim(a) <- c(3,4)"
   ]
  },
  {
   "cell_type": "code",
   "execution_count": 8,
   "metadata": {},
   "outputs": [
    {
     "data": {
      "text/html": [
       "<table>\n",
       "<tbody>\n",
       "\t<tr><td>1 </td><td>4 </td><td>7 </td><td>10</td></tr>\n",
       "\t<tr><td>2 </td><td>5 </td><td>8 </td><td>11</td></tr>\n",
       "\t<tr><td>3 </td><td>6 </td><td>9 </td><td>12</td></tr>\n",
       "</tbody>\n",
       "</table>\n"
      ],
      "text/latex": [
       "\\begin{tabular}{llll}\n",
       "\t 1  & 4  & 7  & 10\\\\\n",
       "\t 2  & 5  & 8  & 11\\\\\n",
       "\t 3  & 6  & 9  & 12\\\\\n",
       "\\end{tabular}\n"
      ],
      "text/markdown": [
       "\n",
       "| 1  | 4  | 7  | 10 |\n",
       "| 2  | 5  | 8  | 11 |\n",
       "| 3  | 6  | 9  | 12 |\n",
       "\n"
      ],
      "text/plain": [
       "     [,1] [,2] [,3] [,4]\n",
       "[1,] 1    4    7    10  \n",
       "[2,] 2    5    8    11  \n",
       "[3,] 3    6    9    12  "
      ]
     },
     "metadata": {},
     "output_type": "display_data"
    }
   ],
   "source": [
    "a"
   ]
  },
  {
   "cell_type": "code",
   "execution_count": 9,
   "metadata": {},
   "outputs": [],
   "source": [
    "b = matrix(1:16,ncol = 4,nrow = 4)"
   ]
  },
  {
   "cell_type": "code",
   "execution_count": 10,
   "metadata": {},
   "outputs": [
    {
     "data": {
      "text/html": [
       "<table>\n",
       "<tbody>\n",
       "\t<tr><td>1 </td><td>5 </td><td> 9</td><td>13</td></tr>\n",
       "\t<tr><td>2 </td><td>6 </td><td>10</td><td>14</td></tr>\n",
       "\t<tr><td>3 </td><td>7 </td><td>11</td><td>15</td></tr>\n",
       "\t<tr><td>4 </td><td>8 </td><td>12</td><td>16</td></tr>\n",
       "</tbody>\n",
       "</table>\n"
      ],
      "text/latex": [
       "\\begin{tabular}{llll}\n",
       "\t 1  & 5  &  9 & 13\\\\\n",
       "\t 2  & 6  & 10 & 14\\\\\n",
       "\t 3  & 7  & 11 & 15\\\\\n",
       "\t 4  & 8  & 12 & 16\\\\\n",
       "\\end{tabular}\n"
      ],
      "text/markdown": [
       "\n",
       "| 1  | 5  |  9 | 13 |\n",
       "| 2  | 6  | 10 | 14 |\n",
       "| 3  | 7  | 11 | 15 |\n",
       "| 4  | 8  | 12 | 16 |\n",
       "\n"
      ],
      "text/plain": [
       "     [,1] [,2] [,3] [,4]\n",
       "[1,] 1    5     9   13  \n",
       "[2,] 2    6    10   14  \n",
       "[3,] 3    7    11   15  \n",
       "[4,] 4    8    12   16  "
      ]
     },
     "metadata": {},
     "output_type": "display_data"
    }
   ],
   "source": [
    "b"
   ]
  },
  {
   "cell_type": "code",
   "execution_count": 11,
   "metadata": {},
   "outputs": [
    {
     "data": {
      "text/html": [
       "<ol class=list-inline>\n",
       "\t<li>'a'</li>\n",
       "\t<li>'b'</li>\n",
       "\t<li>'c'</li>\n",
       "\t<li>'d'</li>\n",
       "\t<li>'e'</li>\n",
       "\t<li>'f'</li>\n",
       "\t<li>'g'</li>\n",
       "\t<li>'h'</li>\n",
       "\t<li>'i'</li>\n",
       "\t<li>'j'</li>\n",
       "\t<li>'k'</li>\n",
       "\t<li>'l'</li>\n",
       "\t<li>'m'</li>\n",
       "\t<li>'n'</li>\n",
       "\t<li>'o'</li>\n",
       "\t<li>'p'</li>\n",
       "\t<li>'q'</li>\n",
       "\t<li>'r'</li>\n",
       "\t<li>'s'</li>\n",
       "\t<li>'t'</li>\n",
       "\t<li>'u'</li>\n",
       "\t<li>'v'</li>\n",
       "\t<li>'w'</li>\n",
       "\t<li>'x'</li>\n",
       "\t<li>'y'</li>\n",
       "\t<li>'z'</li>\n",
       "</ol>\n"
      ],
      "text/latex": [
       "\\begin{enumerate*}\n",
       "\\item 'a'\n",
       "\\item 'b'\n",
       "\\item 'c'\n",
       "\\item 'd'\n",
       "\\item 'e'\n",
       "\\item 'f'\n",
       "\\item 'g'\n",
       "\\item 'h'\n",
       "\\item 'i'\n",
       "\\item 'j'\n",
       "\\item 'k'\n",
       "\\item 'l'\n",
       "\\item 'm'\n",
       "\\item 'n'\n",
       "\\item 'o'\n",
       "\\item 'p'\n",
       "\\item 'q'\n",
       "\\item 'r'\n",
       "\\item 's'\n",
       "\\item 't'\n",
       "\\item 'u'\n",
       "\\item 'v'\n",
       "\\item 'w'\n",
       "\\item 'x'\n",
       "\\item 'y'\n",
       "\\item 'z'\n",
       "\\end{enumerate*}\n"
      ],
      "text/markdown": [
       "1. 'a'\n",
       "2. 'b'\n",
       "3. 'c'\n",
       "4. 'd'\n",
       "5. 'e'\n",
       "6. 'f'\n",
       "7. 'g'\n",
       "8. 'h'\n",
       "9. 'i'\n",
       "10. 'j'\n",
       "11. 'k'\n",
       "12. 'l'\n",
       "13. 'm'\n",
       "14. 'n'\n",
       "15. 'o'\n",
       "16. 'p'\n",
       "17. 'q'\n",
       "18. 'r'\n",
       "19. 's'\n",
       "20. 't'\n",
       "21. 'u'\n",
       "22. 'v'\n",
       "23. 'w'\n",
       "24. 'x'\n",
       "25. 'y'\n",
       "26. 'z'\n",
       "\n",
       "\n"
      ],
      "text/plain": [
       " [1] \"a\" \"b\" \"c\" \"d\" \"e\" \"f\" \"g\" \"h\" \"i\" \"j\" \"k\" \"l\" \"m\" \"n\" \"o\" \"p\" \"q\" \"r\" \"s\"\n",
       "[20] \"t\" \"u\" \"v\" \"w\" \"x\" \"y\" \"z\""
      ]
     },
     "metadata": {},
     "output_type": "display_data"
    }
   ],
   "source": [
    "letters"
   ]
  },
  {
   "cell_type": "code",
   "execution_count": 15,
   "metadata": {},
   "outputs": [],
   "source": [
    "rownames(a) <- letters[1:3]"
   ]
  },
  {
   "cell_type": "code",
   "execution_count": 17,
   "metadata": {},
   "outputs": [],
   "source": [
    "colnames(a) <- c('sachin','ajay','yadvendra','rajesh')"
   ]
  },
  {
   "cell_type": "code",
   "execution_count": 18,
   "metadata": {},
   "outputs": [
    {
     "data": {
      "text/html": [
       "<table>\n",
       "<thead><tr><th></th><th scope=col>sachin</th><th scope=col>ajay</th><th scope=col>yadvendra</th><th scope=col>rajesh</th></tr></thead>\n",
       "<tbody>\n",
       "\t<tr><th scope=row>a</th><td>1 </td><td>4 </td><td>7 </td><td>10</td></tr>\n",
       "\t<tr><th scope=row>b</th><td>2 </td><td>5 </td><td>8 </td><td>11</td></tr>\n",
       "\t<tr><th scope=row>c</th><td>3 </td><td>6 </td><td>9 </td><td>12</td></tr>\n",
       "</tbody>\n",
       "</table>\n"
      ],
      "text/latex": [
       "\\begin{tabular}{r|llll}\n",
       "  & sachin & ajay & yadvendra & rajesh\\\\\n",
       "\\hline\n",
       "\ta & 1  & 4  & 7  & 10\\\\\n",
       "\tb & 2  & 5  & 8  & 11\\\\\n",
       "\tc & 3  & 6  & 9  & 12\\\\\n",
       "\\end{tabular}\n"
      ],
      "text/markdown": [
       "\n",
       "| <!--/--> | sachin | ajay | yadvendra | rajesh |\n",
       "|---|---|---|---|---|\n",
       "| a | 1  | 4  | 7  | 10 |\n",
       "| b | 2  | 5  | 8  | 11 |\n",
       "| c | 3  | 6  | 9  | 12 |\n",
       "\n"
      ],
      "text/plain": [
       "  sachin ajay yadvendra rajesh\n",
       "a 1      4    7         10    \n",
       "b 2      5    8         11    \n",
       "c 3      6    9         12    "
      ]
     },
     "metadata": {},
     "output_type": "display_data"
    }
   ],
   "source": [
    "a"
   ]
  },
  {
   "cell_type": "code",
   "execution_count": 20,
   "metadata": {},
   "outputs": [
    {
     "data": {
      "text/html": [
       "<table>\n",
       "<tbody>\n",
       "\t<tr><td>a</td><td>e</td><td>i</td></tr>\n",
       "\t<tr><td>b</td><td>f</td><td>j</td></tr>\n",
       "\t<tr><td>c</td><td>g</td><td>k</td></tr>\n",
       "\t<tr><td>d</td><td>h</td><td>l</td></tr>\n",
       "</tbody>\n",
       "</table>\n"
      ],
      "text/latex": [
       "\\begin{tabular}{lll}\n",
       "\t a & e & i\\\\\n",
       "\t b & f & j\\\\\n",
       "\t c & g & k\\\\\n",
       "\t d & h & l\\\\\n",
       "\\end{tabular}\n"
      ],
      "text/markdown": [
       "\n",
       "| a | e | i |\n",
       "| b | f | j |\n",
       "| c | g | k |\n",
       "| d | h | l |\n",
       "\n"
      ],
      "text/plain": [
       "     [,1] [,2] [,3]\n",
       "[1,] a    e    i   \n",
       "[2,] b    f    j   \n",
       "[3,] c    g    k   \n",
       "[4,] d    h    l   "
      ]
     },
     "metadata": {},
     "output_type": "display_data"
    }
   ],
   "source": [
    "matrix(letters[1:12],nrow = 4,ncol = 3)"
   ]
  },
  {
   "cell_type": "code",
   "execution_count": 27,
   "metadata": {},
   "outputs": [
    {
     "data": {
      "text/html": [
       "<ol class=list-inline>\n",
       "\t<li>68</li>\n",
       "\t<li>55</li>\n",
       "\t<li>50</li>\n",
       "\t<li>56</li>\n",
       "\t<li>97</li>\n",
       "\t<li>63</li>\n",
       "\t<li>79</li>\n",
       "\t<li>81</li>\n",
       "\t<li>90</li>\n",
       "\t<li>77</li>\n",
       "\t<li>77</li>\n",
       "\t<li>94</li>\n",
       "\t<li>86</li>\n",
       "\t<li>72</li>\n",
       "\t<li>82</li>\n",
       "\t<li>52</li>\n",
       "\t<li>64</li>\n",
       "\t<li>68</li>\n",
       "\t<li>52</li>\n",
       "\t<li>56</li>\n",
       "\t<li>96</li>\n",
       "\t<li>64</li>\n",
       "\t<li>74</li>\n",
       "\t<li>60</li>\n",
       "\t<li>96</li>\n",
       "\t<li>54</li>\n",
       "\t<li>61</li>\n",
       "\t<li>84</li>\n",
       "\t<li>84</li>\n",
       "\t<li>98</li>\n",
       "\t<li>61</li>\n",
       "\t<li>86</li>\n",
       "\t<li>86</li>\n",
       "\t<li>68</li>\n",
       "\t<li>80</li>\n",
       "\t<li>79</li>\n",
       "\t<li>95</li>\n",
       "\t<li>74</li>\n",
       "\t<li>87</li>\n",
       "\t<li>88</li>\n",
       "\t<li>61</li>\n",
       "\t<li>92</li>\n",
       "\t<li>55</li>\n",
       "\t<li>63</li>\n",
       "\t<li>52</li>\n",
       "\t<li>64</li>\n",
       "\t<li>53</li>\n",
       "\t<li>89</li>\n",
       "\t<li>86</li>\n",
       "\t<li>72</li>\n",
       "\t<li>59</li>\n",
       "\t<li>53</li>\n",
       "\t<li>54</li>\n",
       "\t<li>87</li>\n",
       "\t<li>67</li>\n",
       "\t<li>90</li>\n",
       "\t<li>98</li>\n",
       "\t<li>60</li>\n",
       "\t<li>80</li>\n",
       "\t<li>77</li>\n",
       "\t<li>56</li>\n",
       "\t<li>99</li>\n",
       "\t<li>77</li>\n",
       "\t<li>74</li>\n",
       "\t<li>86</li>\n",
       "\t<li>95</li>\n",
       "\t<li>68</li>\n",
       "\t<li>85</li>\n",
       "\t<li>53</li>\n",
       "\t<li>83</li>\n",
       "\t<li>63</li>\n",
       "\t<li>61</li>\n",
       "\t<li>61</li>\n",
       "\t<li>92</li>\n",
       "\t<li>74</li>\n",
       "\t<li>100</li>\n",
       "\t<li>89</li>\n",
       "\t<li>69</li>\n",
       "\t<li>74</li>\n",
       "\t<li>88</li>\n",
       "\t<li>72</li>\n",
       "\t<li>84</li>\n",
       "\t<li>99</li>\n",
       "\t<li>80</li>\n",
       "\t<li>50</li>\n",
       "\t<li>78</li>\n",
       "\t<li>53</li>\n",
       "\t<li>76</li>\n",
       "\t<li>59</li>\n",
       "\t<li>86</li>\n",
       "\t<li>58</li>\n",
       "\t<li>85</li>\n",
       "\t<li>76</li>\n",
       "\t<li>54</li>\n",
       "\t<li>69</li>\n",
       "\t<li>59</li>\n",
       "\t<li>60</li>\n",
       "\t<li>94</li>\n",
       "\t<li>88</li>\n",
       "\t<li>72</li>\n",
       "</ol>\n"
      ],
      "text/latex": [
       "\\begin{enumerate*}\n",
       "\\item 68\n",
       "\\item 55\n",
       "\\item 50\n",
       "\\item 56\n",
       "\\item 97\n",
       "\\item 63\n",
       "\\item 79\n",
       "\\item 81\n",
       "\\item 90\n",
       "\\item 77\n",
       "\\item 77\n",
       "\\item 94\n",
       "\\item 86\n",
       "\\item 72\n",
       "\\item 82\n",
       "\\item 52\n",
       "\\item 64\n",
       "\\item 68\n",
       "\\item 52\n",
       "\\item 56\n",
       "\\item 96\n",
       "\\item 64\n",
       "\\item 74\n",
       "\\item 60\n",
       "\\item 96\n",
       "\\item 54\n",
       "\\item 61\n",
       "\\item 84\n",
       "\\item 84\n",
       "\\item 98\n",
       "\\item 61\n",
       "\\item 86\n",
       "\\item 86\n",
       "\\item 68\n",
       "\\item 80\n",
       "\\item 79\n",
       "\\item 95\n",
       "\\item 74\n",
       "\\item 87\n",
       "\\item 88\n",
       "\\item 61\n",
       "\\item 92\n",
       "\\item 55\n",
       "\\item 63\n",
       "\\item 52\n",
       "\\item 64\n",
       "\\item 53\n",
       "\\item 89\n",
       "\\item 86\n",
       "\\item 72\n",
       "\\item 59\n",
       "\\item 53\n",
       "\\item 54\n",
       "\\item 87\n",
       "\\item 67\n",
       "\\item 90\n",
       "\\item 98\n",
       "\\item 60\n",
       "\\item 80\n",
       "\\item 77\n",
       "\\item 56\n",
       "\\item 99\n",
       "\\item 77\n",
       "\\item 74\n",
       "\\item 86\n",
       "\\item 95\n",
       "\\item 68\n",
       "\\item 85\n",
       "\\item 53\n",
       "\\item 83\n",
       "\\item 63\n",
       "\\item 61\n",
       "\\item 61\n",
       "\\item 92\n",
       "\\item 74\n",
       "\\item 100\n",
       "\\item 89\n",
       "\\item 69\n",
       "\\item 74\n",
       "\\item 88\n",
       "\\item 72\n",
       "\\item 84\n",
       "\\item 99\n",
       "\\item 80\n",
       "\\item 50\n",
       "\\item 78\n",
       "\\item 53\n",
       "\\item 76\n",
       "\\item 59\n",
       "\\item 86\n",
       "\\item 58\n",
       "\\item 85\n",
       "\\item 76\n",
       "\\item 54\n",
       "\\item 69\n",
       "\\item 59\n",
       "\\item 60\n",
       "\\item 94\n",
       "\\item 88\n",
       "\\item 72\n",
       "\\end{enumerate*}\n"
      ],
      "text/markdown": [
       "1. 68\n",
       "2. 55\n",
       "3. 50\n",
       "4. 56\n",
       "5. 97\n",
       "6. 63\n",
       "7. 79\n",
       "8. 81\n",
       "9. 90\n",
       "10. 77\n",
       "11. 77\n",
       "12. 94\n",
       "13. 86\n",
       "14. 72\n",
       "15. 82\n",
       "16. 52\n",
       "17. 64\n",
       "18. 68\n",
       "19. 52\n",
       "20. 56\n",
       "21. 96\n",
       "22. 64\n",
       "23. 74\n",
       "24. 60\n",
       "25. 96\n",
       "26. 54\n",
       "27. 61\n",
       "28. 84\n",
       "29. 84\n",
       "30. 98\n",
       "31. 61\n",
       "32. 86\n",
       "33. 86\n",
       "34. 68\n",
       "35. 80\n",
       "36. 79\n",
       "37. 95\n",
       "38. 74\n",
       "39. 87\n",
       "40. 88\n",
       "41. 61\n",
       "42. 92\n",
       "43. 55\n",
       "44. 63\n",
       "45. 52\n",
       "46. 64\n",
       "47. 53\n",
       "48. 89\n",
       "49. 86\n",
       "50. 72\n",
       "51. 59\n",
       "52. 53\n",
       "53. 54\n",
       "54. 87\n",
       "55. 67\n",
       "56. 90\n",
       "57. 98\n",
       "58. 60\n",
       "59. 80\n",
       "60. 77\n",
       "61. 56\n",
       "62. 99\n",
       "63. 77\n",
       "64. 74\n",
       "65. 86\n",
       "66. 95\n",
       "67. 68\n",
       "68. 85\n",
       "69. 53\n",
       "70. 83\n",
       "71. 63\n",
       "72. 61\n",
       "73. 61\n",
       "74. 92\n",
       "75. 74\n",
       "76. 100\n",
       "77. 89\n",
       "78. 69\n",
       "79. 74\n",
       "80. 88\n",
       "81. 72\n",
       "82. 84\n",
       "83. 99\n",
       "84. 80\n",
       "85. 50\n",
       "86. 78\n",
       "87. 53\n",
       "88. 76\n",
       "89. 59\n",
       "90. 86\n",
       "91. 58\n",
       "92. 85\n",
       "93. 76\n",
       "94. 54\n",
       "95. 69\n",
       "96. 59\n",
       "97. 60\n",
       "98. 94\n",
       "99. 88\n",
       "100. 72\n",
       "\n",
       "\n"
      ],
      "text/plain": [
       "  [1]  68  55  50  56  97  63  79  81  90  77  77  94  86  72  82  52  64  68\n",
       " [19]  52  56  96  64  74  60  96  54  61  84  84  98  61  86  86  68  80  79\n",
       " [37]  95  74  87  88  61  92  55  63  52  64  53  89  86  72  59  53  54  87\n",
       " [55]  67  90  98  60  80  77  56  99  77  74  86  95  68  85  53  83  63  61\n",
       " [73]  61  92  74 100  89  69  74  88  72  84  99  80  50  78  53  76  59  86\n",
       " [91]  58  85  76  54  69  59  60  94  88  72"
      ]
     },
     "metadata": {},
     "output_type": "display_data"
    }
   ],
   "source": [
    "sample(50:100,100,replace = T)"
   ]
  },
  {
   "cell_type": "code",
   "execution_count": 24,
   "metadata": {},
   "outputs": [],
   "source": [
    "df = data.frame(\n",
    "            'A' = letters[1:10],\n",
    "            'B' = sample(50:100,10),\n",
    "            'C' = sample(60:100,10),\n",
    "            'D' = sample(factor(c('male','female')),10,replace = T)\n",
    ")"
   ]
  },
  {
   "cell_type": "code",
   "execution_count": 28,
   "metadata": {},
   "outputs": [],
   "source": [
    "df = cbind(df,per=(df$B+df$C)/2)"
   ]
  },
  {
   "cell_type": "code",
   "execution_count": 29,
   "metadata": {},
   "outputs": [
    {
     "data": {
      "text/html": [
       "<table>\n",
       "<thead><tr><th scope=col>A</th><th scope=col>B</th><th scope=col>C</th><th scope=col>D</th><th scope=col>per</th></tr></thead>\n",
       "<tbody>\n",
       "\t<tr><td>a     </td><td> 98   </td><td>65    </td><td>male  </td><td>81.5  </td></tr>\n",
       "\t<tr><td>b     </td><td> 74   </td><td>69    </td><td>female</td><td>71.5  </td></tr>\n",
       "\t<tr><td>c     </td><td>100   </td><td>79    </td><td>male  </td><td>89.5  </td></tr>\n",
       "\t<tr><td>d     </td><td> 68   </td><td>96    </td><td>male  </td><td>82.0  </td></tr>\n",
       "\t<tr><td>e     </td><td> 73   </td><td>88    </td><td>female</td><td>80.5  </td></tr>\n",
       "\t<tr><td>f     </td><td> 55   </td><td>84    </td><td>male  </td><td>69.5  </td></tr>\n",
       "\t<tr><td>g     </td><td> 93   </td><td>70    </td><td>male  </td><td>81.5  </td></tr>\n",
       "\t<tr><td>h     </td><td> 94   </td><td>75    </td><td>female</td><td>84.5  </td></tr>\n",
       "\t<tr><td>i     </td><td> 64   </td><td>98    </td><td>male  </td><td>81.0  </td></tr>\n",
       "\t<tr><td>j     </td><td> 97   </td><td>85    </td><td>male  </td><td>91.0  </td></tr>\n",
       "</tbody>\n",
       "</table>\n"
      ],
      "text/latex": [
       "\\begin{tabular}{r|lllll}\n",
       " A & B & C & D & per\\\\\n",
       "\\hline\n",
       "\t a      &  98    & 65     & male   & 81.5  \\\\\n",
       "\t b      &  74    & 69     & female & 71.5  \\\\\n",
       "\t c      & 100    & 79     & male   & 89.5  \\\\\n",
       "\t d      &  68    & 96     & male   & 82.0  \\\\\n",
       "\t e      &  73    & 88     & female & 80.5  \\\\\n",
       "\t f      &  55    & 84     & male   & 69.5  \\\\\n",
       "\t g      &  93    & 70     & male   & 81.5  \\\\\n",
       "\t h      &  94    & 75     & female & 84.5  \\\\\n",
       "\t i      &  64    & 98     & male   & 81.0  \\\\\n",
       "\t j      &  97    & 85     & male   & 91.0  \\\\\n",
       "\\end{tabular}\n"
      ],
      "text/markdown": [
       "\n",
       "| A | B | C | D | per |\n",
       "|---|---|---|---|---|\n",
       "| a      |  98    | 65     | male   | 81.5   |\n",
       "| b      |  74    | 69     | female | 71.5   |\n",
       "| c      | 100    | 79     | male   | 89.5   |\n",
       "| d      |  68    | 96     | male   | 82.0   |\n",
       "| e      |  73    | 88     | female | 80.5   |\n",
       "| f      |  55    | 84     | male   | 69.5   |\n",
       "| g      |  93    | 70     | male   | 81.5   |\n",
       "| h      |  94    | 75     | female | 84.5   |\n",
       "| i      |  64    | 98     | male   | 81.0   |\n",
       "| j      |  97    | 85     | male   | 91.0   |\n",
       "\n"
      ],
      "text/plain": [
       "   A B   C  D      per \n",
       "1  a  98 65 male   81.5\n",
       "2  b  74 69 female 71.5\n",
       "3  c 100 79 male   89.5\n",
       "4  d  68 96 male   82.0\n",
       "5  e  73 88 female 80.5\n",
       "6  f  55 84 male   69.5\n",
       "7  g  93 70 male   81.5\n",
       "8  h  94 75 female 84.5\n",
       "9  i  64 98 male   81.0\n",
       "10 j  97 85 male   91.0"
      ]
     },
     "metadata": {},
     "output_type": "display_data"
    }
   ],
   "source": [
    "df"
   ]
  },
  {
   "cell_type": "code",
   "execution_count": 31,
   "metadata": {},
   "outputs": [],
   "source": [
    "df <- 1:16"
   ]
  },
  {
   "cell_type": "code",
   "execution_count": 32,
   "metadata": {},
   "outputs": [
    {
     "data": {
      "text/html": [
       "<ol class=list-inline>\n",
       "\t<li>1</li>\n",
       "\t<li>2</li>\n",
       "\t<li>3</li>\n",
       "\t<li>4</li>\n",
       "\t<li>5</li>\n",
       "\t<li>6</li>\n",
       "\t<li>7</li>\n",
       "\t<li>8</li>\n",
       "\t<li>9</li>\n",
       "\t<li>10</li>\n",
       "\t<li>11</li>\n",
       "\t<li>12</li>\n",
       "\t<li>13</li>\n",
       "\t<li>14</li>\n",
       "\t<li>15</li>\n",
       "\t<li>16</li>\n",
       "</ol>\n"
      ],
      "text/latex": [
       "\\begin{enumerate*}\n",
       "\\item 1\n",
       "\\item 2\n",
       "\\item 3\n",
       "\\item 4\n",
       "\\item 5\n",
       "\\item 6\n",
       "\\item 7\n",
       "\\item 8\n",
       "\\item 9\n",
       "\\item 10\n",
       "\\item 11\n",
       "\\item 12\n",
       "\\item 13\n",
       "\\item 14\n",
       "\\item 15\n",
       "\\item 16\n",
       "\\end{enumerate*}\n"
      ],
      "text/markdown": [
       "1. 1\n",
       "2. 2\n",
       "3. 3\n",
       "4. 4\n",
       "5. 5\n",
       "6. 6\n",
       "7. 7\n",
       "8. 8\n",
       "9. 9\n",
       "10. 10\n",
       "11. 11\n",
       "12. 12\n",
       "13. 13\n",
       "14. 14\n",
       "15. 15\n",
       "16. 16\n",
       "\n",
       "\n"
      ],
      "text/plain": [
       " [1]  1  2  3  4  5  6  7  8  9 10 11 12 13 14 15 16"
      ]
     },
     "metadata": {},
     "output_type": "display_data"
    }
   ],
   "source": [
    "df"
   ]
  },
  {
   "cell_type": "code",
   "execution_count": 33,
   "metadata": {},
   "outputs": [],
   "source": [
    "dim(df) <- c(4,4)"
   ]
  },
  {
   "cell_type": "code",
   "execution_count": 38,
   "metadata": {},
   "outputs": [],
   "source": [
    "rownames(df) <- c('sachin','bharat','keyur','nikhil')"
   ]
  },
  {
   "cell_type": "code",
   "execution_count": 39,
   "metadata": {},
   "outputs": [],
   "source": [
    "colnames(df) <- c('a','b','c','d')"
   ]
  },
  {
   "cell_type": "code",
   "execution_count": 40,
   "metadata": {},
   "outputs": [
    {
     "data": {
      "text/html": [
       "<table>\n",
       "<thead><tr><th></th><th scope=col>a</th><th scope=col>b</th><th scope=col>c</th><th scope=col>d</th></tr></thead>\n",
       "<tbody>\n",
       "\t<tr><th scope=row>sachin</th><td>1 </td><td>5 </td><td> 9</td><td>13</td></tr>\n",
       "\t<tr><th scope=row>bharat</th><td>2 </td><td>6 </td><td>10</td><td>14</td></tr>\n",
       "\t<tr><th scope=row>keyur</th><td>3 </td><td>7 </td><td>11</td><td>15</td></tr>\n",
       "\t<tr><th scope=row>nikhil</th><td>4 </td><td>8 </td><td>12</td><td>16</td></tr>\n",
       "</tbody>\n",
       "</table>\n"
      ],
      "text/latex": [
       "\\begin{tabular}{r|llll}\n",
       "  & a & b & c & d\\\\\n",
       "\\hline\n",
       "\tsachin & 1  & 5  &  9 & 13\\\\\n",
       "\tbharat & 2  & 6  & 10 & 14\\\\\n",
       "\tkeyur & 3  & 7  & 11 & 15\\\\\n",
       "\tnikhil & 4  & 8  & 12 & 16\\\\\n",
       "\\end{tabular}\n"
      ],
      "text/markdown": [
       "\n",
       "| <!--/--> | a | b | c | d |\n",
       "|---|---|---|---|---|\n",
       "| sachin | 1  | 5  |  9 | 13 |\n",
       "| bharat | 2  | 6  | 10 | 14 |\n",
       "| keyur | 3  | 7  | 11 | 15 |\n",
       "| nikhil | 4  | 8  | 12 | 16 |\n",
       "\n"
      ],
      "text/plain": [
       "       a b c  d \n",
       "sachin 1 5  9 13\n",
       "bharat 2 6 10 14\n",
       "keyur  3 7 11 15\n",
       "nikhil 4 8 12 16"
      ]
     },
     "metadata": {},
     "output_type": "display_data"
    }
   ],
   "source": [
    "df"
   ]
  },
  {
   "cell_type": "code",
   "execution_count": 41,
   "metadata": {},
   "outputs": [
    {
     "data": {
      "text/html": [
       "<dl class=dl-horizontal>\n",
       "\t<dt>sachin</dt>\n",
       "\t\t<dd>7</dd>\n",
       "\t<dt>bharat</dt>\n",
       "\t\t<dd>8</dd>\n",
       "\t<dt>keyur</dt>\n",
       "\t\t<dd>9</dd>\n",
       "\t<dt>nikhil</dt>\n",
       "\t\t<dd>10</dd>\n",
       "</dl>\n"
      ],
      "text/latex": [
       "\\begin{description*}\n",
       "\\item[sachin] 7\n",
       "\\item[bharat] 8\n",
       "\\item[keyur] 9\n",
       "\\item[nikhil] 10\n",
       "\\end{description*}\n"
      ],
      "text/markdown": [
       "sachin\n",
       ":   7bharat\n",
       ":   8keyur\n",
       ":   9nikhil\n",
       ":   10\n",
       "\n"
      ],
      "text/plain": [
       "sachin bharat  keyur nikhil \n",
       "     7      8      9     10 "
      ]
     },
     "metadata": {},
     "output_type": "display_data"
    }
   ],
   "source": [
    "rowMeans(df)"
   ]
  },
  {
   "cell_type": "code",
   "execution_count": 42,
   "metadata": {},
   "outputs": [
    {
     "data": {
      "text/html": [
       "<dl class=dl-horizontal>\n",
       "\t<dt>a</dt>\n",
       "\t\t<dd>2.5</dd>\n",
       "\t<dt>b</dt>\n",
       "\t\t<dd>6.5</dd>\n",
       "\t<dt>c</dt>\n",
       "\t\t<dd>10.5</dd>\n",
       "\t<dt>d</dt>\n",
       "\t\t<dd>14.5</dd>\n",
       "</dl>\n"
      ],
      "text/latex": [
       "\\begin{description*}\n",
       "\\item[a] 2.5\n",
       "\\item[b] 6.5\n",
       "\\item[c] 10.5\n",
       "\\item[d] 14.5\n",
       "\\end{description*}\n"
      ],
      "text/markdown": [
       "a\n",
       ":   2.5b\n",
       ":   6.5c\n",
       ":   10.5d\n",
       ":   14.5\n",
       "\n"
      ],
      "text/plain": [
       "   a    b    c    d \n",
       " 2.5  6.5 10.5 14.5 "
      ]
     },
     "metadata": {},
     "output_type": "display_data"
    }
   ],
   "source": [
    "colMeans(df)"
   ]
  },
  {
   "cell_type": "code",
   "execution_count": 46,
   "metadata": {},
   "outputs": [
    {
     "data": {
      "image/png": "[encoded data removed]",
      "text/plain": [
       "plot without title"
      ]
     },
     "metadata": {},
     "output_type": "display_data"
    }
   ],
   "source": [
    "barplot(rowMeans(df),col=2)"
   ]
  },
  {
   "cell_type": "code",
   "execution_count": 47,
   "metadata": {},
   "outputs": [
    {
     "data": {
      "image/png": "[encoded data removed]",
      "text/plain": [
       "plot without title"
      ]
     },
     "metadata": {},
     "output_type": "display_data"
    }
   ],
   "source": [
    "barplot(colMeans(df))"
   ]
  },
  {
   "cell_type": "code",
   "execution_count": 29,
   "metadata": {},
   "outputs": [
    {
     "data": {
      "text/html": [
       "<table>\n",
       "<thead><tr><th scope=col>num</th><th scope=col>colr</th><th scope=col>bool</th></tr></thead>\n",
       "<tbody>\n",
       "\t<tr><td>1     </td><td>red   </td><td> TRUE </td></tr>\n",
       "\t<tr><td>2     </td><td>green </td><td>FALSE </td></tr>\n",
       "\t<tr><td>3     </td><td>yellow</td><td> TRUE </td></tr>\n",
       "\t<tr><td>4     </td><td>blue  </td><td>FALSE </td></tr>\n",
       "</tbody>\n",
       "</table>\n"
      ],
      "text/latex": [
       "\\begin{tabular}{r|lll}\n",
       " num & colr & bool\\\\\n",
       "\\hline\n",
       "\t 1      & red    &  TRUE \\\\\n",
       "\t 2      & green  & FALSE \\\\\n",
       "\t 3      & yellow &  TRUE \\\\\n",
       "\t 4      & blue   & FALSE \\\\\n",
       "\\end{tabular}\n"
      ],
      "text/markdown": [
       "\n",
       "| num | colr | bool |\n",
       "|---|---|---|\n",
       "| 1      | red    |  TRUE  |\n",
       "| 2      | green  | FALSE  |\n",
       "| 3      | yellow |  TRUE  |\n",
       "| 4      | blue   | FALSE  |\n",
       "\n"
      ],
      "text/plain": [
       "  num colr   bool \n",
       "1 1   red     TRUE\n",
       "2 2   green  FALSE\n",
       "3 3   yellow  TRUE\n",
       "4 4   blue   FALSE"
      ]
     },
     "metadata": {},
     "output_type": "display_data"
    }
   ],
   "source": [
    "df"
   ]
  },
  {
   "cell_type": "code",
   "execution_count": 32,
   "metadata": {},
   "outputs": [
    {
     "data": {
      "text/html": [
       "<ol class=list-inline>\n",
       "\t<li>'a'</li>\n",
       "\t<li>'A'</li>\n",
       "\t<li>'b'</li>\n",
       "\t<li>'c'</li>\n",
       "\t<li>'col'</li>\n",
       "\t<li>'counter'</li>\n",
       "\t<li>'d'</li>\n",
       "\t<li>'df'</li>\n",
       "\t<li>'e'</li>\n",
       "\t<li>'f'</li>\n",
       "\t<li>'fact'</li>\n",
       "\t<li>'h'</li>\n",
       "\t<li>'hello'</li>\n",
       "\t<li>'iris'</li>\n",
       "\t<li>'myfunc'</li>\n",
       "\t<li>'number'</li>\n",
       "\t<li>'row'</li>\n",
       "\t<li>'t'</li>\n",
       "\t<li>'var'</li>\n",
       "\t<li>'x'</li>\n",
       "</ol>\n"
      ],
      "text/latex": [
       "\\begin{enumerate*}\n",
       "\\item 'a'\n",
       "\\item 'A'\n",
       "\\item 'b'\n",
       "\\item 'c'\n",
       "\\item 'col'\n",
       "\\item 'counter'\n",
       "\\item 'd'\n",
       "\\item 'df'\n",
       "\\item 'e'\n",
       "\\item 'f'\n",
       "\\item 'fact'\n",
       "\\item 'h'\n",
       "\\item 'hello'\n",
       "\\item 'iris'\n",
       "\\item 'myfunc'\n",
       "\\item 'number'\n",
       "\\item 'row'\n",
       "\\item 't'\n",
       "\\item 'var'\n",
       "\\item 'x'\n",
       "\\end{enumerate*}\n"
      ],
      "text/markdown": [
       "1. 'a'\n",
       "2. 'A'\n",
       "3. 'b'\n",
       "4. 'c'\n",
       "5. 'col'\n",
       "6. 'counter'\n",
       "7. 'd'\n",
       "8. 'df'\n",
       "9. 'e'\n",
       "10. 'f'\n",
       "11. 'fact'\n",
       "12. 'h'\n",
       "13. 'hello'\n",
       "14. 'iris'\n",
       "15. 'myfunc'\n",
       "16. 'number'\n",
       "17. 'row'\n",
       "18. 't'\n",
       "19. 'var'\n",
       "20. 'x'\n",
       "\n",
       "\n"
      ],
      "text/plain": [
       " [1] \"a\"       \"A\"       \"b\"       \"c\"       \"col\"     \"counter\" \"d\"      \n",
       " [8] \"df\"      \"e\"       \"f\"       \"fact\"    \"h\"       \"hello\"   \"iris\"   \n",
       "[15] \"myfunc\"  \"number\"  \"row\"     \"t\"       \"var\"     \"x\"      "
      ]
     },
     "metadata": {},
     "output_type": "display_data"
    }
   ],
   "source": [
    "ls()"
   ]
  },
  {
   "cell_type": "code",
   "execution_count": 35,
   "metadata": {},
   "outputs": [
    {
     "data": {
      "text/html": [
       "<table>\n",
       "<tbody>\n",
       "\t<tr><td>1 </td><td>4 </td><td>7 </td><td>10</td></tr>\n",
       "\t<tr><td>2 </td><td>5 </td><td>8 </td><td>11</td></tr>\n",
       "\t<tr><td>3 </td><td>6 </td><td>9 </td><td>12</td></tr>\n",
       "</tbody>\n",
       "</table>\n"
      ],
      "text/latex": [
       "\\begin{tabular}{llll}\n",
       "\t 1  & 4  & 7  & 10\\\\\n",
       "\t 2  & 5  & 8  & 11\\\\\n",
       "\t 3  & 6  & 9  & 12\\\\\n",
       "\\end{tabular}\n"
      ],
      "text/markdown": [
       "\n",
       "| 1  | 4  | 7  | 10 |\n",
       "| 2  | 5  | 8  | 11 |\n",
       "| 3  | 6  | 9  | 12 |\n",
       "\n"
      ],
      "text/plain": [
       "     [,1] [,2] [,3] [,4]\n",
       "[1,] 1    4    7    10  \n",
       "[2,] 2    5    8    11  \n",
       "[3,] 3    6    9    12  "
      ]
     },
     "metadata": {},
     "output_type": "display_data"
    }
   ],
   "source": [
    "x"
   ]
  },
  {
   "cell_type": "code",
   "execution_count": 36,
   "metadata": {},
   "outputs": [],
   "source": [
    "rownames(x) <- c('nikhil','ajay','sachin')"
   ]
  },
  {
   "cell_type": "code",
   "execution_count": 37,
   "metadata": {},
   "outputs": [],
   "source": [
    "colnames(x) <- c('a','b','c','d')"
   ]
  },
  {
   "cell_type": "code",
   "execution_count": 38,
   "metadata": {},
   "outputs": [
    {
     "data": {
      "text/html": [
       "<table>\n",
       "<thead><tr><th></th><th scope=col>a</th><th scope=col>b</th><th scope=col>c</th><th scope=col>d</th></tr></thead>\n",
       "<tbody>\n",
       "\t<tr><th scope=row>nikhil</th><td>1 </td><td>4 </td><td>7 </td><td>10</td></tr>\n",
       "\t<tr><th scope=row>ajay</th><td>2 </td><td>5 </td><td>8 </td><td>11</td></tr>\n",
       "\t<tr><th scope=row>sachin</th><td>3 </td><td>6 </td><td>9 </td><td>12</td></tr>\n",
       "</tbody>\n",
       "</table>\n"
      ],
      "text/latex": [
       "\\begin{tabular}{r|llll}\n",
       "  & a & b & c & d\\\\\n",
       "\\hline\n",
       "\tnikhil & 1  & 4  & 7  & 10\\\\\n",
       "\tajay & 2  & 5  & 8  & 11\\\\\n",
       "\tsachin & 3  & 6  & 9  & 12\\\\\n",
       "\\end{tabular}\n"
      ],
      "text/markdown": [
       "\n",
       "| <!--/--> | a | b | c | d |\n",
       "|---|---|---|---|---|\n",
       "| nikhil | 1  | 4  | 7  | 10 |\n",
       "| ajay | 2  | 5  | 8  | 11 |\n",
       "| sachin | 3  | 6  | 9  | 12 |\n",
       "\n"
      ],
      "text/plain": [
       "       a b c d \n",
       "nikhil 1 4 7 10\n",
       "ajay   2 5 8 11\n",
       "sachin 3 6 9 12"
      ]
     },
     "metadata": {},
     "output_type": "display_data"
    }
   ],
   "source": [
    "x"
   ]
  },
  {
   "cell_type": "code",
   "execution_count": 43,
   "metadata": {},
   "outputs": [
    {
     "data": {
      "image/png": "[encoded data removed]",
      "text/plain": [
       "plot without title"
      ]
     },
     "metadata": {},
     "output_type": "display_data"
    }
   ],
   "source": [
    "barplot(x,col=c(3,4,7))"
   ]
  },
  {
   "cell_type": "code",
   "execution_count": 44,
   "metadata": {},
   "outputs": [],
   "source": [
    "df = data.frame(\n",
    "    Names = c('bharat','nikita','keyur','ajay','yukta','prince','prerna','sachin','nikhil'),\n",
    "    Age  = c(23,22,23,21,34,32,23,22,34),\n",
    "    Math = sample(50:70,9),\n",
    "    Phy = sample(50:70,9),\n",
    "    Chem = sample(50:70,9),\n",
    "    Sex  = sample(factor(c('male','female')),9,replace = T)\n",
    "\n",
    "\n",
    ")"
   ]
  },
  {
   "cell_type": "code",
   "execution_count": 45,
   "metadata": {},
   "outputs": [
    {
     "data": {
      "text/html": [
       "<table>\n",
       "<thead><tr><th scope=col>Names</th><th scope=col>Age</th><th scope=col>Math</th><th scope=col>Phy</th><th scope=col>Chem</th><th scope=col>Sex</th></tr></thead>\n",
       "<tbody>\n",
       "\t<tr><td>bharat</td><td>23    </td><td>69    </td><td>52    </td><td>64    </td><td>male  </td></tr>\n",
       "\t<tr><td>nikita</td><td>22    </td><td>61    </td><td>51    </td><td>58    </td><td>male  </td></tr>\n",
       "\t<tr><td>keyur </td><td>23    </td><td>55    </td><td>56    </td><td>52    </td><td>male  </td></tr>\n",
       "\t<tr><td>ajay  </td><td>21    </td><td>70    </td><td>59    </td><td>55    </td><td>female</td></tr>\n",
       "\t<tr><td>yukta </td><td>34    </td><td>60    </td><td>50    </td><td>51    </td><td>female</td></tr>\n",
       "\t<tr><td>prince</td><td>32    </td><td>57    </td><td>63    </td><td>53    </td><td>male  </td></tr>\n",
       "\t<tr><td>prerna</td><td>23    </td><td>64    </td><td>55    </td><td>65    </td><td>male  </td></tr>\n",
       "\t<tr><td>sachin</td><td>22    </td><td>52    </td><td>58    </td><td>61    </td><td>female</td></tr>\n",
       "\t<tr><td>nikhil</td><td>34    </td><td>62    </td><td>60    </td><td>54    </td><td>female</td></tr>\n",
       "</tbody>\n",
       "</table>\n"
      ],
      "text/latex": [
       "\\begin{tabular}{r|llllll}\n",
       " Names & Age & Math & Phy & Chem & Sex\\\\\n",
       "\\hline\n",
       "\t bharat & 23     & 69     & 52     & 64     & male  \\\\\n",
       "\t nikita & 22     & 61     & 51     & 58     & male  \\\\\n",
       "\t keyur  & 23     & 55     & 56     & 52     & male  \\\\\n",
       "\t ajay   & 21     & 70     & 59     & 55     & female\\\\\n",
       "\t yukta  & 34     & 60     & 50     & 51     & female\\\\\n",
       "\t prince & 32     & 57     & 63     & 53     & male  \\\\\n",
       "\t prerna & 23     & 64     & 55     & 65     & male  \\\\\n",
       "\t sachin & 22     & 52     & 58     & 61     & female\\\\\n",
       "\t nikhil & 34     & 62     & 60     & 54     & female\\\\\n",
       "\\end{tabular}\n"
      ],
      "text/markdown": [
       "\n",
       "| Names | Age | Math | Phy | Chem | Sex |\n",
       "|---|---|---|---|---|---|\n",
       "| bharat | 23     | 69     | 52     | 64     | male   |\n",
       "| nikita | 22     | 61     | 51     | 58     | male   |\n",
       "| keyur  | 23     | 55     | 56     | 52     | male   |\n",
       "| ajay   | 21     | 70     | 59     | 55     | female |\n",
       "| yukta  | 34     | 60     | 50     | 51     | female |\n",
       "| prince | 32     | 57     | 63     | 53     | male   |\n",
       "| prerna | 23     | 64     | 55     | 65     | male   |\n",
       "| sachin | 22     | 52     | 58     | 61     | female |\n",
       "| nikhil | 34     | 62     | 60     | 54     | female |\n",
       "\n"
      ],
      "text/plain": [
       "  Names  Age Math Phy Chem Sex   \n",
       "1 bharat 23  69   52  64   male  \n",
       "2 nikita 22  61   51  58   male  \n",
       "3 keyur  23  55   56  52   male  \n",
       "4 ajay   21  70   59  55   female\n",
       "5 yukta  34  60   50  51   female\n",
       "6 prince 32  57   63  53   male  \n",
       "7 prerna 23  64   55  65   male  \n",
       "8 sachin 22  52   58  61   female\n",
       "9 nikhil 34  62   60  54   female"
      ]
     },
     "metadata": {},
     "output_type": "display_data"
    }
   ],
   "source": [
    "df"
   ]
  },
  {
   "cell_type": "code",
   "execution_count": 47,
   "metadata": {},
   "outputs": [
    {
     "data": {
      "text/html": [
       "<table>\n",
       "<thead><tr><th scope=col>Names</th><th scope=col>Age</th><th scope=col>Math</th><th scope=col>Phy</th><th scope=col>Chem</th><th scope=col>Sex</th></tr></thead>\n",
       "<tbody>\n",
       "\t<tr><td>bharat</td><td>23    </td><td>69    </td><td>52    </td><td>64    </td><td>male  </td></tr>\n",
       "\t<tr><td>nikita</td><td>22    </td><td>61    </td><td>51    </td><td>58    </td><td>male  </td></tr>\n",
       "\t<tr><td>keyur </td><td>23    </td><td>55    </td><td>56    </td><td>52    </td><td>male  </td></tr>\n",
       "\t<tr><td>ajay  </td><td>21    </td><td>70    </td><td>59    </td><td>55    </td><td>female</td></tr>\n",
       "\t<tr><td>yukta </td><td>34    </td><td>60    </td><td>50    </td><td>51    </td><td>female</td></tr>\n",
       "</tbody>\n",
       "</table>\n"
      ],
      "text/latex": [
       "\\begin{tabular}{r|llllll}\n",
       " Names & Age & Math & Phy & Chem & Sex\\\\\n",
       "\\hline\n",
       "\t bharat & 23     & 69     & 52     & 64     & male  \\\\\n",
       "\t nikita & 22     & 61     & 51     & 58     & male  \\\\\n",
       "\t keyur  & 23     & 55     & 56     & 52     & male  \\\\\n",
       "\t ajay   & 21     & 70     & 59     & 55     & female\\\\\n",
       "\t yukta  & 34     & 60     & 50     & 51     & female\\\\\n",
       "\\end{tabular}\n"
      ],
      "text/markdown": [
       "\n",
       "| Names | Age | Math | Phy | Chem | Sex |\n",
       "|---|---|---|---|---|---|\n",
       "| bharat | 23     | 69     | 52     | 64     | male   |\n",
       "| nikita | 22     | 61     | 51     | 58     | male   |\n",
       "| keyur  | 23     | 55     | 56     | 52     | male   |\n",
       "| ajay   | 21     | 70     | 59     | 55     | female |\n",
       "| yukta  | 34     | 60     | 50     | 51     | female |\n",
       "\n"
      ],
      "text/plain": [
       "  Names  Age Math Phy Chem Sex   \n",
       "1 bharat 23  69   52  64   male  \n",
       "2 nikita 22  61   51  58   male  \n",
       "3 keyur  23  55   56  52   male  \n",
       "4 ajay   21  70   59  55   female\n",
       "5 yukta  34  60   50  51   female"
      ]
     },
     "metadata": {},
     "output_type": "display_data"
    }
   ],
   "source": [
    "df[1:5,]"
   ]
  },
  {
   "cell_type": "code",
   "execution_count": 52,
   "metadata": {},
   "outputs": [
    {
     "ename": "ERROR",
     "evalue": "Error in barplot.default(df[1:7, c(\"Math\", \"Chem\", \"Phy\")]): 'height' must be a vector or a matrix\n",
     "output_type": "error",
     "traceback": [
      "Error in barplot.default(df[1:7, c(\"Math\", \"Chem\", \"Phy\")]): 'height' must be a vector or a matrix\nTraceback:\n",
      "1. barplot(df[1:7, c(\"Math\", \"Chem\", \"Phy\")])",
      "2. barplot.default(df[1:7, c(\"Math\", \"Chem\", \"Phy\")])",
      "3. stop(\"'height' must be a vector or a matrix\")"
     ]
    }
   ],
   "source": [
    "barplot(df[1:7,c(\"Math\",'Chem','Phy')])"
   ]
  },
  {
   "cell_type": "code",
   "execution_count": 59,
   "metadata": {},
   "outputs": [
    {
     "data": {
      "image/png": "[encoded data removed]",
      "text/plain": [
       "plot without title"
      ]
     },
     "metadata": {},
     "output_type": "display_data"
    }
   ],
   "source": [
    "barplot(table(df$Sex),col=1:4)"
   ]
  },
  {
   "cell_type": "code",
   "execution_count": 63,
   "metadata": {},
   "outputs": [
    {
     "data": {
      "text/html": [
       "<table>\n",
       "<thead><tr><th scope=col>Names</th><th scope=col>Age</th><th scope=col>Math</th><th scope=col>Phy</th><th scope=col>Chem</th><th scope=col>Sex</th></tr></thead>\n",
       "<tbody>\n",
       "\t<tr><td>bharat</td><td>23    </td><td>69    </td><td>52    </td><td>64    </td><td>male  </td></tr>\n",
       "\t<tr><td>nikita</td><td>22    </td><td>61    </td><td>51    </td><td>58    </td><td>male  </td></tr>\n",
       "\t<tr><td>keyur </td><td>23    </td><td>55    </td><td>56    </td><td>52    </td><td>male  </td></tr>\n",
       "\t<tr><td>ajay  </td><td>21    </td><td>70    </td><td>59    </td><td>55    </td><td>female</td></tr>\n",
       "\t<tr><td>yukta </td><td>34    </td><td>60    </td><td>50    </td><td>51    </td><td>female</td></tr>\n",
       "\t<tr><td>prince</td><td>32    </td><td>57    </td><td>63    </td><td>53    </td><td>male  </td></tr>\n",
       "\t<tr><td>prerna</td><td>23    </td><td>64    </td><td>55    </td><td>65    </td><td>male  </td></tr>\n",
       "\t<tr><td>sachin</td><td>22    </td><td>52    </td><td>58    </td><td>61    </td><td>female</td></tr>\n",
       "\t<tr><td>nikhil</td><td>34    </td><td>62    </td><td>60    </td><td>54    </td><td>female</td></tr>\n",
       "</tbody>\n",
       "</table>\n"
      ],
      "text/latex": [
       "\\begin{tabular}{r|llllll}\n",
       " Names & Age & Math & Phy & Chem & Sex\\\\\n",
       "\\hline\n",
       "\t bharat & 23     & 69     & 52     & 64     & male  \\\\\n",
       "\t nikita & 22     & 61     & 51     & 58     & male  \\\\\n",
       "\t keyur  & 23     & 55     & 56     & 52     & male  \\\\\n",
       "\t ajay   & 21     & 70     & 59     & 55     & female\\\\\n",
       "\t yukta  & 34     & 60     & 50     & 51     & female\\\\\n",
       "\t prince & 32     & 57     & 63     & 53     & male  \\\\\n",
       "\t prerna & 23     & 64     & 55     & 65     & male  \\\\\n",
       "\t sachin & 22     & 52     & 58     & 61     & female\\\\\n",
       "\t nikhil & 34     & 62     & 60     & 54     & female\\\\\n",
       "\\end{tabular}\n"
      ],
      "text/markdown": [
       "\n",
       "| Names | Age | Math | Phy | Chem | Sex |\n",
       "|---|---|---|---|---|---|\n",
       "| bharat | 23     | 69     | 52     | 64     | male   |\n",
       "| nikita | 22     | 61     | 51     | 58     | male   |\n",
       "| keyur  | 23     | 55     | 56     | 52     | male   |\n",
       "| ajay   | 21     | 70     | 59     | 55     | female |\n",
       "| yukta  | 34     | 60     | 50     | 51     | female |\n",
       "| prince | 32     | 57     | 63     | 53     | male   |\n",
       "| prerna | 23     | 64     | 55     | 65     | male   |\n",
       "| sachin | 22     | 52     | 58     | 61     | female |\n",
       "| nikhil | 34     | 62     | 60     | 54     | female |\n",
       "\n"
      ],
      "text/plain": [
       "  Names  Age Math Phy Chem Sex   \n",
       "1 bharat 23  69   52  64   male  \n",
       "2 nikita 22  61   51  58   male  \n",
       "3 keyur  23  55   56  52   male  \n",
       "4 ajay   21  70   59  55   female\n",
       "5 yukta  34  60   50  51   female\n",
       "6 prince 32  57   63  53   male  \n",
       "7 prerna 23  64   55  65   male  \n",
       "8 sachin 22  52   58  61   female\n",
       "9 nikhil 34  62   60  54   female"
      ]
     },
     "metadata": {},
     "output_type": "display_data"
    }
   ],
   "source": [
    "df"
   ]
  },
  {
   "cell_type": "code",
   "execution_count": 70,
   "metadata": {},
   "outputs": [],
   "source": [
    "dff <- subset(df[,2:5])"
   ]
  },
  {
   "cell_type": "code",
   "execution_count": 73,
   "metadata": {},
   "outputs": [
    {
     "data": {
      "text/html": [
       "<table>\n",
       "<thead><tr><th scope=col>Age</th><th scope=col>Math</th><th scope=col>Phy</th><th scope=col>Chem</th></tr></thead>\n",
       "<tbody>\n",
       "\t<tr><td>23</td><td>69</td><td>52</td><td>64</td></tr>\n",
       "\t<tr><td>22</td><td>61</td><td>51</td><td>58</td></tr>\n",
       "\t<tr><td>23</td><td>55</td><td>56</td><td>52</td></tr>\n",
       "\t<tr><td>21</td><td>70</td><td>59</td><td>55</td></tr>\n",
       "\t<tr><td>34</td><td>60</td><td>50</td><td>51</td></tr>\n",
       "\t<tr><td>32</td><td>57</td><td>63</td><td>53</td></tr>\n",
       "</tbody>\n",
       "</table>\n"
      ],
      "text/latex": [
       "\\begin{tabular}{r|llll}\n",
       " Age & Math & Phy & Chem\\\\\n",
       "\\hline\n",
       "\t 23 & 69 & 52 & 64\\\\\n",
       "\t 22 & 61 & 51 & 58\\\\\n",
       "\t 23 & 55 & 56 & 52\\\\\n",
       "\t 21 & 70 & 59 & 55\\\\\n",
       "\t 34 & 60 & 50 & 51\\\\\n",
       "\t 32 & 57 & 63 & 53\\\\\n",
       "\\end{tabular}\n"
      ],
      "text/markdown": [
       "\n",
       "| Age | Math | Phy | Chem |\n",
       "|---|---|---|---|\n",
       "| 23 | 69 | 52 | 64 |\n",
       "| 22 | 61 | 51 | 58 |\n",
       "| 23 | 55 | 56 | 52 |\n",
       "| 21 | 70 | 59 | 55 |\n",
       "| 34 | 60 | 50 | 51 |\n",
       "| 32 | 57 | 63 | 53 |\n",
       "\n"
      ],
      "text/plain": [
       "  Age Math Phy Chem\n",
       "1 23  69   52  64  \n",
       "2 22  61   51  58  \n",
       "3 23  55   56  52  \n",
       "4 21  70   59  55  \n",
       "5 34  60   50  51  \n",
       "6 32  57   63  53  "
      ]
     },
     "metadata": {},
     "output_type": "display_data"
    }
   ],
   "source": [
    "head(dff)"
   ]
  },
  {
   "cell_type": "code",
   "execution_count": 78,
   "metadata": {},
   "outputs": [
    {
     "data": {
      "text/html": [
       "9"
      ],
      "text/latex": [
       "9"
      ],
      "text/markdown": [
       "9"
      ],
      "text/plain": [
       "[1] 9"
      ]
     },
     "metadata": {},
     "output_type": "display_data"
    }
   ],
   "source": [
    "nrow(dff)"
   ]
  },
  {
   "cell_type": "code",
   "execution_count": 79,
   "metadata": {},
   "outputs": [
    {
     "data": {
      "text/html": [
       "4"
      ],
      "text/latex": [
       "4"
      ],
      "text/markdown": [
       "4"
      ],
      "text/plain": [
       "[1] 4"
      ]
     },
     "metadata": {},
     "output_type": "display_data"
    }
   ],
   "source": [
    "ncol(dff)"
   ]
  },
  {
   "cell_type": "code",
   "execution_count": 80,
   "metadata": {},
   "outputs": [],
   "source": [
    "rownames(dff) <- c('bharat','nikita','keyur','ajay','yukta','prince','prerna','sachin','nikhil')"
   ]
  },
  {
   "cell_type": "code",
   "execution_count": 84,
   "metadata": {},
   "outputs": [
    {
     "data": {
      "image/png": "[encoded data removed]",
      "text/plain": [
       "plot without title"
      ]
     },
     "metadata": {},
     "output_type": "display_data"
    }
   ],
   "source": [
    "barplot(rowMeans(dff),col=1:9)"
   ]
  },
  {
   "cell_type": "code",
   "execution_count": 87,
   "metadata": {},
   "outputs": [
    {
     "data": {
      "text/html": [
       "<table>\n",
       "<thead><tr><th></th><th scope=col>Age</th><th scope=col>Math</th><th scope=col>Chem</th></tr></thead>\n",
       "<tbody>\n",
       "\t<tr><th scope=row>4</th><td>21</td><td>70</td><td>55</td></tr>\n",
       "\t<tr><th scope=row>5</th><td>34</td><td>60</td><td>51</td></tr>\n",
       "\t<tr><th scope=row>6</th><td>32</td><td>57</td><td>53</td></tr>\n",
       "\t<tr><th scope=row>7</th><td>23</td><td>64</td><td>65</td></tr>\n",
       "</tbody>\n",
       "</table>\n"
      ],
      "text/latex": [
       "\\begin{tabular}{r|lll}\n",
       "  & Age & Math & Chem\\\\\n",
       "\\hline\n",
       "\t4 & 21 & 70 & 55\\\\\n",
       "\t5 & 34 & 60 & 51\\\\\n",
       "\t6 & 32 & 57 & 53\\\\\n",
       "\t7 & 23 & 64 & 65\\\\\n",
       "\\end{tabular}\n"
      ],
      "text/markdown": [
       "\n",
       "| <!--/--> | Age | Math | Chem |\n",
       "|---|---|---|---|\n",
       "| 4 | 21 | 70 | 55 |\n",
       "| 5 | 34 | 60 | 51 |\n",
       "| 6 | 32 | 57 | 53 |\n",
       "| 7 | 23 | 64 | 65 |\n",
       "\n"
      ],
      "text/plain": [
       "  Age Math Chem\n",
       "4 21  70   55  \n",
       "5 34  60   51  \n",
       "6 32  57   53  \n",
       "7 23  64   65  "
      ]
     },
     "metadata": {},
     "output_type": "display_data"
    }
   ],
   "source": [
    "df[4:7,c('Age','Math','Chem')]"
   ]
  },
  {
   "cell_type": "code",
   "execution_count": 98,
   "metadata": {},
   "outputs": [
    {
     "data": {
      "text/html": [
       "<table>\n",
       "<thead><tr><th></th><th scope=col>a</th><th scope=col>b</th><th scope=col>c</th><th scope=col>d</th></tr></thead>\n",
       "<tbody>\n",
       "\t<tr><th scope=row>nikhil</th><td>1 </td><td>4 </td><td>7 </td><td>10</td></tr>\n",
       "\t<tr><th scope=row>ajay</th><td>2 </td><td>5 </td><td>8 </td><td>11</td></tr>\n",
       "\t<tr><th scope=row>sachin</th><td>3 </td><td>6 </td><td>9 </td><td>12</td></tr>\n",
       "</tbody>\n",
       "</table>\n"
      ],
      "text/latex": [
       "\\begin{tabular}{r|llll}\n",
       "  & a & b & c & d\\\\\n",
       "\\hline\n",
       "\tnikhil & 1  & 4  & 7  & 10\\\\\n",
       "\tajay & 2  & 5  & 8  & 11\\\\\n",
       "\tsachin & 3  & 6  & 9  & 12\\\\\n",
       "\\end{tabular}\n"
      ],
      "text/markdown": [
       "\n",
       "| <!--/--> | a | b | c | d |\n",
       "|---|---|---|---|---|\n",
       "| nikhil | 1  | 4  | 7  | 10 |\n",
       "| ajay | 2  | 5  | 8  | 11 |\n",
       "| sachin | 3  | 6  | 9  | 12 |\n",
       "\n"
      ],
      "text/plain": [
       "       a b c d \n",
       "nikhil 1 4 7 10\n",
       "ajay   2 5 8 11\n",
       "sachin 3 6 9 12"
      ]
     },
     "metadata": {},
     "output_type": "display_data"
    }
   ],
   "source": [
    "x"
   ]
  },
  {
   "cell_type": "code",
   "execution_count": 101,
   "metadata": {},
   "outputs": [
    {
     "data": {
      "image/png": "[encoded data removed]",
      "text/plain": [
       "plot without title"
      ]
     },
     "metadata": {},
     "output_type": "display_data"
    }
   ],
   "source": [
    "pie(x)"
   ]
  },
  {
   "cell_type": "code",
   "execution_count": 105,
   "metadata": {},
   "outputs": [
    {
     "data": {
      "image/png": "[encoded data removed]",
      "text/plain": [
       "Plot with title \"mean of students\""
      ]
     },
     "metadata": {},
     "output_type": "display_data"
    }
   ],
   "source": [
    "pie(rowMeans(dff),main = \"mean of students\",)"
   ]
  },
  {
   "cell_type": "code",
   "execution_count": null,
   "metadata": {},
   "outputs": [],
   "source": []
  }
 ],
 "metadata": {
  "kernelspec": {
   "display_name": "R",
   "language": "R",
   "name": "ir"
  },
  "language_info": {
   "codemirror_mode": "r",
   "file_extension": ".r",
   "mimetype": "text/x-r-source",
   "name": "R",
   "pygments_lexer": "r",
   "version": "3.6.1"
  }
 },
 "nbformat": 4,
 "nbformat_minor": 2
}
